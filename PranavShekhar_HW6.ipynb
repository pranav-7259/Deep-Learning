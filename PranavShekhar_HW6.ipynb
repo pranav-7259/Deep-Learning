{
  "nbformat": 4,
  "nbformat_minor": 0,
  "metadata": {
    "colab": {
      "provenance": [],
      "collapsed_sections": []
    },
    "kernelspec": {
      "name": "python3",
      "display_name": "Python 3"
    },
    "language_info": {
      "name": "python"
    },
    "accelerator": "GPU",
    "gpuClass": "standard",
    "widgets": {
      "application/vnd.jupyter.widget-state+json": {
        "ddaa051072464c16bc56aa9158b2c8f6": {
          "model_module": "@jupyter-widgets/controls",
          "model_name": "VBoxModel",
          "model_module_version": "1.5.0",
          "state": {
            "_dom_classes": [],
            "_model_module": "@jupyter-widgets/controls",
            "_model_module_version": "1.5.0",
            "_model_name": "VBoxModel",
            "_view_count": null,
            "_view_module": "@jupyter-widgets/controls",
            "_view_module_version": "1.5.0",
            "_view_name": "VBoxView",
            "box_style": "",
            "children": [
              "IPY_MODEL_e2fad32ad5544f4c945149cf6213707f",
              "IPY_MODEL_4fb508400f804a7190a2b7b10cf282cd"
            ],
            "layout": "IPY_MODEL_8686f70c849845a08531854c33e288bb"
          }
        },
        "e2fad32ad5544f4c945149cf6213707f": {
          "model_module": "@jupyter-widgets/controls",
          "model_name": "LabelModel",
          "model_module_version": "1.5.0",
          "state": {
            "_dom_classes": [],
            "_model_module": "@jupyter-widgets/controls",
            "_model_module_version": "1.5.0",
            "_model_name": "LabelModel",
            "_view_count": null,
            "_view_module": "@jupyter-widgets/controls",
            "_view_module_version": "1.5.0",
            "_view_name": "LabelView",
            "description": "",
            "description_tooltip": null,
            "layout": "IPY_MODEL_faecbf31e84d41808b0bb31328320123",
            "placeholder": "​",
            "style": "IPY_MODEL_4f60130c397545b295b493a244b1db3d",
            "value": "0.001 MB of 0.009 MB uploaded (0.000 MB deduped)\r"
          }
        },
        "4fb508400f804a7190a2b7b10cf282cd": {
          "model_module": "@jupyter-widgets/controls",
          "model_name": "FloatProgressModel",
          "model_module_version": "1.5.0",
          "state": {
            "_dom_classes": [],
            "_model_module": "@jupyter-widgets/controls",
            "_model_module_version": "1.5.0",
            "_model_name": "FloatProgressModel",
            "_view_count": null,
            "_view_module": "@jupyter-widgets/controls",
            "_view_module_version": "1.5.0",
            "_view_name": "ProgressView",
            "bar_style": "",
            "description": "",
            "description_tooltip": null,
            "layout": "IPY_MODEL_f1e56d175d764b9f893da9e74813772f",
            "max": 1,
            "min": 0,
            "orientation": "horizontal",
            "style": "IPY_MODEL_ec1c7b878dec4dab89c12dc76795a8f7",
            "value": 0.07979394449116906
          }
        },
        "8686f70c849845a08531854c33e288bb": {
          "model_module": "@jupyter-widgets/base",
          "model_name": "LayoutModel",
          "model_module_version": "1.2.0",
          "state": {
            "_model_module": "@jupyter-widgets/base",
            "_model_module_version": "1.2.0",
            "_model_name": "LayoutModel",
            "_view_count": null,
            "_view_module": "@jupyter-widgets/base",
            "_view_module_version": "1.2.0",
            "_view_name": "LayoutView",
            "align_content": null,
            "align_items": null,
            "align_self": null,
            "border": null,
            "bottom": null,
            "display": null,
            "flex": null,
            "flex_flow": null,
            "grid_area": null,
            "grid_auto_columns": null,
            "grid_auto_flow": null,
            "grid_auto_rows": null,
            "grid_column": null,
            "grid_gap": null,
            "grid_row": null,
            "grid_template_areas": null,
            "grid_template_columns": null,
            "grid_template_rows": null,
            "height": null,
            "justify_content": null,
            "justify_items": null,
            "left": null,
            "margin": null,
            "max_height": null,
            "max_width": null,
            "min_height": null,
            "min_width": null,
            "object_fit": null,
            "object_position": null,
            "order": null,
            "overflow": null,
            "overflow_x": null,
            "overflow_y": null,
            "padding": null,
            "right": null,
            "top": null,
            "visibility": null,
            "width": null
          }
        },
        "faecbf31e84d41808b0bb31328320123": {
          "model_module": "@jupyter-widgets/base",
          "model_name": "LayoutModel",
          "model_module_version": "1.2.0",
          "state": {
            "_model_module": "@jupyter-widgets/base",
            "_model_module_version": "1.2.0",
            "_model_name": "LayoutModel",
            "_view_count": null,
            "_view_module": "@jupyter-widgets/base",
            "_view_module_version": "1.2.0",
            "_view_name": "LayoutView",
            "align_content": null,
            "align_items": null,
            "align_self": null,
            "border": null,
            "bottom": null,
            "display": null,
            "flex": null,
            "flex_flow": null,
            "grid_area": null,
            "grid_auto_columns": null,
            "grid_auto_flow": null,
            "grid_auto_rows": null,
            "grid_column": null,
            "grid_gap": null,
            "grid_row": null,
            "grid_template_areas": null,
            "grid_template_columns": null,
            "grid_template_rows": null,
            "height": null,
            "justify_content": null,
            "justify_items": null,
            "left": null,
            "margin": null,
            "max_height": null,
            "max_width": null,
            "min_height": null,
            "min_width": null,
            "object_fit": null,
            "object_position": null,
            "order": null,
            "overflow": null,
            "overflow_x": null,
            "overflow_y": null,
            "padding": null,
            "right": null,
            "top": null,
            "visibility": null,
            "width": null
          }
        },
        "4f60130c397545b295b493a244b1db3d": {
          "model_module": "@jupyter-widgets/controls",
          "model_name": "DescriptionStyleModel",
          "model_module_version": "1.5.0",
          "state": {
            "_model_module": "@jupyter-widgets/controls",
            "_model_module_version": "1.5.0",
            "_model_name": "DescriptionStyleModel",
            "_view_count": null,
            "_view_module": "@jupyter-widgets/base",
            "_view_module_version": "1.2.0",
            "_view_name": "StyleView",
            "description_width": ""
          }
        },
        "f1e56d175d764b9f893da9e74813772f": {
          "model_module": "@jupyter-widgets/base",
          "model_name": "LayoutModel",
          "model_module_version": "1.2.0",
          "state": {
            "_model_module": "@jupyter-widgets/base",
            "_model_module_version": "1.2.0",
            "_model_name": "LayoutModel",
            "_view_count": null,
            "_view_module": "@jupyter-widgets/base",
            "_view_module_version": "1.2.0",
            "_view_name": "LayoutView",
            "align_content": null,
            "align_items": null,
            "align_self": null,
            "border": null,
            "bottom": null,
            "display": null,
            "flex": null,
            "flex_flow": null,
            "grid_area": null,
            "grid_auto_columns": null,
            "grid_auto_flow": null,
            "grid_auto_rows": null,
            "grid_column": null,
            "grid_gap": null,
            "grid_row": null,
            "grid_template_areas": null,
            "grid_template_columns": null,
            "grid_template_rows": null,
            "height": null,
            "justify_content": null,
            "justify_items": null,
            "left": null,
            "margin": null,
            "max_height": null,
            "max_width": null,
            "min_height": null,
            "min_width": null,
            "object_fit": null,
            "object_position": null,
            "order": null,
            "overflow": null,
            "overflow_x": null,
            "overflow_y": null,
            "padding": null,
            "right": null,
            "top": null,
            "visibility": null,
            "width": null
          }
        },
        "ec1c7b878dec4dab89c12dc76795a8f7": {
          "model_module": "@jupyter-widgets/controls",
          "model_name": "ProgressStyleModel",
          "model_module_version": "1.5.0",
          "state": {
            "_model_module": "@jupyter-widgets/controls",
            "_model_module_version": "1.5.0",
            "_model_name": "ProgressStyleModel",
            "_view_count": null,
            "_view_module": "@jupyter-widgets/base",
            "_view_module_version": "1.2.0",
            "_view_name": "StyleView",
            "bar_color": null,
            "description_width": ""
          }
        }
      }
    }
  },
  "cells": [
    {
      "cell_type": "markdown",
      "source": [
        "# <Font color = 'pickle'>**Load Libraries/Install Software**\n"
      ],
      "metadata": {
        "id": "LdO1_wMkXp3P"
      }
    },
    {
      "cell_type": "code",
      "execution_count": null,
      "metadata": {
        "colab": {
          "base_uri": "https://localhost:8080/"
        },
        "id": "2lx5tU8ZXVmm",
        "outputId": "36b4bf43-5ac4-444a-b021-8d743f0e20f3"
      },
      "outputs": [
        {
          "output_type": "stream",
          "name": "stdout",
          "text": [
            "Running on Colab\n"
          ]
        }
      ],
      "source": [
        "if 'google.colab' in str(get_ipython()):\n",
        "  print('Running on Colab')\n",
        "else:\n",
        "  print('Not running on Colab')"
      ]
    },
    {
      "cell_type": "code",
      "source": [
        "if 'google.colab' in str(get_ipython()):\n",
        "  !pip install wandb --upgrade -q"
      ],
      "metadata": {
        "colab": {
          "base_uri": "https://localhost:8080/"
        },
        "id": "B8QgnZdAX0lZ",
        "outputId": "0fe90b0f-cd23-46bb-ca35-974678b675b3"
      },
      "execution_count": null,
      "outputs": [
        {
          "output_type": "stream",
          "name": "stdout",
          "text": [
            "\u001b[K     |████████████████████████████████| 1.9 MB 27.3 MB/s \n",
            "\u001b[K     |████████████████████████████████| 182 kB 17.7 MB/s \n",
            "\u001b[K     |████████████████████████████████| 166 kB 49.7 MB/s \n",
            "\u001b[K     |████████████████████████████████| 63 kB 1.8 MB/s \n",
            "\u001b[K     |████████████████████████████████| 166 kB 49.4 MB/s \n",
            "\u001b[K     |████████████████████████████████| 162 kB 72.0 MB/s \n",
            "\u001b[K     |████████████████████████████████| 162 kB 72.4 MB/s \n",
            "\u001b[K     |████████████████████████████████| 158 kB 71.6 MB/s \n",
            "\u001b[K     |████████████████████████████████| 157 kB 72.9 MB/s \n",
            "\u001b[K     |████████████████████████████████| 157 kB 68.6 MB/s \n",
            "\u001b[K     |████████████████████████████████| 157 kB 70.8 MB/s \n",
            "\u001b[K     |████████████████████████████████| 157 kB 70.4 MB/s \n",
            "\u001b[K     |████████████████████████████████| 157 kB 72.4 MB/s \n",
            "\u001b[K     |████████████████████████████████| 157 kB 69.1 MB/s \n",
            "\u001b[K     |████████████████████████████████| 157 kB 75.2 MB/s \n",
            "\u001b[K     |████████████████████████████████| 156 kB 71.1 MB/s \n",
            "\u001b[?25h  Building wheel for pathtools (setup.py) ... \u001b[?25l\u001b[?25hdone\n"
          ]
        }
      ]
    },
    {
      "cell_type": "code",
      "source": [
        "if 'google.colab' in str(get_ipython()):\n",
        "  from google.colab import drive\n",
        "  drive.mount('/content/drive')"
      ],
      "metadata": {
        "colab": {
          "base_uri": "https://localhost:8080/"
        },
        "id": "8Nkhud2hYNN8",
        "outputId": "54495efb-3cc8-4cc8-dbf8-515ca4afa6b7"
      },
      "execution_count": null,
      "outputs": [
        {
          "output_type": "stream",
          "name": "stdout",
          "text": [
            "Mounted at /content/drive\n"
          ]
        }
      ]
    },
    {
      "cell_type": "code",
      "source": [
        "#Importing the libraries\n",
        "\n",
        "import torch\n",
        "import torch.nn as nn\n",
        "import torchvision\n",
        "import torchvision.transforms as transforms\n",
        "import torch.nn.functional as F\n",
        "\n",
        "from torch.optim.lr_scheduler import ReduceLROnPlateau, OneCycleLR, CyclicLR, ExponentialLR\n",
        "\n",
        "import numpy as np\n",
        "import random\n",
        "\n",
        "from datetime import datetime\n",
        "from pathlib import Path\n",
        "import sys\n",
        "from types import SimpleNamespace\n",
        "\n",
        "import wandb"
      ],
      "metadata": {
        "id": "AIVUPtVEYaP3"
      },
      "execution_count": null,
      "outputs": []
    },
    {
      "cell_type": "code",
      "source": [
        "#Login into wandb\n",
        "\n",
        "wandb.login()"
      ],
      "metadata": {
        "colab": {
          "base_uri": "https://localhost:8080/",
          "height": 86
        },
        "id": "DogovlZSZOfi",
        "outputId": "b004bb61-b93b-4433-9f3c-8973a947fab4"
      },
      "execution_count": null,
      "outputs": [
        {
          "output_type": "stream",
          "name": "stderr",
          "text": [
            "ERROR:wandb.jupyter:Failed to detect the name of this notebook, you can set it manually with the WANDB_NOTEBOOK_NAME environment variable to enable code saving.\n"
          ]
        },
        {
          "output_type": "display_data",
          "data": {
            "text/plain": [
              "<IPython.core.display.Javascript object>"
            ],
            "application/javascript": [
              "\n",
              "        window._wandbApiKey = new Promise((resolve, reject) => {\n",
              "            function loadScript(url) {\n",
              "            return new Promise(function(resolve, reject) {\n",
              "                let newScript = document.createElement(\"script\");\n",
              "                newScript.onerror = reject;\n",
              "                newScript.onload = resolve;\n",
              "                document.body.appendChild(newScript);\n",
              "                newScript.src = url;\n",
              "            });\n",
              "            }\n",
              "            loadScript(\"https://cdn.jsdelivr.net/npm/postmate/build/postmate.min.js\").then(() => {\n",
              "            const iframe = document.createElement('iframe')\n",
              "            iframe.style.cssText = \"width:0;height:0;border:none\"\n",
              "            document.body.appendChild(iframe)\n",
              "            const handshake = new Postmate({\n",
              "                container: iframe,\n",
              "                url: 'https://wandb.ai/authorize'\n",
              "            });\n",
              "            const timeout = setTimeout(() => reject(\"Couldn't auto authenticate\"), 5000)\n",
              "            handshake.then(function(child) {\n",
              "                child.on('authorize', data => {\n",
              "                    clearTimeout(timeout)\n",
              "                    resolve(data)\n",
              "                });\n",
              "            });\n",
              "            })\n",
              "        });\n",
              "    "
            ]
          },
          "metadata": {}
        },
        {
          "output_type": "stream",
          "name": "stderr",
          "text": [
            "\u001b[34m\u001b[1mwandb\u001b[0m: Appending key for api.wandb.ai to your netrc file: /root/.netrc\n"
          ]
        },
        {
          "output_type": "execute_result",
          "data": {
            "text/plain": [
              "True"
            ]
          },
          "metadata": {},
          "execution_count": 5
        }
      ]
    },
    {
      "cell_type": "code",
      "source": [
        "wandb.init(name = \"Hw6_CIFAR10.ipynb\", project = 'dl22_HW6')"
      ],
      "metadata": {
        "colab": {
          "base_uri": "https://localhost:8080/",
          "height": 108
        },
        "id": "_VnaQi_4Z-29",
        "outputId": "b3f2e76d-46d0-4410-b5d6-0c075138f863"
      },
      "execution_count": null,
      "outputs": [
        {
          "output_type": "stream",
          "name": "stderr",
          "text": [
            "\u001b[34m\u001b[1mwandb\u001b[0m: Currently logged in as: \u001b[33mpranavshekhar2\u001b[0m. Use \u001b[1m`wandb login --relogin`\u001b[0m to force relogin\n"
          ]
        },
        {
          "output_type": "display_data",
          "data": {
            "text/plain": [
              "<IPython.core.display.HTML object>"
            ],
            "text/html": [
              "Tracking run with wandb version 0.13.5"
            ]
          },
          "metadata": {}
        },
        {
          "output_type": "display_data",
          "data": {
            "text/plain": [
              "<IPython.core.display.HTML object>"
            ],
            "text/html": [
              "Run data is saved locally in <code>/content/wandb/run-20221112_005737-fn8drw2v</code>"
            ]
          },
          "metadata": {}
        },
        {
          "output_type": "display_data",
          "data": {
            "text/plain": [
              "<IPython.core.display.HTML object>"
            ],
            "text/html": [
              "Syncing run <strong><a href=\"https://wandb.ai/pranavshekhar2/dl22_HW6/runs/fn8drw2v\" target=\"_blank\">Hw6_CIFAR10.ipynb</a></strong> to <a href=\"https://wandb.ai/pranavshekhar2/dl22_HW6\" target=\"_blank\">Weights & Biases</a> (<a href=\"https://wandb.me/run\" target=\"_blank\">docs</a>)<br/>"
            ]
          },
          "metadata": {}
        },
        {
          "output_type": "execute_result",
          "data": {
            "text/html": [
              "<button onClick=\"this.nextSibling.style.display='block';this.style.display='none';\">Display W&B run</button><iframe src=\"https://wandb.ai/pranavshekhar2/dl22_HW6/runs/fn8drw2v?jupyter=true\" style=\"border:none;width:100%;height:420px;display:none;\"></iframe>"
            ],
            "text/plain": [
              "<wandb.sdk.wandb_run.Run at 0x7f905bec80d0>"
            ]
          },
          "metadata": {},
          "execution_count": 6
        }
      ]
    },
    {
      "cell_type": "markdown",
      "source": [
        "# <Font color = 'pickle'>**Specify Project Folders**"
      ],
      "metadata": {
        "id": "mBD5OPGzZZJG"
      }
    },
    {
      "cell_type": "code",
      "source": [
        "# This is the path where we will download and save data\n",
        "if 'google.colab' in str(get_ipython()):\n",
        "  data_folder = Path('/content/drive/MyDrive/Deep_Learning_UTD/Dataset')\n",
        "  model_folder = Path('/content/drive/MyDrive/Deep_Learning_UTD/Model')\n",
        "else:\n",
        "  base_folder = Path('/home/harpreet/Insync/google_drive_shaannoor/data')"
      ],
      "metadata": {
        "id": "81-W5G-lZVO4"
      },
      "execution_count": null,
      "outputs": []
    },
    {
      "cell_type": "markdown",
      "source": [
        "# <Font color = 'pickle'>**Load CIFAR10 Dataset**"
      ],
      "metadata": {
        "id": "rsGspopsaM18"
      }
    },
    {
      "cell_type": "code",
      "source": [
        "trans1 = transforms.ToTensor()\n",
        "trans2 = transforms.Normalize((0.49, 0.482, 0.447), (0.247, 0.244, 0.262))\n",
        "\n",
        "trans = transforms.Compose([trans1, trans2])\n",
        "\n",
        "#Train and validation set\n",
        "\n",
        "train_val_set = torchvision.datasets.CIFAR10(root = data_folder,\n",
        "                                             transform = trans,\n",
        "                                             train = True,\n",
        "                                             download = True)\n",
        "\n",
        "testset = torchvision.datasets.CIFAR10(root = data_folder,\n",
        "                                       transform = trans,\n",
        "                                       train = False,\n",
        "                                       download = True\n",
        "                                       )"
      ],
      "metadata": {
        "colab": {
          "base_uri": "https://localhost:8080/"
        },
        "id": "wwsW0WKYaKn4",
        "outputId": "090bb83b-c24f-4599-de41-6a5351e4d267"
      },
      "execution_count": null,
      "outputs": [
        {
          "output_type": "stream",
          "name": "stdout",
          "text": [
            "Files already downloaded and verified\n",
            "Files already downloaded and verified\n"
          ]
        }
      ]
    },
    {
      "cell_type": "code",
      "source": [
        "def split_dataset(base_dataset, fraction, seed):\n",
        "    split_a_size = int(fraction * len(base_dataset))\n",
        "    split_b_size = len(base_dataset) - split_a_size\n",
        "    return torch.utils.data.random_split(base_dataset, [split_a_size, split_b_size], generator=torch.Generator().manual_seed(seed)\n",
        "    )"
      ],
      "metadata": {
        "id": "sEy6S3GEbJ2J"
      },
      "execution_count": null,
      "outputs": []
    },
    {
      "cell_type": "code",
      "source": [
        "trainset, validset = split_dataset(train_val_set,0.8,10)"
      ],
      "metadata": {
        "id": "t-_0Ty4Tb5yg"
      },
      "execution_count": null,
      "outputs": []
    },
    {
      "cell_type": "code",
      "source": [
        "# Since the transforms are not applied, we will manually first divide by 255\n",
        "# we will then get the mean and std dev \n",
        "# the images are still in mumpy with the shape (number of images, H, W, Channels)\n",
        "# Since we need mean, std dev \n",
        "train_data = train_val_set.data[trainset.indices]/255\n",
        "train_data.shape\n",
        "print(train_data.mean(axis = (0,1,2)))\n",
        "print(train_data.std(axis = (0,1,2)))"
      ],
      "metadata": {
        "colab": {
          "base_uri": "https://localhost:8080/"
        },
        "id": "CNuQjK2vdRky",
        "outputId": "0856fceb-0ffe-4050-aaea-feb37e850cc7"
      },
      "execution_count": null,
      "outputs": [
        {
          "output_type": "stream",
          "name": "stdout",
          "text": [
            "[0.49114078 0.48191055 0.44641415]\n",
            "[0.24707852 0.24355821 0.26162066]\n"
          ]
        }
      ]
    },
    {
      "cell_type": "markdown",
      "source": [
        "# <Font color = 'pickle'>**Checking inputs for CIFAR10 Dataset**"
      ],
      "metadata": {
        "id": "omhfUWs7cEuH"
      }
    },
    {
      "cell_type": "code",
      "source": [
        "print(type(trainset), type(trainset.dataset), type(trainset.indices), sep ='\\n')"
      ],
      "metadata": {
        "colab": {
          "base_uri": "https://localhost:8080/"
        },
        "id": "xb77fPR3dCop",
        "outputId": "9c62b271-71f1-4cd1-d13d-47e4a9476a8f"
      },
      "execution_count": null,
      "outputs": [
        {
          "output_type": "stream",
          "name": "stdout",
          "text": [
            "<class 'torch.utils.data.dataset.Subset'>\n",
            "<class 'torchvision.datasets.cifar.CIFAR10'>\n",
            "<class 'list'>\n"
          ]
        }
      ]
    },
    {
      "cell_type": "code",
      "source": [
        "trainset.indices[0:5]"
      ],
      "metadata": {
        "colab": {
          "base_uri": "https://localhost:8080/"
        },
        "id": "reG-HMmcc9Zd",
        "outputId": "ef0705ec-efc3-456e-dc12-cca8bed53650"
      },
      "execution_count": null,
      "outputs": [
        {
          "output_type": "execute_result",
          "data": {
            "text/plain": [
              "[46937, 45069, 32498, 25031, 16172]"
            ]
          },
          "metadata": {},
          "execution_count": 13
        }
      ]
    },
    {
      "cell_type": "code",
      "source": [
        "print(len(trainset), len(trainset.dataset), len(trainset.indices), sep ='\\n')"
      ],
      "metadata": {
        "colab": {
          "base_uri": "https://localhost:8080/"
        },
        "id": "TAoJkn6HdO9B",
        "outputId": "2e891e87-d1b8-4cc2-d0cd-b5538bdd49a6"
      },
      "execution_count": null,
      "outputs": [
        {
          "output_type": "stream",
          "name": "stdout",
          "text": [
            "40000\n",
            "50000\n",
            "40000\n"
          ]
        }
      ]
    },
    {
      "cell_type": "code",
      "source": [
        "# Shape of training data\n",
        "len(trainset.indices), len(validset.indices)"
      ],
      "metadata": {
        "colab": {
          "base_uri": "https://localhost:8080/"
        },
        "id": "vayMOGM1dX9e",
        "outputId": "319ec25b-d15f-44c8-e762-793764750879"
      },
      "execution_count": null,
      "outputs": [
        {
          "output_type": "execute_result",
          "data": {
            "text/plain": [
              "(40000, 10000)"
            ]
          },
          "metadata": {},
          "execution_count": 15
        }
      ]
    },
    {
      "cell_type": "code",
      "source": [
        "print(train_val_set.data[trainset.indices].shape)\n",
        "print(trainset.dataset.data[trainset.indices].shape)"
      ],
      "metadata": {
        "colab": {
          "base_uri": "https://localhost:8080/"
        },
        "id": "HiHotPdcdZJm",
        "outputId": "96965c3d-b7b8-4da8-81bf-c5fdce0fc229"
      },
      "execution_count": null,
      "outputs": [
        {
          "output_type": "stream",
          "name": "stdout",
          "text": [
            "(40000, 32, 32, 3)\n",
            "(40000, 32, 32, 3)\n"
          ]
        }
      ]
    },
    {
      "cell_type": "code",
      "source": [
        "train_val_set.data[validset.indices].shape"
      ],
      "metadata": {
        "colab": {
          "base_uri": "https://localhost:8080/"
        },
        "id": "4NonlsrudaZ8",
        "outputId": "9ded3849-318c-4a42-a15b-512143b1dcd1"
      },
      "execution_count": null,
      "outputs": [
        {
          "output_type": "execute_result",
          "data": {
            "text/plain": [
              "(10000, 32, 32, 3)"
            ]
          },
          "metadata": {},
          "execution_count": 17
        }
      ]
    },
    {
      "cell_type": "code",
      "source": [
        "# Shape of testing data\n",
        "testset.data.shape"
      ],
      "metadata": {
        "colab": {
          "base_uri": "https://localhost:8080/"
        },
        "id": "DT05kD5MdbvQ",
        "outputId": "51eac7a9-85de-4756-b126-d42bd18e2924"
      },
      "execution_count": null,
      "outputs": [
        {
          "output_type": "execute_result",
          "data": {
            "text/plain": [
              "(10000, 32, 32, 3)"
            ]
          },
          "metadata": {},
          "execution_count": 18
        }
      ]
    },
    {
      "cell_type": "code",
      "source": [
        "# check the max value of inputs - the transformation are not yet applied.\n",
        "# the transofrmation are applied iteratively on batches \n",
        "# when we craete batch by iterating over dataloader\n",
        "train_val_set.data[trainset.indices].max()"
      ],
      "metadata": {
        "colab": {
          "base_uri": "https://localhost:8080/"
        },
        "id": "xPfS1PoYddAH",
        "outputId": "ec2c6599-c0ef-4cc8-d36f-b37dcd2a510e"
      },
      "execution_count": null,
      "outputs": [
        {
          "output_type": "execute_result",
          "data": {
            "text/plain": [
              "255"
            ]
          },
          "metadata": {},
          "execution_count": 19
        }
      ]
    },
    {
      "cell_type": "code",
      "source": [
        "# check the min value of inputs\n",
        "train_val_set.data[trainset.indices].min()"
      ],
      "metadata": {
        "colab": {
          "base_uri": "https://localhost:8080/"
        },
        "id": "SsaL-sMAdeqZ",
        "outputId": "33d95d42-3f66-4f92-8ff4-d08a67dd20ca"
      },
      "execution_count": null,
      "outputs": [
        {
          "output_type": "execute_result",
          "data": {
            "text/plain": [
              "0"
            ]
          },
          "metadata": {},
          "execution_count": 20
        }
      ]
    },
    {
      "cell_type": "markdown",
      "source": [
        "# <Font color = 'pickle'>**Visualize the Data**"
      ],
      "metadata": {
        "id": "kLGBA4TydxZC"
      }
    },
    {
      "cell_type": "code",
      "source": [
        "# Initializing the batch size\n",
        "batch_size = 32\n",
        "\n",
        "check_loader = torch.utils.data.DataLoader(trainset, batch_size = 64, shuffle = True)"
      ],
      "metadata": {
        "id": "NwwC-Dqud1-c"
      },
      "execution_count": null,
      "outputs": []
    },
    {
      "cell_type": "code",
      "source": [
        "# Get some random training images\n",
        "dataiter = iter(check_loader)\n",
        "images, labels = dataiter.next()\n",
        "\n",
        "# Create grid of images\n",
        "img_grid = torchvision.utils.make_grid(images[0:50], nrow = 10)\n",
        "\n",
        "# Logging to W&B\n",
        "images = wandb.Image(img_grid, caption = \"Sample images\")\n",
        "images.image"
      ],
      "metadata": {
        "colab": {
          "base_uri": "https://localhost:8080/",
          "height": 189
        },
        "id": "vRHuJnITdsHy",
        "outputId": "a3640834-f7aa-4c03-9aa5-2e4d45298e86"
      },
      "execution_count": null,
      "outputs": [
        {
          "output_type": "execute_result",
          "data": {
            "text/plain": [
              "<PIL.PngImagePlugin.PngImageFile image mode=RGB size=342x172 at 0x7F9059FFB3D0>"
            ],
            "image/png": "[encoded data removed]"
          },
          "metadata": {},
          "execution_count": 22
        }
      ]
    },
    {
      "cell_type": "markdown",
      "source": [
        "## <Font color = 'pickle'>**1. Implement CNN on CIFAR10 Dataset**"
      ],
      "metadata": {
        "id": "WM8-sjMMd9x_"
      }
    },
    {
      "cell_type": "code",
      "source": [
        "from torch.nn.modules import Conv2d\n",
        "class Cifar10CNN(nn.Module):\n",
        "    def __init__(self):\n",
        "      super().__init__()\n",
        "\n",
        "      self.conv1_layer = nn.Sequential(\n",
        "          nn.Conv2d(in_channels=3, out_channels=32, kernel_size=5, padding=2, bias=True),\n",
        "                                    nn.ReLU(),\n",
        "                                    nn.Conv2d(in_channels=32, out_channels=16, kernel_size=3, padding = 1, bias = True),\n",
        "                                    nn.ReLU(),\n",
        "\n",
        "      )\n",
        "\n",
        "      self.flatten = nn.Flatten()\n",
        "      self.fc2 = nn.Linear(16*32*32, out_features=10)\n",
        "\n",
        "    def forward(self,x):\n",
        "        x = self.conv1_layer(x)\n",
        "        x = self.flatten(x)\n",
        "        x = F.relu(self.fc2(x))\n",
        "\n",
        "        return x\n",
        "                                   \n"
      ],
      "metadata": {
        "id": "MmZHqNyxd2cu"
      },
      "execution_count": null,
      "outputs": []
    },
    {
      "cell_type": "code",
      "source": [
        "from torchsummary import summary\n",
        "summary(Cifar10CNN().cuda(), (3, 32, 32))"
      ],
      "metadata": {
        "colab": {
          "base_uri": "https://localhost:8080/"
        },
        "id": "y18BBgbCi2UM",
        "outputId": "4630e2d5-95fb-42b5-df9f-1374394f5f37"
      },
      "execution_count": null,
      "outputs": [
        {
          "output_type": "stream",
          "name": "stdout",
          "text": [
            "----------------------------------------------------------------\n",
            "        Layer (type)               Output Shape         Param #\n",
            "================================================================\n",
            "            Conv2d-1           [-1, 32, 32, 32]           2,432\n",
            "              ReLU-2           [-1, 32, 32, 32]               0\n",
            "            Conv2d-3           [-1, 16, 32, 32]           4,624\n",
            "              ReLU-4           [-1, 16, 32, 32]               0\n",
            "           Flatten-5                [-1, 16384]               0\n",
            "            Linear-6                   [-1, 10]         163,850\n",
            "================================================================\n",
            "Total params: 170,906\n",
            "Trainable params: 170,906\n",
            "Non-trainable params: 0\n",
            "----------------------------------------------------------------\n",
            "Input size (MB): 0.01\n",
            "Forward/backward pass size (MB): 0.88\n",
            "Params size (MB): 0.65\n",
            "Estimated Total Size (MB): 1.54\n",
            "----------------------------------------------------------------\n"
          ]
        }
      ]
    },
    {
      "cell_type": "markdown",
      "source": [
        "### <Font color = 'pickle'>**Function for Training  Loop**"
      ],
      "metadata": {
        "id": "p4RwPjMIlYDp"
      }
    },
    {
      "cell_type": "code",
      "source": [
        "def train(train_loader, loss_function, model, optimizer, grad_clipping, max_norm, log_batch, log_interval):\n",
        "\n",
        "  # Training Loop \n",
        "\n",
        "  # initilalize variables as global\n",
        "  # these counts will be updated every epoch\n",
        "  global batch_ct_train\n",
        "\n",
        "  # Initialize train_loss at the he start of the epoch\n",
        "  running_train_loss = 0\n",
        "  running_train_correct = 0\n",
        "  \n",
        "  # put the model in training mode\n",
        "\n",
        "  model.train()\n",
        "  # Iterate on batches from the dataset using train_loader\n",
        "  for input_, targets in train_loader:\n",
        "    \n",
        "    # move inputs and outputs to GPUs\n",
        "    input_ = input_.to(device)\n",
        "    targets = targets.to(device)\n",
        "\n",
        "\n",
        "    # Step 1: Forward Pass: Compute model's predictions \n",
        "    output = model(input_)\n",
        "    \n",
        "    # Step 2: Compute loss\n",
        "    loss = loss_function(output, targets)\n",
        "\n",
        "    # Correct prediction\n",
        "    y_pred = torch.argmax(output, dim = 1)\n",
        "    correct = torch.sum(y_pred == targets)\n",
        "\n",
        "    batch_ct_train += 1\n",
        "\n",
        "    # Step 3: Backward pass -Compute the gradients\n",
        "    optimizer.zero_grad()\n",
        "    loss.backward()\n",
        "\n",
        "    # Gradient Clipping\n",
        "    if grad_clipping:\n",
        "      nn.utils.clip_grad_norm_(model.parameters(), max_norm=max_norm, norm_type=2)\n",
        "\n",
        "    # Step 4: Update the parameters\n",
        "    optimizer.step()\n",
        "    \n",
        "    # For One Cycle Learning Rate - add step here\n",
        "    # scheduler.step()\n",
        "          \n",
        "    # Add train loss of a batch \n",
        "    running_train_loss += loss.item()\n",
        "\n",
        "    # Add Corect counts of a batch\n",
        "    running_train_correct += correct\n",
        "\n",
        "    # log batch loss and accuracy\n",
        "    if log_batch:\n",
        "      if ((batch_ct_train + 1) % log_interval) == 0:\n",
        "        wandb.log({f\"Train Batch Loss  :\": loss})\n",
        "        wandb.log({f\"Train Batch Acc :\": correct/len(targets)})\n",
        "        # print(f'Learning rate: {scheduler.get_last_lr()}')\n",
        "\n",
        "  \n",
        "  # Calculate mean train loss for the whole dataset for a particular epoch\n",
        "  train_loss = running_train_loss/len(train_loader)\n",
        "\n",
        "  # Calculate accuracy for the whole dataset for a particular epoch\n",
        "  train_acc = running_train_correct/len(train_loader.dataset)\n",
        "  \n",
        "\n",
        "  return train_loss, train_acc"
      ],
      "metadata": {
        "id": "1_8F1Al0i84E"
      },
      "execution_count": null,
      "outputs": []
    },
    {
      "cell_type": "markdown",
      "source": [
        "## <Font color = 'pickle'>**Function for Validation Loops**\n"
      ],
      "metadata": {
        "id": "YTVibsC6lh9e"
      }
    },
    {
      "cell_type": "code",
      "source": [
        "def validate(valid_loader, loss_function, model, log_batch, log_interval):\n",
        "\n",
        "  # initilalize variables as global\n",
        "  # these counts will be updated every epoch\n",
        "  global batch_ct_valid\n",
        "\n",
        "  # Validation/Test loop\n",
        "  # Initialize valid_loss at the he strat of the epoch\n",
        "  running_val_loss = 0\n",
        "  running_val_correct = 0\n",
        "\n",
        "  # put the model in evaluation mode\n",
        "  model.eval()\n",
        "\n",
        "  with torch.no_grad():\n",
        "    for input_,targets in valid_loader:\n",
        "\n",
        "      # move inputs and outputs to GPUs\n",
        "      input_ = input_.to(device)\n",
        "      targets = targets.to(device)\n",
        "\n",
        "      # Step 1: Forward Pass: Compute model's predictions \n",
        "      output = model(input_)\n",
        "\n",
        "      # Step 2: Compute loss\n",
        "      loss = loss_function(output, targets)\n",
        "\n",
        "      # Correct Predictions\n",
        "      y_pred = torch.argmax(output, dim = 1)\n",
        "      correct = torch.sum(y_pred == targets)\n",
        "\n",
        "      batch_ct_valid += 1\n",
        "\n",
        "      # Add val loss of a batch \n",
        "      running_val_loss += loss.item()\n",
        "\n",
        "      # Add correct count for each batch\n",
        "      running_val_correct += correct\n",
        "\n",
        "      # log batch loss and accuracy\n",
        "      if log_batch:\n",
        "        if ((batch_ct_valid + 1) % log_interval) == 0:\n",
        "          wandb.log({f\"Valid Batch Loss  :\": loss})\n",
        "          wandb.log({f\"Valid Batch Accuracy :\": correct/len(targets)})\n",
        "\n",
        "    # Calculate mean val loss for the whole dataset for a particular epoch\n",
        "    val_loss = running_val_loss/len(valid_loader)\n",
        "\n",
        "    # Calculate accuracy for the whole dataset for a particular epoch\n",
        "    val_acc = running_val_correct/len(valid_loader.dataset)\n",
        "\n",
        "    # scheduler step\n",
        "    # scheduler.step(val_loss)\n",
        "    # scheduler.step()\n",
        "    \n",
        "  return val_loss, val_acc"
      ],
      "metadata": {
        "id": "32Od2dJ8ldhS"
      },
      "execution_count": null,
      "outputs": []
    },
    {
      "cell_type": "markdown",
      "source": [
        "## <Font color = 'pickle'>**Function for Model Training**"
      ],
      "metadata": {
        "id": "Xzbhc_zlloS4"
      }
    },
    {
      "cell_type": "code",
      "source": [
        "def train_loop(train_loader, valid_loader, model, optimizer, loss_function, epochs, device, patience, early_stopping,\n",
        "               file_model, save_best_model):\n",
        "    \n",
        "  \"\"\" \n",
        "  Function for training the model and plotting the graph for train & validation loss vs epoch.\n",
        "  Input: iterator for train dataset, initial weights and bias, epochs, learning rate, batch size.\n",
        "  Output: final weights, bias and train loss and validation loss for each epoch.\n",
        "  \"\"\"\n",
        "\n",
        "  # Create lists to store train and val loss at each epoch\n",
        "  train_loss_history = []\n",
        "  valid_loss_history = []\n",
        "  train_acc_history = []\n",
        "  valid_acc_history = []\n",
        "\n",
        "  # initialize variables for early stopping\n",
        "\n",
        "  delta = 0\n",
        "  best_score = None\n",
        "  valid_loss_min = np.Inf\n",
        "  counter_early_stop=0\n",
        "  early_stop=False\n",
        "\n",
        "  # Iterate for the given number of epochs\n",
        "  # Step 5: Repeat steps 1 - 4\n",
        "\n",
        "  for epoch in range(epochs):\n",
        "\n",
        "    t0 = datetime.now()\n",
        "\n",
        "    # Get train loss and accuracy for one epoch\n",
        "    train_loss, train_acc = train(train_loader, loss_function, model, optimizer, \n",
        "                                  wandb.config.grad_clipping, wandb.config.max_norm,\n",
        "                                  wandb.config.log_batch, wandb.config.log_interval)\n",
        "    valid_loss, valid_acc   = validate(valid_loader, loss_function, model, wandb.config.log_batch, wandb.config.log_interval)\n",
        "\n",
        "    dt = datetime.now() - t0\n",
        "\n",
        "    # Save history of the Losses and accuracy\n",
        "    train_loss_history.append(train_loss)\n",
        "    train_acc_history.append(train_acc)\n",
        "\n",
        "    valid_loss_history.append(valid_loss)\n",
        "    valid_acc_history.append(valid_acc)\n",
        "\n",
        "    # Log the train and valid loss to wandb\n",
        "    wandb.log({f\"Train Loss :\": train_loss, \"epoch\": epoch})\n",
        "    wandb.log({f\"Train Acc :\": train_acc, \"epoch\": epoch})\n",
        "\n",
        "    wandb.log({f\"Valid Loss :\": valid_loss, \"epoch\": epoch})\n",
        "    wandb.log({f\"Valid Acc :\": valid_acc, \"epoch\": epoch})\n",
        "\n",
        "    if early_stopping:\n",
        "      score = -valid_loss\n",
        "      if best_score is None:\n",
        "        best_score=score\n",
        "        print(f'Validation loss has decreased ({valid_loss_min:.6f} --> {valid_loss:.6f}). Saving Model...')\n",
        "        torch.save(model.state_dict(), file_model)\n",
        "        valid_loss_min = valid_loss\n",
        "\n",
        "      elif score < best_score + delta:\n",
        "        counter_early_stop += 1\n",
        "        print(f'Early stoping counter: {counter_early_stop} out of {patience}')\n",
        "        if counter_early_stop > patience:\n",
        "          early_stop = True\n",
        "\n",
        "      \n",
        "      else:\n",
        "        best_score = score\n",
        "        print(f'Validation loss has decreased ({valid_loss_min:.6f} --> {valid_loss:.6f}). Saving model...')\n",
        "        torch.save(model.state_dict(), file_model)\n",
        "        counter_early_stop=0\n",
        "        valid_loss_min = valid_loss\n",
        "\n",
        "      if early_stop:\n",
        "        print('Early Stopping')\n",
        "        break\n",
        "\n",
        "    elif save_best_model:\n",
        "\n",
        "      score = -valid_loss\n",
        "      if best_score is None:\n",
        "        best_score=score\n",
        "        print(f'Validation loss has decreased ({valid_loss_min:.6f} --> {valid_loss:.6f}). Saving Model...')\n",
        "        torch.save(model.state_dict(), file_model)\n",
        "        valid_loss_min = valid_loss\n",
        "\n",
        "      elif score < best_score + delta:\n",
        "        print(f'Validation loss has not decreased ({valid_loss_min:.6f} --> {valid_loss:.6f}). Not Saving Model...')\n",
        "      \n",
        "      else:\n",
        "        best_score = score\n",
        "        print(f'Validation loss has decreased ({valid_loss_min:.6f} --> {valid_loss:.6f}). Saving model...')\n",
        "        torch.save(model.state_dict(), file_model)\n",
        "        valid_loss_min = valid_loss\n",
        "        \n",
        "    else:\n",
        "        torch.save(model.state_dict(), file_model)\n",
        "    \n",
        "    # Print the train loss and accuracy for given number of epochs, batch size and number of samples\n",
        "    print(f'Epoch : {epoch+1} / {epochs}')\n",
        "    print(f'Time to complete {epoch+1} is {dt}')\n",
        "    # print(f'Learning rate: {scheduler._last_lr[0]}') # for ReduceLR\n",
        "    # print(f'Learning rate: {scheduler.get_last_lr()}') # for OneCycle\n",
        "    print(f'Train Loss: {train_loss : .4f} | Train Accuracy: {train_acc * 100 : .4f}%')\n",
        "    print(f'Valid Loss: {valid_loss : .4f} | Valid Accuracy: {valid_acc * 100 : .4f}%')\n",
        "    print()\n",
        "    torch.cuda.empty_cache()\n",
        "\n",
        "  return train_loss_history, train_acc_history, valid_loss_history, valid_acc_history"
      ],
      "metadata": {
        "id": "6r5Jf-V1lhQ2"
      },
      "execution_count": null,
      "outputs": []
    },
    {
      "cell_type": "markdown",
      "source": [
        "## <Font color = 'pickle'>**Function for Accuracy and Predictions**"
      ],
      "metadata": {
        "id": "SsfkszMilwZn"
      }
    },
    {
      "cell_type": "code",
      "source": [
        "def get_acc_pred(data_loader, model, device):\n",
        "    \n",
        "  \"\"\" \n",
        "  Function to get predictions and accuracy for a given data using estimated model\n",
        "  Input: Data iterator, Final estimated weoights, bias\n",
        "  Output: Prections and Accuracy for given dataset\n",
        "  \"\"\"\n",
        "\n",
        "  # Array to store predicted labels\n",
        "  predictions = torch.Tensor() # empty tensor\n",
        "  predictions = predictions.to(device) # move predictions to GPU\n",
        "\n",
        "  # Array to store actual labels\n",
        "  y = torch.Tensor() # empty tensor\n",
        "  y = y.to(device)\n",
        "\n",
        "  # put the model in evaluation mode\n",
        "  model.eval()\n",
        "  \n",
        "  # Iterate over batches from data iterator\n",
        "  with torch.no_grad():\n",
        "    for input_, targets in data_loader:\n",
        "      \n",
        "      # move inputs and outputs to GPUs\n",
        "      \n",
        "      input_ = input_.to(device)\n",
        "      targets = targets.to(device)\n",
        "      \n",
        "      # Calculated the predicted labels\n",
        "      output = model(input_)\n",
        "\n",
        "      # Choose the label with maximum probability\n",
        "      prediction = torch.argmax(output, dim = 1)\n",
        "\n",
        "      # Add the predicted labels to the array\n",
        "      predictions = torch.cat((predictions, prediction)) \n",
        "\n",
        "      # Add the actual labels to the array\n",
        "      y = torch.cat((y, targets)) \n",
        "\n",
        "  # Check for complete dataset if actual and predicted labels are same or not\n",
        "  # Calculate accuracy\n",
        "  acc = (predictions == y).float().mean()\n",
        "\n",
        "  # Return tuple containing predictions and accuracy\n",
        "  return predictions, acc  "
      ],
      "metadata": {
        "id": "PHjR4_uZln0Q"
      },
      "execution_count": null,
      "outputs": []
    },
    {
      "cell_type": "markdown",
      "source": [
        "# <Font color = 'pickle'>**Meta Data**"
      ],
      "metadata": {
        "id": "ePpOdn-Fl8BR"
      }
    },
    {
      "cell_type": "code",
      "source": [
        "hyperparameters = SimpleNamespace(\n",
        "    epochs = 20,\n",
        "    output_dim = 10,\n",
        "    batch_size=256,\n",
        "    learning_rate=1e-2,\n",
        "    dataset=\"Cifar10\",\n",
        "    architecture=\"Cifar10_CustomNN\",\n",
        "    log_interval = 100,\n",
        "    log_batch = True,\n",
        "    file_model = model_folder/'cifar10_custom_model.pt',\n",
        "    grad_clipping = True,\n",
        "    max_norm = 1,\n",
        "    momentum = 0.9,\n",
        "    patience = 5,\n",
        "    early_stopping = True,\n",
        "    scheduler_factor = 0.5,\n",
        "    scheduler_patience = 0,\n",
        "    save_best_model = False,\n",
        "    device = torch.device('cuda:0' if torch.cuda.is_available() else 'cpu'),\n",
        "    weight_decay = 0,\n",
        "    \n",
        "    \n",
        "    )"
      ],
      "metadata": {
        "id": "XnT6G2aHlv45"
      },
      "execution_count": null,
      "outputs": []
    },
    {
      "cell_type": "markdown",
      "source": [
        "# <Font color = 'pickle'>**Data Loaders, Loss Function, Optimizer**"
      ],
      "metadata": {
        "id": "Y7-zsCyjm75Z"
      }
    },
    {
      "cell_type": "code",
      "source": [
        "wandb.config = hyperparameters\n",
        "wandb.config"
      ],
      "metadata": {
        "colab": {
          "base_uri": "https://localhost:8080/"
        },
        "id": "VbNMYj7Km2-M",
        "outputId": "0eb9a5db-03b6-4e42-e205-02b14979e919"
      },
      "execution_count": null,
      "outputs": [
        {
          "output_type": "execute_result",
          "data": {
            "text/plain": [
              "namespace(architecture='Cifar10_CustomNN', batch_size=256, dataset='Cifar10', device=device(type='cuda', index=0), early_stopping=True, epochs=20, file_model=PosixPath('/content/drive/MyDrive/Deep_Learning_UTD/Model/cifar10_custom_model.pt'), grad_clipping=True, learning_rate=0.01, log_batch=True, log_interval=100, max_norm=1, momentum=0.9, output_dim=10, patience=5, save_best_model=False, scheduler_factor=0.5, scheduler_patience=0, weight_decay=0)"
            ]
          },
          "metadata": {},
          "execution_count": 32
        }
      ]
    },
    {
      "cell_type": "code",
      "source": [
        "# Fix seed value\n",
        "SEED = 2345\n",
        "random.seed(SEED)\n",
        "np.random.seed(SEED)\n",
        "torch.manual_seed(SEED)\n",
        "torch.cuda.manual_seed(SEED)\n",
        "torch.backends.cudnn.deterministic = True\n",
        "\n",
        "# Data Loader\n",
        "train_loader = torch.utils.data.DataLoader(trainset, batch_size=wandb.config.batch_size, shuffle = True)\n",
        "valid_loader = torch.utils.data.DataLoader(validset, batch_size=wandb.config.batch_size, shuffle = False)\n",
        "test_loader = torch.utils.data.DataLoader(testset, batch_size=wandb.config.batch_size,   shuffle = False)\n",
        "\n",
        "# model \n",
        "model = Cifar10CNN()\n",
        "\n",
        "# Initialize weights from normal distribution with mean 0 and standard deviation 0.01\n",
        "def init_weights(m):\n",
        "  if type(m) == nn.Linear:\n",
        "        torch.nn.init.kaiming_normal_(m.weight)\n",
        "        torch.nn.init.zeros_(m.bias)\n",
        "\n",
        "  if type(m) == nn.Conv2d:\n",
        "        torch.nn.init.kaiming_normal_(m.weight)\n",
        "        torch.nn.init.zeros_(m.bias)\n",
        "\n",
        "model.to(wandb.config.device)\n",
        "# model.apply(init_weights)\n",
        "\n",
        "# loss_function\n",
        "loss_function = nn.CrossEntropyLoss()\n",
        "\n",
        "optimizer = torch.optim.SGD(model.parameters(), \n",
        "                            lr = wandb.config.learning_rate, \n",
        "                            momentum = wandb.config.momentum,\n",
        "                            weight_decay = wandb.config.weight_decay)\n",
        "\n",
        "# scheduler = ReduceLROnPlateau(optimizer, mode='min', factor= wandb.config.scheduler_factor, \n",
        "#                               patience=wandb.config.scheduler_patience, verbose=True)\n",
        "\n"
      ],
      "metadata": {
        "id": "H2zNuu14m_En"
      },
      "execution_count": null,
      "outputs": []
    },
    {
      "cell_type": "markdown",
      "source": [
        "# <Font color = 'pickle'>**Training Model**"
      ],
      "metadata": {
        "id": "P-KER8KDnNtt"
      }
    },
    {
      "cell_type": "code",
      "source": [
        "wandb.watch(model, log = 'all', log_freq=25, log_graph=True)"
      ],
      "metadata": {
        "colab": {
          "base_uri": "https://localhost:8080/"
        },
        "id": "-x-xa5XjnKGi",
        "outputId": "a297f76a-95ae-420e-cc6e-75c601e64a6e"
      },
      "execution_count": null,
      "outputs": [
        {
          "output_type": "stream",
          "name": "stderr",
          "text": [
            "\u001b[34m\u001b[1mwandb\u001b[0m: logging graph, to disable use `wandb.watch(log_graph=False)`\n"
          ]
        },
        {
          "output_type": "execute_result",
          "data": {
            "text/plain": [
              "[<wandb.wandb_torch.TorchGraph at 0x7f905ba45190>]"
            ]
          },
          "metadata": {},
          "execution_count": 34
        }
      ]
    },
    {
      "cell_type": "code",
      "source": [
        "device = torch.device('cuda:0' if torch.cuda.is_available() else 'cpu')"
      ],
      "metadata": {
        "id": "AblrD8Sznu8V"
      },
      "execution_count": null,
      "outputs": []
    },
    {
      "cell_type": "code",
      "source": [
        "# See live graphs in the notebook.\n",
        "#%%wandb \n",
        "batch_ct_train, batch_ct_valid = 0, 0\n",
        "train_loss_history, train_acc_history, valid_loss_history, valid_acc_history = train_loop(train_loader, \n",
        "                                                                                          valid_loader, \n",
        "                                                                                          model, \n",
        "                                                                                          optimizer, \n",
        "                                                                                          loss_function, \n",
        "                                                                                          wandb.config.epochs, \n",
        "                                                                                          wandb.config.device,\n",
        "                                                                                          wandb.config.patience,\n",
        "                                                                                          wandb.config.early_stopping,\n",
        "                                                                                          wandb.config.file_model,\n",
        "                                                                                          wandb.config.save_best_model\n",
        "                                                                                          )"
      ],
      "metadata": {
        "colab": {
          "base_uri": "https://localhost:8080/"
        },
        "id": "1DKZC6HMnOKE",
        "outputId": "8f2058c0-a7c5-473a-f377-18797ea2056c"
      },
      "execution_count": null,
      "outputs": [
        {
          "output_type": "stream",
          "name": "stdout",
          "text": [
            "Validation loss has decreased (inf --> 1.951506). Saving Model...\n",
            "Epoch : 1 / 20\n",
            "Time to complete 1 is 0:00:13.998869\n",
            "Train Loss:  2.0739 | Train Accuracy:  29.4625%\n",
            "Valid Loss:  1.9515 | Valid Accuracy:  34.0700%\n",
            "\n",
            "Validation loss has decreased (1.951506 --> 1.702215). Saving model...\n",
            "Epoch : 2 / 20\n",
            "Time to complete 2 is 0:00:13.409972\n",
            "Train Loss:  1.7974 | Train Accuracy:  39.9425%\n",
            "Valid Loss:  1.7022 | Valid Accuracy:  42.1400%\n",
            "\n",
            "Validation loss has decreased (1.702215 --> 1.645574). Saving model...\n",
            "Epoch : 3 / 20\n",
            "Time to complete 3 is 0:00:13.344534\n",
            "Train Loss:  1.6065 | Train Accuracy:  45.0850%\n",
            "Valid Loss:  1.6456 | Valid Accuracy:  43.4800%\n",
            "\n",
            "Validation loss has decreased (1.645574 --> 1.612931). Saving model...\n",
            "Epoch : 4 / 20\n",
            "Time to complete 4 is 0:00:13.294269\n",
            "Train Loss:  1.5368 | Train Accuracy:  47.4725%\n",
            "Valid Loss:  1.6129 | Valid Accuracy:  44.1600%\n",
            "\n",
            "Validation loss has decreased (1.612931 --> 1.566517). Saving model...\n",
            "Epoch : 5 / 20\n",
            "Time to complete 5 is 0:00:13.259495\n",
            "Train Loss:  1.4920 | Train Accuracy:  49.0575%\n",
            "Valid Loss:  1.5665 | Valid Accuracy:  46.7900%\n",
            "\n",
            "Validation loss has decreased (1.566517 --> 1.514880). Saving model...\n",
            "Epoch : 6 / 20\n",
            "Time to complete 6 is 0:00:13.293307\n",
            "Train Loss:  1.4455 | Train Accuracy:  50.6550%\n",
            "Valid Loss:  1.5149 | Valid Accuracy:  48.2700%\n",
            "\n",
            "Early stoping counter: 1 out of 5\n",
            "Epoch : 7 / 20\n",
            "Time to complete 7 is 0:00:14.512335\n",
            "Train Loss:  1.4106 | Train Accuracy:  51.6950%\n",
            "Valid Loss:  1.5471 | Valid Accuracy:  47.1500%\n",
            "\n",
            "Validation loss has decreased (1.514880 --> 1.482010). Saving model...\n",
            "Epoch : 8 / 20\n",
            "Time to complete 8 is 0:00:13.132618\n",
            "Train Loss:  1.3775 | Train Accuracy:  52.6375%\n",
            "Valid Loss:  1.4820 | Valid Accuracy:  49.1100%\n",
            "\n",
            "Early stoping counter: 1 out of 5\n",
            "Epoch : 9 / 20\n",
            "Time to complete 9 is 0:00:14.502721\n",
            "Train Loss:  1.3442 | Train Accuracy:  53.7000%\n",
            "Valid Loss:  1.4836 | Valid Accuracy:  49.1100%\n",
            "\n",
            "Early stoping counter: 2 out of 5\n",
            "Epoch : 10 / 20\n",
            "Time to complete 10 is 0:00:14.450005\n",
            "Train Loss:  1.3113 | Train Accuracy:  54.8675%\n",
            "Valid Loss:  1.4844 | Valid Accuracy:  49.0600%\n",
            "\n",
            "Validation loss has decreased (1.482010 --> 1.315689). Saving model...\n",
            "Epoch : 11 / 20\n",
            "Time to complete 11 is 0:00:13.294252\n",
            "Train Loss:  1.1673 | Train Accuracy:  60.6275%\n",
            "Valid Loss:  1.3157 | Valid Accuracy:  54.9800%\n",
            "\n",
            "Validation loss has decreased (1.315689 --> 1.301990). Saving model...\n",
            "Epoch : 12 / 20\n",
            "Time to complete 12 is 0:00:14.710099\n",
            "Train Loss:  1.1025 | Train Accuracy:  62.7750%\n",
            "Valid Loss:  1.3020 | Valid Accuracy:  56.0200%\n",
            "\n",
            "Validation loss has decreased (1.301990 --> 1.105344). Saving model...\n",
            "Epoch : 13 / 20\n",
            "Time to complete 13 is 0:00:13.252151\n",
            "Train Loss:  0.9645 | Train Accuracy:  67.4800%\n",
            "Valid Loss:  1.1053 | Valid Accuracy:  62.1200%\n",
            "\n",
            "Validation loss has decreased (1.105344 --> 1.091725). Saving model...\n",
            "Epoch : 14 / 20\n",
            "Time to complete 14 is 0:00:13.212982\n",
            "Train Loss:  0.8710 | Train Accuracy:  70.6025%\n",
            "Valid Loss:  1.0917 | Valid Accuracy:  62.4700%\n",
            "\n",
            "Validation loss has decreased (1.091725 --> 1.084557). Saving model...\n",
            "Epoch : 15 / 20\n",
            "Time to complete 15 is 0:00:14.940494\n",
            "Train Loss:  0.8346 | Train Accuracy:  71.7400%\n",
            "Valid Loss:  1.0846 | Valid Accuracy:  63.1400%\n",
            "\n",
            "Early stoping counter: 1 out of 5\n",
            "Epoch : 16 / 20\n",
            "Time to complete 16 is 0:00:13.445154\n",
            "Train Loss:  0.8032 | Train Accuracy:  72.8925%\n",
            "Valid Loss:  1.0915 | Valid Accuracy:  63.1200%\n",
            "\n",
            "Validation loss has decreased (1.084557 --> 1.073501). Saving model...\n",
            "Epoch : 17 / 20\n",
            "Time to complete 17 is 0:00:13.355644\n",
            "Train Loss:  0.7743 | Train Accuracy:  73.6100%\n",
            "Valid Loss:  1.0735 | Valid Accuracy:  63.9300%\n",
            "\n",
            "Early stoping counter: 1 out of 5\n",
            "Epoch : 18 / 20\n",
            "Time to complete 18 is 0:00:14.716650\n",
            "Train Loss:  0.7465 | Train Accuracy:  74.6250%\n",
            "Valid Loss:  1.1018 | Valid Accuracy:  62.8000%\n",
            "\n",
            "Early stoping counter: 2 out of 5\n",
            "Epoch : 19 / 20\n",
            "Time to complete 19 is 0:00:13.508229\n",
            "Train Loss:  0.7245 | Train Accuracy:  75.3575%\n",
            "Valid Loss:  1.0747 | Valid Accuracy:  64.3500%\n",
            "\n",
            "Early stoping counter: 3 out of 5\n",
            "Epoch : 20 / 20\n",
            "Time to complete 20 is 0:00:13.377456\n",
            "Train Loss:  0.7035 | Train Accuracy:  76.0650%\n",
            "Valid Loss:  1.1036 | Valid Accuracy:  63.1700%\n",
            "\n"
          ]
        }
      ]
    },
    {
      "cell_type": "markdown",
      "source": [
        "## <Font color = 'pickle'>**2. Experiment different CNN on CIFAR10 Dataset**"
      ],
      "metadata": {
        "id": "IUpqSz7CpCO7"
      }
    },
    {
      "cell_type": "code",
      "source": [
        "#Subset of 50 images\n",
        "\n",
        "# n sample points\n",
        "train_sample_size = 50\n",
        "\n",
        "# Getting n random indices\n",
        "train_subset_indices = random.sample(range(0, len(trainset)), train_sample_size)\n",
        "\n",
        "# Getting subset of dataset\n",
        "train_subset = torch.utils.data.Subset(trainset, train_subset_indices)\n",
        "\n",
        "train_subset.dataset.dataset.data[train_subset.indices].shape"
      ],
      "metadata": {
        "colab": {
          "base_uri": "https://localhost:8080/"
        },
        "id": "1cwE0GpIYCTT",
        "outputId": "709004c6-361f-4b62-ccb4-b3b83725723f"
      },
      "execution_count": null,
      "outputs": [
        {
          "output_type": "execute_result",
          "data": {
            "text/plain": [
              "(50, 32, 32, 3)"
            ]
          },
          "metadata": {},
          "execution_count": 37
        }
      ]
    },
    {
      "cell_type": "markdown",
      "source": [
        "## Experiment 1 - Denser Network and Wider Network\n",
        "\n",
        "Conv ( Kernel Size = 10 )->ReLU->MaxPool ( Kernel Size = 2, Stride = 2 ) <br>\n",
        "Conv ( Kernel Size = 5 )->ReLU->BatchNorm <br>\n",
        "Conv ( Kernel Size = 3 )->ReLU->MaxPool (Kernel Size = 2, Stride = 2 ) <br>\n",
        "\n",
        "<br>\n",
        "\n",
        "Flatten-> Linear_Layer\n",
        "\n",
        "Optimizer = SGD\n",
        "\n",
        "<br>\n",
        "LR Scheduler - ReduceLROnPlateau\n",
        "\n",
        "\n"
      ],
      "metadata": {
        "id": "PuDZz7n7Xd5x"
      }
    },
    {
      "cell_type": "markdown",
      "source": [
        "## Experiment 2 - Denser Network and Wider Network\n",
        "\n",
        "Conv ( Kernel Size = 12 )->ELU->AvgPool ( Kernel Size = 2, Stride = 2 )<br>\n",
        "Conv ( Kernel Size = 5 )->ELU->BatchNorm <br>\n",
        "Conv (Kernel Size = 3 )->ELU->AvgPool (Kernel Size = 2, Stride = 2) <br>\n",
        "\n",
        "<br>\n",
        "\n",
        "Flatten-> Dropout_Layer-> Linear_Layer\n",
        "<br> \n",
        "\n",
        "Optimizer = SGD\n",
        "\n",
        "<br>\n",
        "\n",
        "LR Scheduler - OneCycleLR\n",
        "\n",
        "\n"
      ],
      "metadata": {
        "id": "J5LzYiu5ovpI"
      }
    },
    {
      "cell_type": "markdown",
      "source": [
        "## Experiment 3 - Denser Network and Wider Network\n",
        "\n",
        "Conv ( Kernel Size = 12 )->ReLU->MaxPool (Kernel Size = 2, Stride = 2)<br>\n",
        "Conv ( Kernel Size = 3 )->ReLU->BatchNorm <br>\n",
        "Conv (Kernel Size = 2 )->ReLU->MaxPool (Kernel Size = 2, Stride = 2) <br>\n",
        "\n",
        "<br>\n",
        "\n",
        "Flatten-> Linear_Layer\n",
        "<br> \n",
        "\n",
        "Optimizer = Adam\n",
        "\n",
        "<br>\n",
        "\n",
        "LR Scheduler - ReduceLROnPlateau\n",
        "\n",
        "\n"
      ],
      "metadata": {
        "id": "QtWSIC52lts5"
      }
    },
    {
      "cell_type": "markdown",
      "source": [
        "## Experiment 4 - Denser Network and Wider Network\n",
        "\n",
        "Conv ( Kernel Size = 10 ) ->ReLU->MaxPool  (Kernel Size = 2 , stride = 2)<br>\n",
        "Conv ( Kernel Size = 5 ) ->ReLU->BatchNorm  <br>\n",
        "Conv (Kernel Size = 3 ) ->ReLU->MaxPool  (Kernel Size = 2 , stride = 2)<br>\n",
        "\n",
        "<br>\n",
        "\n",
        "Flatten-> Linear_Layer\n",
        "<br> \n",
        "\n",
        "Optimizer = Adam\n",
        "\n",
        "<br>\n",
        "\n",
        "LR Scheduler - ReduceLROnPlateau\n",
        "\n",
        "\n"
      ],
      "metadata": {
        "id": "J3DX4Rhzp_RH"
      }
    },
    {
      "cell_type": "markdown",
      "source": [
        "## Experiment 5 - Denser Network and Wider Network\n",
        "\n",
        "Conv (Kernel Size = 10) -> ReLU->AvgPool ( Kernel Size = 2, Stride = 2 )<br>\n",
        "Conv (Kernel Size = 5) -> ReLU->BatchNorm <br>\n",
        "Conv (Kernel Size = 3) -> ReLU->AvgPool (Kernel Size = 2, Stride = 2) <br>\n",
        "\n",
        "<br>\n",
        "\n",
        "Flatten-> Linear_Layer\n",
        "<br> \n",
        "\n",
        "Optimizer = Adam\n",
        "\n",
        "<br>\n",
        "\n",
        "LR Scheduler - ReduceLROnPlateau\n",
        "\n",
        "\n"
      ],
      "metadata": {
        "id": "R-aSTxiIp_Ga"
      }
    },
    {
      "cell_type": "markdown",
      "source": [
        "## <Font color = 'pickle'>**Best Model**\n",
        "\n",
        "**Conv ( Kernel Size = 10 )->ReLU->MaxPool ( Kernel Size = 2, Stride = 2 )**<br>\n",
        "**Conv ( Kernel Size = 5 )->ReLU->BatchNorm\n",
        "<br>\n",
        "Conv ( Kernel Size = 3 )->ReLU->MaxPool (Kernel Size = 2, Stride = 2 )** <br>\n",
        "\n",
        "<br>\n",
        "\n",
        "**Flatten-> Linear_Layer**\n",
        "<br> \n",
        "\n",
        "**Optimizer = SGD**\n",
        "\n",
        "LR Scheduler - ReduceLROnPlateau\n",
        "<br>\n",
        "\n",
        "\n",
        "\n",
        "\n"
      ],
      "metadata": {
        "id": "kzfihDVHobjX"
      }
    },
    {
      "cell_type": "code",
      "source": [
        "from torch.nn.modules import Conv2d\n",
        "class Cifar10CNN_Experiment(nn.Module):\n",
        "    def __init__(self):\n",
        "      super().__init__()\n",
        "\n",
        "      self.conv1_layer = nn.Sequential(\n",
        "          nn.Conv2d(in_channels=3, out_channels=64, kernel_size=10, padding=2, bias=True),\n",
        "          nn.ReLU(),\n",
        "          nn.MaxPool2d(kernel_size = 2, stride = 2),\n",
        "          nn.Conv2d(in_channels=64, out_channels=256, kernel_size=5, padding=2, bias=True),\n",
        "          nn.ReLU(),\n",
        "          nn.BatchNorm2d(256,momentum=0.9),\n",
        "          nn.Conv2d(in_channels=256, out_channels=16, kernel_size=3, padding=2, bias=True),\n",
        "          nn.ReLU(),\n",
        "          nn.MaxPool2d(kernel_size = 2, stride = 2)\n",
        "      )\n",
        "\n",
        "      self.flatten = nn.Flatten()\n",
        "      self.fc2 = nn.Linear(16*7*7, out_features=10)\n",
        "\n",
        "    def forward(self,x):\n",
        "        x = self.conv1_layer(x)\n",
        "        x = self.flatten(x)\n",
        "        x = F.relu(self.fc2(x))\n",
        "\n",
        "        return x\n",
        "                                   \n"
      ],
      "metadata": {
        "id": "PdpANeO9objY"
      },
      "execution_count": null,
      "outputs": []
    },
    {
      "cell_type": "code",
      "source": [
        "from torchsummary import summary\n",
        "summary(Cifar10CNN_Experiment().cuda(), (3, 32, 32))"
      ],
      "metadata": {
        "colab": {
          "base_uri": "https://localhost:8080/"
        },
        "outputId": "b9ff9198-e13a-4d77-aa15-51f0a01842f2",
        "id": "t5A-pcFeobjY"
      },
      "execution_count": null,
      "outputs": [
        {
          "output_type": "stream",
          "name": "stdout",
          "text": [
            "----------------------------------------------------------------\n",
            "        Layer (type)               Output Shape         Param #\n",
            "================================================================\n",
            "            Conv2d-1           [-1, 64, 27, 27]          19,264\n",
            "              ReLU-2           [-1, 64, 27, 27]               0\n",
            "         MaxPool2d-3           [-1, 64, 13, 13]               0\n",
            "            Conv2d-4          [-1, 256, 13, 13]         409,856\n",
            "              ReLU-5          [-1, 256, 13, 13]               0\n",
            "       BatchNorm2d-6          [-1, 256, 13, 13]             512\n",
            "            Conv2d-7           [-1, 16, 15, 15]          36,880\n",
            "              ReLU-8           [-1, 16, 15, 15]               0\n",
            "         MaxPool2d-9             [-1, 16, 7, 7]               0\n",
            "          Flatten-10                  [-1, 784]               0\n",
            "           Linear-11                   [-1, 10]           7,850\n",
            "================================================================\n",
            "Total params: 474,362\n",
            "Trainable params: 474,362\n",
            "Non-trainable params: 0\n",
            "----------------------------------------------------------------\n",
            "Input size (MB): 0.01\n",
            "Forward/backward pass size (MB): 1.85\n",
            "Params size (MB): 1.81\n",
            "Estimated Total Size (MB): 3.67\n",
            "----------------------------------------------------------------\n"
          ]
        }
      ]
    },
    {
      "cell_type": "markdown",
      "source": [
        "### <Font color = 'pickle'>**Function for Training  Loop**"
      ],
      "metadata": {
        "id": "kGL9o9jPobjY"
      }
    },
    {
      "cell_type": "code",
      "source": [
        "def train(train_loader, loss_function, model, optimizer, grad_clipping, max_norm, log_batch, log_interval):\n",
        "\n",
        "  # Training Loop \n",
        "\n",
        "  # initilalize variables as global\n",
        "  # these counts will be updated every epoch\n",
        "  global batch_ct_train\n",
        "\n",
        "  # Initialize train_loss at the he start of the epoch\n",
        "  running_train_loss = 0\n",
        "  running_train_correct = 0\n",
        "  \n",
        "  # put the model in training mode\n",
        "\n",
        "  model.train()\n",
        "  # Iterate on batches from the dataset using train_loader\n",
        "  for input_, targets in train_loader:\n",
        "    \n",
        "    # move inputs and outputs to GPUs\n",
        "    input_ = input_.to(device)\n",
        "    targets = targets.to(device)\n",
        "\n",
        "\n",
        "    # Step 1: Forward Pass: Compute model's predictions \n",
        "    output = model(input_)\n",
        "    \n",
        "    # Step 2: Compute loss\n",
        "    loss = loss_function(output, targets)\n",
        "\n",
        "    # Correct prediction\n",
        "    y_pred = torch.argmax(output, dim = 1)\n",
        "    correct = torch.sum(y_pred == targets)\n",
        "\n",
        "    batch_ct_train += 1\n",
        "\n",
        "    # Step 3: Backward pass -Compute the gradients\n",
        "    optimizer.zero_grad()\n",
        "    loss.backward()\n",
        "\n",
        "    # Gradient Clipping\n",
        "    if grad_clipping:\n",
        "      nn.utils.clip_grad_norm_(model.parameters(), max_norm=max_norm, norm_type=2)\n",
        "\n",
        "    # Step 4: Update the parameters\n",
        "    optimizer.step()\n",
        "    \n",
        "    # For One Cycle Learning Rate - add step here\n",
        "    # scheduler.step()\n",
        "          \n",
        "    # Add train loss of a batch \n",
        "    running_train_loss += loss.item()\n",
        "\n",
        "    # Add Corect counts of a batch\n",
        "    running_train_correct += correct\n",
        "\n",
        "    # log batch loss and accuracy\n",
        "    if log_batch:\n",
        "      if ((batch_ct_train + 1) % log_interval) == 0:\n",
        "        wandb.log({f\"Train Batch Loss  :\": loss})\n",
        "        wandb.log({f\"Train Batch Acc :\": correct/len(targets)})\n",
        "        # print(f'Learning rate: {scheduler.get_last_lr()}')\n",
        "\n",
        "  \n",
        "  # Calculate mean train loss for the whole dataset for a particular epoch\n",
        "  train_loss = running_train_loss/len(train_loader)\n",
        "\n",
        "  # Calculate accuracy for the whole dataset for a particular epoch\n",
        "  train_acc = running_train_correct/len(train_loader.dataset)\n",
        "  \n",
        "\n",
        "  return train_loss, train_acc"
      ],
      "metadata": {
        "id": "zfG6rkHZobjY"
      },
      "execution_count": null,
      "outputs": []
    },
    {
      "cell_type": "markdown",
      "source": [
        "## <Font color = 'pickle'>**Function for Validation Loops**\n"
      ],
      "metadata": {
        "id": "peQlyOCXobjY"
      }
    },
    {
      "cell_type": "code",
      "source": [
        "def validate(valid_loader, loss_function, model, log_batch, log_interval):\n",
        "\n",
        "  # initilalize variables as global\n",
        "  # these counts will be updated every epoch\n",
        "  global batch_ct_valid\n",
        "\n",
        "  # Validation/Test loop\n",
        "  # Initialize valid_loss at the he strat of the epoch\n",
        "  running_val_loss = 0\n",
        "  running_val_correct = 0\n",
        "\n",
        "  # put the model in evaluation mode\n",
        "  model.eval()\n",
        "\n",
        "  with torch.no_grad():\n",
        "    for input_,targets in valid_loader:\n",
        "\n",
        "      # move inputs and outputs to GPUs\n",
        "      input_ = input_.to(device)\n",
        "      targets = targets.to(device)\n",
        "\n",
        "      # Step 1: Forward Pass: Compute model's predictions \n",
        "      output = model(input_)\n",
        "\n",
        "      # Step 2: Compute loss\n",
        "      loss = loss_function(output, targets)\n",
        "\n",
        "      # Correct Predictions\n",
        "      y_pred = torch.argmax(output, dim = 1)\n",
        "      correct = torch.sum(y_pred == targets)\n",
        "\n",
        "      batch_ct_valid += 1\n",
        "\n",
        "      # Add val loss of a batch \n",
        "      running_val_loss += loss.item()\n",
        "\n",
        "      # Add correct count for each batch\n",
        "      running_val_correct += correct\n",
        "\n",
        "      # log batch loss and accuracy\n",
        "      if log_batch:\n",
        "        if ((batch_ct_valid + 1) % log_interval) == 0:\n",
        "          wandb.log({f\"Valid Batch Loss  :\": loss})\n",
        "          wandb.log({f\"Valid Batch Accuracy :\": correct/len(targets)})\n",
        "\n",
        "    # Calculate mean val loss for the whole dataset for a particular epoch\n",
        "    val_loss = running_val_loss/len(valid_loader)\n",
        "\n",
        "    # Calculate accuracy for the whole dataset for a particular epoch\n",
        "    val_acc = running_val_correct/len(valid_loader.dataset)\n",
        "\n",
        "    # scheduler step\n",
        "    scheduler.step(val_loss)\n",
        "    \n",
        "  return val_loss, val_acc"
      ],
      "metadata": {
        "id": "78N-K_1FobjY"
      },
      "execution_count": null,
      "outputs": []
    },
    {
      "cell_type": "markdown",
      "source": [
        "## <Font color = 'pickle'>**Function for Model Training**"
      ],
      "metadata": {
        "id": "Xl8DJ6irobjZ"
      }
    },
    {
      "cell_type": "code",
      "source": [
        "def train_loop(train_loader, valid_loader, model, optimizer, loss_function, epochs, device, patience, early_stopping,\n",
        "               file_model, save_best_model):\n",
        "    \n",
        "  \"\"\" \n",
        "  Function for training the model and plotting the graph for train & validation loss vs epoch.\n",
        "  Input: iterator for train dataset, initial weights and bias, epochs, learning rate, batch size.\n",
        "  Output: final weights, bias and train loss and validation loss for each epoch.\n",
        "  \"\"\"\n",
        "\n",
        "  # Create lists to store train and val loss at each epoch\n",
        "  train_loss_history = []\n",
        "  valid_loss_history = []\n",
        "  train_acc_history = []\n",
        "  valid_acc_history = []\n",
        "\n",
        "  # initialize variables for early stopping\n",
        "\n",
        "  delta = 0\n",
        "  best_score = None\n",
        "  valid_loss_min = np.Inf\n",
        "  counter_early_stop=0\n",
        "  early_stop=False\n",
        "\n",
        "  # Iterate for the given number of epochs\n",
        "  # Step 5: Repeat steps 1 - 4\n",
        "\n",
        "  for epoch in range(epochs):\n",
        "\n",
        "    t0 = datetime.now()\n",
        "\n",
        "    # Get train loss and accuracy for one epoch\n",
        "    train_loss, train_acc = train(train_loader, loss_function, model, optimizer, \n",
        "                                  wandb.config.grad_clipping, wandb.config.max_norm,\n",
        "                                  wandb.config.log_batch, wandb.config.log_interval)\n",
        "    valid_loss, valid_acc   = validate(valid_loader, loss_function, model, wandb.config.log_batch, wandb.config.log_interval)\n",
        "\n",
        "    dt = datetime.now() - t0\n",
        "\n",
        "    # Save history of the Losses and accuracy\n",
        "    train_loss_history.append(train_loss)\n",
        "    train_acc_history.append(train_acc)\n",
        "\n",
        "    valid_loss_history.append(valid_loss)\n",
        "    valid_acc_history.append(valid_acc)\n",
        "\n",
        "    # Log the train and valid loss to wandb\n",
        "    wandb.log({f\"Train Loss :\": train_loss, \"epoch\": epoch})\n",
        "    wandb.log({f\"Train Acc :\": train_acc, \"epoch\": epoch})\n",
        "\n",
        "    wandb.log({f\"Valid Loss :\": valid_loss, \"epoch\": epoch})\n",
        "    wandb.log({f\"Valid Acc :\": valid_acc, \"epoch\": epoch})\n",
        "\n",
        "    if early_stopping:\n",
        "      score = -valid_loss\n",
        "      if best_score is None:\n",
        "        best_score=score\n",
        "        print(f'Validation loss has decreased ({valid_loss_min:.6f} --> {valid_loss:.6f}). Saving Model...')\n",
        "        torch.save(model.state_dict(), file_model)\n",
        "        valid_loss_min = valid_loss\n",
        "\n",
        "      elif score < best_score + delta:\n",
        "        counter_early_stop += 1\n",
        "        print(f'Early stoping counter: {counter_early_stop} out of {patience}')\n",
        "        if counter_early_stop > patience:\n",
        "          early_stop = True\n",
        "\n",
        "      \n",
        "      else:\n",
        "        best_score = score\n",
        "        print(f'Validation loss has decreased ({valid_loss_min:.6f} --> {valid_loss:.6f}). Saving model...')\n",
        "        torch.save(model.state_dict(), file_model)\n",
        "        counter_early_stop=0\n",
        "        valid_loss_min = valid_loss\n",
        "\n",
        "      if early_stop:\n",
        "        print('Early Stopping')\n",
        "        break\n",
        "\n",
        "    elif save_best_model:\n",
        "\n",
        "      score = -valid_loss\n",
        "      if best_score is None:\n",
        "        best_score=score\n",
        "        print(f'Validation loss has decreased ({valid_loss_min:.6f} --> {valid_loss:.6f}). Saving Model...')\n",
        "        torch.save(model.state_dict(), file_model)\n",
        "        valid_loss_min = valid_loss\n",
        "\n",
        "      elif score < best_score + delta:\n",
        "        print(f'Validation loss has not decreased ({valid_loss_min:.6f} --> {valid_loss:.6f}). Not Saving Model...')\n",
        "      \n",
        "      else:\n",
        "        best_score = score\n",
        "        print(f'Validation loss has decreased ({valid_loss_min:.6f} --> {valid_loss:.6f}). Saving model...')\n",
        "        torch.save(model.state_dict(), file_model)\n",
        "        valid_loss_min = valid_loss\n",
        "        \n",
        "    else:\n",
        "        torch.save(model.state_dict(), file_model)\n",
        "    \n",
        "    # Print the train loss and accuracy for given number of epochs, batch size and number of samples\n",
        "    print(f'Epoch : {epoch+1} / {epochs}')\n",
        "    print(f'Time to complete {epoch+1} is {dt}')\n",
        "    print(f'Learning rate: {scheduler._last_lr[0]}') # for ReduceLR\n",
        "    # print(f'Learning rate: {scheduler.get_last_lr()}') # for OneCycle\n",
        "    print(f'Train Loss: {train_loss : .4f} | Train Accuracy: {train_acc * 100 : .4f}%')\n",
        "    print(f'Valid Loss: {valid_loss : .4f} | Valid Accuracy: {valid_acc * 100 : .4f}%')\n",
        "    print()\n",
        "    torch.cuda.empty_cache()\n",
        "\n",
        "  return train_loss_history, train_acc_history, valid_loss_history, valid_acc_history"
      ],
      "metadata": {
        "id": "pUcXHw8ZobjZ"
      },
      "execution_count": null,
      "outputs": []
    },
    {
      "cell_type": "markdown",
      "source": [
        "## <Font color = 'pickle'>**Function for Accuracy and Predictions**"
      ],
      "metadata": {
        "id": "o-KLsrZ_objZ"
      }
    },
    {
      "cell_type": "code",
      "source": [
        "def get_acc_pred(data_loader, model, device):\n",
        "    \n",
        "  \"\"\" \n",
        "  Function to get predictions and accuracy for a given data using estimated model\n",
        "  Input: Data iterator, Final estimated weoights, bias\n",
        "  Output: Prections and Accuracy for given dataset\n",
        "  \"\"\"\n",
        "\n",
        "  # Array to store predicted labels\n",
        "  predictions = torch.Tensor() # empty tensor\n",
        "  predictions = predictions.to(device) # move predictions to GPU\n",
        "\n",
        "  # Array to store actual labels\n",
        "  y = torch.Tensor() # empty tensor\n",
        "  y = y.to(device)\n",
        "\n",
        "  # put the model in evaluation mode\n",
        "  model.eval()\n",
        "  \n",
        "  # Iterate over batches from data iterator\n",
        "  with torch.no_grad():\n",
        "    for input_, targets in data_loader:\n",
        "      \n",
        "      # move inputs and outputs to GPUs\n",
        "      \n",
        "      input_ = input_.to(device)\n",
        "      targets = targets.to(device)\n",
        "      \n",
        "      # Calculated the predicted labels\n",
        "      output = model(input_)\n",
        "\n",
        "      # Choose the label with maximum probability\n",
        "      prediction = torch.argmax(output, dim = 1)\n",
        "\n",
        "      # Add the predicted labels to the array\n",
        "      predictions = torch.cat((predictions, prediction)) \n",
        "\n",
        "      # Add the actual labels to the array\n",
        "      y = torch.cat((y, targets)) \n",
        "\n",
        "  # Check for complete dataset if actual and predicted labels are same or not\n",
        "  # Calculate accuracy\n",
        "  acc = (predictions == y).float().mean()\n",
        "\n",
        "  # Return tuple containing predictions and accuracy\n",
        "  return predictions, acc  "
      ],
      "metadata": {
        "id": "d1gjjhAkobjZ"
      },
      "execution_count": null,
      "outputs": []
    },
    {
      "cell_type": "markdown",
      "source": [
        "# <Font color = 'pickle'>**Meta Data**"
      ],
      "metadata": {
        "id": "Zvh-YmA9objZ"
      }
    },
    {
      "cell_type": "code",
      "source": [
        "hyperparameters2 = SimpleNamespace(\n",
        "    epochs = 10,\n",
        "    output_dim = 10,\n",
        "    batch_size=256,\n",
        "    learning_rate=1e-2,\n",
        "    dataset=\"Cifar10\",\n",
        "    architecture=\"Cifar10_CustomNN_Experiment\",\n",
        "    log_interval = 100,\n",
        "    log_batch = True,\n",
        "    file_model = model_folder/'cifar10_custom_model_experiment.pt',\n",
        "    grad_clipping = True,\n",
        "    max_norm = 1,\n",
        "    momentum = 0.9,\n",
        "    patience = 5,\n",
        "    early_stopping = False,\n",
        "    scheduler_factor = 0.5,\n",
        "    scheduler_patience = 0,\n",
        "    save_best_model = False,\n",
        "    device = torch.device('cuda:0' if torch.cuda.is_available() else 'cpu'),\n",
        "    weight_decay = 0,\n",
        "    \n",
        "    \n",
        "    )"
      ],
      "metadata": {
        "id": "lwcl7muDobjZ"
      },
      "execution_count": null,
      "outputs": []
    },
    {
      "cell_type": "code",
      "source": [
        "# Initialize a new project\n",
        "wandb.init(name = \"Best_Model\", project = 'dl22_HW6' , config = hyperparameters2)"
      ],
      "metadata": {
        "colab": {
          "base_uri": "https://localhost:8080/",
          "height": 259,
          "referenced_widgets": [
            "ddaa051072464c16bc56aa9158b2c8f6",
            "e2fad32ad5544f4c945149cf6213707f",
            "4fb508400f804a7190a2b7b10cf282cd",
            "8686f70c849845a08531854c33e288bb",
            "faecbf31e84d41808b0bb31328320123",
            "4f60130c397545b295b493a244b1db3d",
            "f1e56d175d764b9f893da9e74813772f",
            "ec1c7b878dec4dab89c12dc76795a8f7"
          ]
        },
        "outputId": "47cb3c97-0e2b-4be4-d78d-f345a0ad82e7",
        "id": "8u3uCvaSobjZ"
      },
      "execution_count": null,
      "outputs": [
        {
          "output_type": "display_data",
          "data": {
            "text/plain": [
              "<IPython.core.display.HTML object>"
            ],
            "text/html": [
              "Finishing last run (ID:1f1ci18c) before initializing another..."
            ]
          },
          "metadata": {}
        },
        {
          "output_type": "display_data",
          "data": {
            "text/plain": [
              "<IPython.core.display.HTML object>"
            ],
            "text/html": [
              "Waiting for W&B process to finish... <strong style=\"color:green\">(success).</strong>"
            ]
          },
          "metadata": {}
        },
        {
          "output_type": "display_data",
          "data": {
            "text/plain": [
              "VBox(children=(Label(value='0.001 MB of 0.009 MB uploaded (0.000 MB deduped)\\r'), FloatProgress(value=0.079793…"
            ],
            "application/vnd.jupyter.widget-view+json": {
              "version_major": 2,
              "version_minor": 0,
              "model_id": "ddaa051072464c16bc56aa9158b2c8f6"
            }
          },
          "metadata": {}
        },
        {
          "output_type": "display_data",
          "data": {
            "text/plain": [
              "<IPython.core.display.HTML object>"
            ],
            "text/html": [
              "Synced <strong style=\"color:#cdcd00\">cifar10_exp1</strong>: <a href=\"https://wandb.ai/pranavshekhar2/dl22_HW6/runs/1f1ci18c\" target=\"_blank\">https://wandb.ai/pranavshekhar2/dl22_HW6/runs/1f1ci18c</a><br/>Synced 4 W&B file(s), 0 media file(s), 0 artifact file(s) and 0 other file(s)"
            ]
          },
          "metadata": {}
        },
        {
          "output_type": "display_data",
          "data": {
            "text/plain": [
              "<IPython.core.display.HTML object>"
            ],
            "text/html": [
              "Find logs at: <code>./wandb/run-20221112_031825-1f1ci18c/logs</code>"
            ]
          },
          "metadata": {}
        },
        {
          "output_type": "display_data",
          "data": {
            "text/plain": [
              "<IPython.core.display.HTML object>"
            ],
            "text/html": [
              "Successfully finished last run (ID:1f1ci18c). Initializing new run:<br/>"
            ]
          },
          "metadata": {}
        },
        {
          "output_type": "display_data",
          "data": {
            "text/plain": [
              "<IPython.core.display.HTML object>"
            ],
            "text/html": [
              "Tracking run with wandb version 0.13.5"
            ]
          },
          "metadata": {}
        },
        {
          "output_type": "display_data",
          "data": {
            "text/plain": [
              "<IPython.core.display.HTML object>"
            ],
            "text/html": [
              "Run data is saved locally in <code>/content/wandb/run-20221112_031851-3nrs566m</code>"
            ]
          },
          "metadata": {}
        },
        {
          "output_type": "display_data",
          "data": {
            "text/plain": [
              "<IPython.core.display.HTML object>"
            ],
            "text/html": [
              "Syncing run <strong><a href=\"https://wandb.ai/pranavshekhar2/dl22_HW6/runs/3nrs566m\" target=\"_blank\">Best_Model</a></strong> to <a href=\"https://wandb.ai/pranavshekhar2/dl22_HW6\" target=\"_blank\">Weights & Biases</a> (<a href=\"https://wandb.me/run\" target=\"_blank\">docs</a>)<br/>"
            ]
          },
          "metadata": {}
        },
        {
          "output_type": "execute_result",
          "data": {
            "text/html": [
              "<button onClick=\"this.nextSibling.style.display='block';this.style.display='none';\">Display W&B run</button><iframe src=\"https://wandb.ai/pranavshekhar2/dl22_HW6/runs/3nrs566m?jupyter=true\" style=\"border:none;width:100%;height:420px;display:none;\"></iframe>"
            ],
            "text/plain": [
              "<wandb.sdk.wandb_run.Run at 0x7f8fc1c35bd0>"
            ]
          },
          "metadata": {},
          "execution_count": 219
        }
      ]
    },
    {
      "cell_type": "markdown",
      "source": [
        "# <Font color = 'pickle'>**Data Loaders, Loss Function, Optimizer**"
      ],
      "metadata": {
        "id": "xNLDknuOobja"
      }
    },
    {
      "cell_type": "code",
      "source": [
        "wandb.config = hyperparameters2\n",
        "wandb.config"
      ],
      "metadata": {
        "colab": {
          "base_uri": "https://localhost:8080/"
        },
        "outputId": "77d51f49-727c-4b8d-c67e-02541c01cb9b",
        "id": "ofQ29Vzfobja"
      },
      "execution_count": null,
      "outputs": [
        {
          "output_type": "execute_result",
          "data": {
            "text/plain": [
              "namespace(architecture='Cifar10_CustomNN_Experiment', batch_size=256, dataset='Cifar10', device=device(type='cuda', index=0), early_stopping=False, epochs=10, file_model=PosixPath('/content/drive/MyDrive/Deep_Learning_UTD/Model/cifar10_custom_model_experiment.pt'), grad_clipping=True, learning_rate=0.01, log_batch=True, log_interval=100, max_norm=1, momentum=0.9, output_dim=10, patience=5, save_best_model=False, scheduler_factor=0.5, scheduler_patience=0, weight_decay=0)"
            ]
          },
          "metadata": {},
          "execution_count": 220
        }
      ]
    },
    {
      "cell_type": "code",
      "source": [
        "# Fix seed value\n",
        "SEED = 2345\n",
        "random.seed(SEED)\n",
        "np.random.seed(SEED)\n",
        "torch.manual_seed(SEED)\n",
        "torch.cuda.manual_seed(SEED)\n",
        "torch.backends.cudnn.deterministic = True\n",
        "\n",
        "# Data Loader\n",
        "train_loader = torch.utils.data.DataLoader(trainset, batch_size=wandb.config.batch_size, shuffle = True)\n",
        "valid_loader = torch.utils.data.DataLoader(validset, batch_size=wandb.config.batch_size, shuffle = False)\n",
        "test_loader = torch.utils.data.DataLoader(testset, batch_size=wandb.config.batch_size,   shuffle = False)\n",
        "\n",
        "# model \n",
        "model = Cifar10CNN_Experiment()\n",
        "\n",
        "# Initialize weights from normal distribution with mean 0 and standard deviation 0.01\n",
        "def init_weights(m):\n",
        "  if type(m) == nn.Linear:\n",
        "        torch.nn.init.kaiming_normal_(m.weight)\n",
        "        torch.nn.init.zeros_(m.bias)\n",
        "\n",
        "  if type(m) == nn.Conv2d:\n",
        "        torch.nn.init.kaiming_normal_(m.weight)\n",
        "        torch.nn.init.zeros_(m.bias)\n",
        "\n",
        "model.to(wandb.config.device)\n",
        "# model.apply(init_weights)\n",
        "\n",
        "# loss_function\n",
        "loss_function = nn.CrossEntropyLoss()\n",
        "\n",
        "optimizer = torch.optim.SGD(model.parameters(), \n",
        "                            lr = wandb.config.learning_rate, \n",
        "                            momentum = wandb.config.momentum,\n",
        "                            weight_decay = wandb.config.weight_decay)\n",
        "\n",
        "scheduler = ReduceLROnPlateau(optimizer, mode='min', factor= wandb.config.scheduler_factor, \n",
        "                              patience=wandb.config.scheduler_patience, verbose=True)\n",
        "\n"
      ],
      "metadata": {
        "id": "fJFV4TH8obja"
      },
      "execution_count": null,
      "outputs": []
    },
    {
      "cell_type": "markdown",
      "source": [
        "# <Font color = 'pickle'>**Training Model**"
      ],
      "metadata": {
        "id": "uOtBp4yyobja"
      }
    },
    {
      "cell_type": "code",
      "source": [
        "wandb.watch(model, log = 'all', log_freq=25, log_graph=True)"
      ],
      "metadata": {
        "colab": {
          "base_uri": "https://localhost:8080/"
        },
        "outputId": "5bba418e-4d28-4bb4-ea16-d2babe56458c",
        "id": "VQmihNBPobja"
      },
      "execution_count": null,
      "outputs": [
        {
          "output_type": "stream",
          "name": "stderr",
          "text": [
            "\u001b[34m\u001b[1mwandb\u001b[0m: logging graph, to disable use `wandb.watch(log_graph=False)`\n"
          ]
        },
        {
          "output_type": "execute_result",
          "data": {
            "text/plain": [
              "[<wandb.wandb_torch.TorchGraph at 0x7f8fc1977d90>]"
            ]
          },
          "metadata": {},
          "execution_count": 222
        }
      ]
    },
    {
      "cell_type": "code",
      "source": [
        "device = torch.device('cuda:0' if torch.cuda.is_available() else 'cpu')"
      ],
      "metadata": {
        "id": "QvjSbPMxobja"
      },
      "execution_count": null,
      "outputs": []
    },
    {
      "cell_type": "code",
      "source": [
        "# See live graphs in the notebook.\n",
        "#%%wandb \n",
        "batch_ct_train, batch_ct_valid = 0, 0\n",
        "train_loss_history, train_acc_history, valid_loss_history, valid_acc_history = train_loop(train_loader, \n",
        "                                                                                          valid_loader, \n",
        "                                                                                          model, \n",
        "                                                                                          optimizer, \n",
        "                                                                                          loss_function, \n",
        "                                                                                          wandb.config.epochs, \n",
        "                                                                                          wandb.config.device,\n",
        "                                                                                          wandb.config.patience,\n",
        "                                                                                          wandb.config.early_stopping,\n",
        "                                                                                          wandb.config.file_model,\n",
        "                                                                                          wandb.config.save_best_model\n",
        "                                                                                          )"
      ],
      "metadata": {
        "colab": {
          "base_uri": "https://localhost:8080/"
        },
        "outputId": "8ee1715f-4a6f-4bb0-e8d0-0200c16340cf",
        "id": "LLnu9ZFdobja"
      },
      "execution_count": null,
      "outputs": [
        {
          "output_type": "stream",
          "name": "stdout",
          "text": [
            "Epoch : 1 / 10\n",
            "Time to complete 1 is 0:00:16.345803\n",
            "Learning rate: 0.01\n",
            "Train Loss:  1.7244 | Train Accuracy:  39.0825%\n",
            "Valid Loss:  1.4698 | Valid Accuracy:  48.9900%\n",
            "\n",
            "Epoch : 2 / 10\n",
            "Time to complete 2 is 0:00:16.486050\n",
            "Learning rate: 0.01\n",
            "Train Loss:  1.2539 | Train Accuracy:  55.7850%\n",
            "Valid Loss:  1.1999 | Valid Accuracy:  57.5600%\n",
            "\n",
            "Epoch : 3 / 10\n",
            "Time to complete 3 is 0:00:19.379684\n",
            "Learning rate: 0.01\n",
            "Train Loss:  1.0662 | Train Accuracy:  62.5175%\n",
            "Valid Loss:  1.0884 | Valid Accuracy:  61.8200%\n",
            "\n",
            "Epoch : 4 / 10\n",
            "Time to complete 4 is 0:00:16.196145\n",
            "Learning rate: 0.01\n",
            "Train Loss:  0.9564 | Train Accuracy:  66.7375%\n",
            "Valid Loss:  1.0169 | Valid Accuracy:  64.2400%\n",
            "\n",
            "Epoch : 5 / 10\n",
            "Time to complete 5 is 0:00:17.563714\n",
            "Learning rate: 0.01\n",
            "Train Loss:  0.8727 | Train Accuracy:  69.6100%\n",
            "Valid Loss:  1.0085 | Valid Accuracy:  64.4600%\n",
            "\n",
            "Epoch : 6 / 10\n",
            "Time to complete 6 is 0:00:16.294586\n",
            "Learning rate: 0.01\n",
            "Train Loss:  0.8015 | Train Accuracy:  72.1725%\n",
            "Valid Loss:  0.9290 | Valid Accuracy:  67.3800%\n",
            "\n",
            "Epoch : 7 / 10\n",
            "Time to complete 7 is 0:00:16.183906\n",
            "Learning rate: 0.01\n",
            "Train Loss:  0.7437 | Train Accuracy:  74.2950%\n",
            "Valid Loss:  0.9227 | Valid Accuracy:  67.8300%\n",
            "\n",
            "Epoch 00008: reducing learning rate of group 0 to 5.0000e-03.\n",
            "Epoch : 8 / 10\n",
            "Time to complete 8 is 0:00:17.431813\n",
            "Learning rate: 0.005\n",
            "Train Loss:  0.6824 | Train Accuracy:  76.3450%\n",
            "Valid Loss:  0.9295 | Valid Accuracy:  67.6100%\n",
            "\n",
            "Epoch : 9 / 10\n",
            "Time to complete 9 is 0:00:15.941199\n",
            "Learning rate: 0.005\n",
            "Train Loss:  0.5902 | Train Accuracy:  80.3350%\n",
            "Valid Loss:  0.8890 | Valid Accuracy:  69.4000%\n",
            "\n",
            "Epoch : 10 / 10\n",
            "Time to complete 10 is 0:00:17.412580\n",
            "Learning rate: 0.005\n",
            "Train Loss:  0.5501 | Train Accuracy:  81.6225%\n",
            "Valid Loss:  0.8862 | Valid Accuracy:  69.6700%\n",
            "\n"
          ]
        }
      ]
    },
    {
      "cell_type": "markdown",
      "source": [
        "## Wandb Link"
      ],
      "metadata": {
        "id": "wSGsr77c7UKZ"
      }
    },
    {
      "cell_type": "markdown",
      "source": [
        "WANDB Link - https://wandb.ai/pranavshekhar2/dl22_HW6?workspace=user-pranavshekhar2"
      ],
      "metadata": {
        "id": "pduZyDRG7MFp"
      }
    }
  ]
}