{
  "cells": [
    {
      "cell_type": "markdown",
      "metadata": {
        "id": "CHOOjWzzFh1G"
      },
      "source": [
        "# <font color = 'pickle'> **HW4_Part A  (5 Points):**</font> \n",
        "\n",
        "Required Submissions:\n",
        "1.  Submit  colab/jupyter notebooks only.\n",
        "2. **Name files as follows : FirstName_hw4_part_A**\n",
        "\n",
        "<font size = 5, color = 'indianred'>**Refactor the code using Pytorch's nn.Module.** \n"
      ]
    },
    {
      "cell_type": "code",
      "execution_count": null,
      "metadata": {
        "id": "Aj-1ywwf9CQg"
      },
      "outputs": [],
      "source": [
        "import torch\n",
        "import time\n",
        "import numpy as np\n",
        "import matplotlib.pyplot as plt"
      ]
    },
    {
      "cell_type": "code",
      "execution_count": null,
      "metadata": {
        "id": "_WbGuQUHakAD"
      },
      "outputs": [],
      "source": [
        "torch.set_printoptions(precision=4, sci_mode=False)"
      ]
    },
    {
      "cell_type": "markdown",
      "metadata": {
        "id": "BYYL_jnG0B3i"
      },
      "source": [
        "# <font color = 'pickle'>**. Regression using PyTorch's nn.Module**</font>\n",
        "\n",
        "Imagine that you're trying to figure out relationship between two variables x and y . You have some idea but you aren't quite sure yet whether the dependence is linear or quadratic. \n",
        "\n",
        "Your goal is to use least mean squares regression to identify the coefficients for the following three models using. The three models are:\n",
        "\n",
        "1. Quadratic model where $\\mathrm{y} = b + w_1 \\cdot \\mathrm{x} + w_2 \\cdot \\mathrm{x}^2$.\n",
        "1. Linear model where $\\mathrm{y} = b + w_1 \\cdot \\mathrm{x}$.\n",
        "1. Linear model with no bias  where $\\mathrm{y} = w_1 \\cdot \\mathrm{x}$.\n",
        "\n",
        "- You will use batch gradient descent to estimate the model co-efficients. Batch gradient descent uses complete training data at each iteration. \n",
        "- We will implement only training loop (no splitting of data in to training/validation).\n",
        "- The training loop will have only one for loop. We need to iterate over whole data in each epoch. We do not need to craete batches.\n",
        "- <font color = 'indianred'>**You will use Pytorch's nn.module or functions from Pytorch to refactor the code below**"
      ]
    },
    {
      "cell_type": "markdown",
      "metadata": {
        "id": "JShaYAruM_9F"
      },
      "source": [
        "## <font color = 'pickle'> **Data**"
      ]
    },
    {
      "cell_type": "code",
      "source": [
        "import torch.nn as nn\n",
        "from torch.nn import functional as F\n",
        "from torch.nn import MSELoss"
      ],
      "metadata": {
        "id": "_y5QRp5-Df61"
      },
      "execution_count": null,
      "outputs": []
    },
    {
      "cell_type": "code",
      "execution_count": null,
      "metadata": {
        "id": "WUcQ0mpp3HNm"
      },
      "outputs": [],
      "source": [
        "x = torch.tensor([1.5420291, 1.8935232, 2.1603365, 2.5381863, 2.893443, \\\n",
        "                    3.838855, 3.925425, 4.2233696, 4.235571, 4.273397, \\\n",
        "                    4.9332876, 6.4704757, 6.517571, 6.87826, 7.0009003, \\\n",
        "                    7.035741, 7.278681, 7.7561755, 9.121138, 9.728281])\n",
        "y = torch.tensor([63.802246, 80.036026, 91.4903, 108.28776, 122.781975, \\\n",
        "                    161.36314, 166.50816, 176.16772, 180.29395, 179.09758, \\\n",
        "                    206.21027, 272.71857, 272.24033, 289.54745, 293.8488, \\\n",
        "                    295.2281, 306.62274, 327.93243, 383.16296, 408.65967])"
      ]
    },
    {
      "cell_type": "code",
      "source": [
        "y = y.view(-1,1)\n",
        "x = x.view(-1,1)\n",
        "x2 = x * x"
      ],
      "metadata": {
        "id": "ZxjWhMj1LANY"
      },
      "execution_count": null,
      "outputs": []
    },
    {
      "cell_type": "code",
      "source": [
        "x_combined = torch.cat((x,x2), dim = 1)"
      ],
      "metadata": {
        "id": "TsCugCF4LCcb"
      },
      "execution_count": null,
      "outputs": []
    },
    {
      "cell_type": "code",
      "source": [
        "mse_loss = torch.nn.MSELoss(reduction = 'mean')"
      ],
      "metadata": {
        "id": "WUPlEWo1F0WL"
      },
      "execution_count": null,
      "outputs": []
    },
    {
      "cell_type": "code",
      "source": [
        "def init_weights(layer):\n",
        "  if isinstance(layer, nn.Linear):\n",
        "    torch.nn.init.normal_(layer.weight, mean = 0, std = 0.01)\n",
        "    torch.nn.init.zeros_(layer.bias)"
      ],
      "metadata": {
        "id": "KVaTHYHUGVYb"
      },
      "execution_count": null,
      "outputs": []
    },
    {
      "cell_type": "markdown",
      "metadata": {
        "id": "QOXjRegsNZXM"
      },
      "source": [
        "## <font color = 'pickle'> **Utility Functions**"
      ]
    },
    {
      "cell_type": "markdown",
      "metadata": {
        "id": "q1SCuro_IxmQ"
      },
      "source": [
        "### <font color = 'pickle'>**Model Linear Regression**"
      ]
    },
    {
      "cell_type": "markdown",
      "metadata": {
        "id": "BbT4Z89HHvPb"
      },
      "source": [
        "### <font color = 'pickle'> **Train Function**"
      ]
    },
    {
      "cell_type": "code",
      "execution_count": null,
      "metadata": {
        "id": "FSJU5UgpNy6b"
      },
      "outputs": [],
      "source": [
        "from torch.optim import optimizer\n",
        "\n",
        "def train(epochs, log_interval, x, y, model, optimizer):\n",
        " \n",
        "  for epoch in range(epochs):\n",
        "    \n",
        "    # Step1: forward pass\n",
        "    \n",
        "    y_hat = model(x)\n",
        "\n",
        "    # Step2 : Calculate Loss\n",
        "    loss = mse_loss(y_hat, y)\n",
        "    \n",
        "    #Zero the gradients\n",
        "    optimizer.zero_grad()\n",
        "    \n",
        "    #Calculate Gradients\n",
        "    loss.backward()\n",
        "\n",
        "    #Update weights\n",
        "    optimizer.step()\n",
        "    \n",
        "    if(epoch % log_interval ==0):\n",
        "      print(f'epoch: {epoch + 1} --> loss {loss.item()}')\n",
        "\n",
        "  return (model.weight, model.bias)\n",
        "  \n",
        " "
      ]
    },
    {
      "cell_type": "markdown",
      "metadata": {
        "id": "xns2sBYJm0dj"
      },
      "source": [
        "## <font color = 'pickle'> **Solution 7(1)**"
      ]
    },
    {
      "cell_type": "code",
      "execution_count": null,
      "metadata": {
        "colab": {
          "base_uri": "https://localhost:8080/"
        },
        "id": "utgwb7HyRZkm",
        "outputId": "f00d1af5-918f-4a5c-8e60-9032dfab45ce"
      },
      "outputs": [
        {
          "output_type": "stream",
          "name": "stdout",
          "text": [
            "epoch: 1 --> loss 55602.9296875\n",
            "epoch: 10001 --> loss 5.200544357299805\n",
            "epoch: 20001 --> loss 3.194113254547119\n",
            "epoch: 30001 --> loss 2.187486171722412\n",
            "epoch: 40001 --> loss 1.6822229623794556\n",
            "epoch: 50001 --> loss 1.4286458492279053\n",
            "epoch: 60001 --> loss 1.3012388944625854\n",
            "epoch: 70001 --> loss 1.2373006343841553\n",
            "epoch: 80001 --> loss 1.205160140991211\n",
            "epoch: 90001 --> loss 1.1889984607696533\n"
          ]
        }
      ],
      "source": [
        "# model 1  \n",
        "EPOCHS = 100000\n",
        "LOG_INTERVAL = 10000\n",
        "LEARNING_RATE = 0.0005\n",
        "BIAS = True\n",
        "\n",
        "model1 = nn.Linear(in_features = 2, out_features=1, bias = BIAS)\n",
        "optimizer1 = torch.optim.SGD(model1.parameters(), lr = LEARNING_RATE)\n",
        "\n",
        "w1, b1 = train(EPOCHS, LOG_INTERVAL, x_combined, y, model1, optimizer1)"
      ]
    },
    {
      "cell_type": "code",
      "execution_count": null,
      "metadata": {
        "colab": {
          "base_uri": "https://localhost:8080/"
        },
        "id": "vYu7XpVUXe6F",
        "outputId": "e54fb475-b3a6-4812-83f4-2beb95661ed6"
      },
      "outputs": [
        {
          "output_type": "stream",
          "name": "stdout",
          "text": [
            " Weights Parameter containing:\n",
            "tensor([[   41.7920,     0.0152]], requires_grad=True), \n",
            "Bias: Parameter containing:\n",
            "tensor([0.9887], requires_grad=True)\n"
          ]
        }
      ],
      "source": [
        "print(f' Weights {model1.weight}, \\nBias: {model1.bias}')"
      ]
    },
    {
      "cell_type": "markdown",
      "metadata": {
        "id": "yjBjky9Hm7Up"
      },
      "source": [
        "## <font color = 'pickle'> **Solution 7(2)**"
      ]
    },
    {
      "cell_type": "code",
      "execution_count": null,
      "metadata": {
        "colab": {
          "base_uri": "https://localhost:8080/"
        },
        "id": "ELy7vX8Fm7Up",
        "outputId": "cc8b5b0e-42d4-4d28-ade7-702534b8bb49"
      },
      "outputs": [
        {
          "output_type": "stream",
          "name": "stdout",
          "text": [
            "epoch: 1 --> loss 58833.6875\n",
            "epoch: 101 --> loss 4.211651802062988\n",
            "epoch: 201 --> loss 2.7330832481384277\n",
            "epoch: 301 --> loss 1.973862886428833\n",
            "epoch: 401 --> loss 1.5840375423431396\n",
            "epoch: 501 --> loss 1.383867859840393\n",
            "epoch: 601 --> loss 1.2810977697372437\n",
            "epoch: 701 --> loss 1.2283241748809814\n",
            "epoch: 801 --> loss 1.2012298107147217\n",
            "epoch: 901 --> loss 1.187317132949829\n"
          ]
        }
      ],
      "source": [
        "# model 2  \n",
        "EPOCHS = 1000\n",
        "LOG_INTERVAL = 100\n",
        "LEARNING_RATE = 0.01\n",
        "BIAS = True\n",
        "\n",
        "model2 = nn.Linear(in_features = 1, out_features=1, bias = BIAS)\n",
        "optimizer2 = torch.optim.SGD(model2.parameters(), lr = LEARNING_RATE)\n",
        "\n",
        "w2, b2 = train(EPOCHS, LOG_INTERVAL, x, y, model2, optimizer2)"
      ]
    },
    {
      "cell_type": "code",
      "execution_count": null,
      "metadata": {
        "colab": {
          "base_uri": "https://localhost:8080/"
        },
        "id": "hrd64AY7m7Up",
        "outputId": "87f382a8-1826-4d5a-bab3-4372a2b72cae"
      },
      "outputs": [
        {
          "output_type": "stream",
          "name": "stdout",
          "text": [
            " Weights Parameter containing:\n",
            "tensor([[41.9385]], requires_grad=True), \n",
            "Bias: Parameter containing:\n",
            "tensor([0.7418], requires_grad=True)\n"
          ]
        }
      ],
      "source": [
        "print(f' Weights {w2}, \\nBias: {b2}')"
      ]
    },
    {
      "cell_type": "markdown",
      "metadata": {
        "id": "wE91_Rg8nmSu"
      },
      "source": [
        "## <font color = 'pickle'> **Solution 7(3)**"
      ]
    },
    {
      "cell_type": "code",
      "execution_count": null,
      "metadata": {
        "colab": {
          "base_uri": "https://localhost:8080/"
        },
        "id": "-3QSWacbnmSu",
        "outputId": "677db98c-2140-4094-ca14-9d136c043ab5"
      },
      "outputs": [
        {
          "output_type": "stream",
          "name": "stdout",
          "text": [
            "epoch: 1 --> loss 58135.7421875\n",
            "epoch: 2 --> loss 6916.29931640625\n",
            "epoch: 3 --> loss 823.7677612304688\n",
            "epoch: 4 --> loss 99.06233978271484\n",
            "epoch: 5 --> loss 12.85913372039795\n",
            "epoch: 6 --> loss 2.6052098274230957\n",
            "epoch: 7 --> loss 1.385508418083191\n",
            "epoch: 8 --> loss 1.2404361963272095\n",
            "epoch: 9 --> loss 1.2231695652008057\n",
            "epoch: 10 --> loss 1.2211188077926636\n"
          ]
        }
      ],
      "source": [
        "# model 3  \n",
        "EPOCHS = 10\n",
        "LOG_INTERVAL = 1\n",
        "LEARNING_RATE = 0.01\n",
        "BIAS = False\n",
        "\n",
        "model3 = nn.Linear(in_features = 1, out_features=1, bias = BIAS)\n",
        "optimizer3 = torch.optim.SGD(model3.parameters(), lr = LEARNING_RATE)\n",
        "\n",
        "w3, b3 = train(EPOCHS, LOG_INTERVAL, x, y, model3, optimizer3)"
      ]
    },
    {
      "cell_type": "code",
      "execution_count": null,
      "metadata": {
        "colab": {
          "base_uri": "https://localhost:8080/"
        },
        "id": "s7a2F_GZnmSu",
        "outputId": "eed5147e-aacb-4c8f-9cd9-29041bda16ae"
      },
      "outputs": [
        {
          "output_type": "stream",
          "name": "stdout",
          "text": [
            " Weights Parameter containing:\n",
            "tensor([[42.0557]], requires_grad=True)\n"
          ]
        }
      ],
      "source": [
        "print(f' Weights {w3}')"
      ]
    },
    {
      "cell_type": "markdown",
      "metadata": {
        "id": "EeD6st4btjes"
      },
      "source": [
        "## <font color = 'pickle'> **Plot Predictions**"
      ]
    },
    {
      "cell_type": "code",
      "execution_count": null,
      "metadata": {
        "colab": {
          "base_uri": "https://localhost:8080/",
          "height": 265
        },
        "id": "G664-kKwoJBD",
        "outputId": "ce541d5b-0201-43e4-9e3b-169459f34d85"
      },
      "outputs": [
        {
          "output_type": "display_data",
          "data": {
            "text/plain": [
              "<Figure size 432x288 with 1 Axes>"
            ],
            "image/png": "[encoded data removed]"
          },
          "metadata": {
            "needs_background": "light"
          }
        }
      ],
      "source": [
        "plt.plot(x.numpy(), y.numpy(), label='data')\n",
        "plt.plot(x.detach().numpy(), (model1(x_combined)).detach().numpy(), label='model1')\n",
        "plt.plot(x.detach().numpy(), (model2(x)).detach().numpy(), label='model2')\n",
        "plt.plot(x.detach().numpy(), (model3(x)).detach().numpy(), label='model3')\n",
        "plt.legend()\n",
        "plt.show()\n"
      ]
    }
  ],
  "metadata": {
    "accelerator": "GPU",
    "colab": {
      "collapsed_sections": [],
      "provenance": []
    },
    "kernelspec": {
      "display_name": "Python 3 (ipykernel)",
      "language": "python",
      "name": "python3"
    },
    "language_info": {
      "codemirror_mode": {
        "name": "ipython",
        "version": 3
      },
      "file_extension": ".py",
      "mimetype": "text/x-python",
      "name": "python",
      "nbconvert_exporter": "python",
      "pygments_lexer": "ipython3",
      "version": "3.9.13"
    }
  },
  "nbformat": 4,
  "nbformat_minor": 0
}