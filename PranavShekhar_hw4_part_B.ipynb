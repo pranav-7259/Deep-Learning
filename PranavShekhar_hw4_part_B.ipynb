{
  "cells": [
    {
      "cell_type": "markdown",
      "metadata": {
        "id": "Vl3eIEYFkgP7"
      },
      "source": [
        "# <font color = 'pickle'> **HW4_Part B  (5 Points):**</font> \n",
        "\n",
        "Required Submissions:\n",
        "1.  Submit  colab/jupyter notebooks only.\n",
        "2. **Name files as follows : FirstName_hw4_part_B**\n",
        "\n",
        "<font size = 5, color = 'indianred'>**Refactor the code using Pytorch's nn.Module.** \n",
        "\n"
      ]
    },
    {
      "cell_type": "markdown",
      "metadata": {
        "id": "JGkeKyG1vcbw"
      },
      "source": [
        "# <Font color = 'pickle'>**Install/Import Libraries**"
      ]
    },
    {
      "cell_type": "code",
      "execution_count": 64,
      "metadata": {
        "colab": {
          "base_uri": "https://localhost:8080/"
        },
        "execution": {
          "iopub.execute_input": "2022-09-14T05:31:32.246958Z",
          "iopub.status.busy": "2022-09-14T05:31:32.246604Z",
          "iopub.status.idle": "2022-09-14T05:31:32.253649Z",
          "shell.execute_reply": "2022-09-14T05:31:32.253006Z",
          "shell.execute_reply.started": "2022-09-14T05:31:32.246871Z"
        },
        "id": "-h5a-vtFb738",
        "outputId": "89c0b588-4937-416d-c1b7-4a6bc600fab2",
        "tags": []
      },
      "outputs": [
        {
          "output_type": "stream",
          "name": "stdout",
          "text": [
            "Running on CoLab\n"
          ]
        }
      ],
      "source": [
        "if 'google.colab' in str(get_ipython()):\n",
        "  print('Running on CoLab')\n",
        "else:\n",
        "  print('Not running on CoLab')"
      ]
    },
    {
      "cell_type": "code",
      "execution_count": 65,
      "metadata": {
        "execution": {
          "iopub.execute_input": "2022-09-14T05:31:32.254709Z",
          "iopub.status.busy": "2022-09-14T05:31:32.254493Z",
          "iopub.status.idle": "2022-09-14T05:31:32.257490Z",
          "shell.execute_reply": "2022-09-14T05:31:32.257106Z",
          "shell.execute_reply.started": "2022-09-14T05:31:32.254693Z"
        },
        "id": "q4OpOEo0QktF",
        "tags": [],
        "colab": {
          "base_uri": "https://localhost:8080/",
          "height": 659
        },
        "outputId": "e1a8ffc9-a2ad-47e3-d498-048ee44664c6"
      },
      "outputs": [
        {
          "output_type": "stream",
          "name": "stdout",
          "text": [
            "Looking in indexes: https://pypi.org/simple, https://us-python.pkg.dev/colab-wheels/public/simple/\n",
            "Requirement already satisfied: wandb in /usr/local/lib/python3.7/dist-packages (0.13.3)\n",
            "Collecting wandb\n",
            "  Downloading wandb-0.13.4-py2.py3-none-any.whl (1.9 MB)\n",
            "\u001b[K     |████████████████████████████████| 1.9 MB 21.6 MB/s \n",
            "\u001b[?25hRequirement already satisfied: setproctitle in /usr/local/lib/python3.7/dist-packages (from wandb) (1.3.2)\n",
            "Requirement already satisfied: six>=1.13.0 in /usr/local/lib/python3.7/dist-packages (from wandb) (1.15.0)\n",
            "Requirement already satisfied: protobuf!=4.0.*,!=4.21.0,<5,>=3.12.0 in /usr/local/lib/python3.7/dist-packages (from wandb) (3.17.3)\n",
            "Requirement already satisfied: sentry-sdk>=1.0.0 in /usr/local/lib/python3.7/dist-packages (from wandb) (1.9.0)\n",
            "Requirement already satisfied: PyYAML in /usr/local/lib/python3.7/dist-packages (from wandb) (6.0)\n",
            "Requirement already satisfied: pathtools in /usr/local/lib/python3.7/dist-packages (from wandb) (0.1.2)\n",
            "Requirement already satisfied: requests<3,>=2.0.0 in /usr/local/lib/python3.7/dist-packages (from wandb) (2.23.0)\n",
            "Requirement already satisfied: shortuuid>=0.5.0 in /usr/local/lib/python3.7/dist-packages (from wandb) (1.0.9)\n",
            "Requirement already satisfied: promise<3,>=2.0 in /usr/local/lib/python3.7/dist-packages (from wandb) (2.3)\n",
            "Requirement already satisfied: GitPython>=1.0.0 in /usr/local/lib/python3.7/dist-packages (from wandb) (3.1.27)\n",
            "Requirement already satisfied: setuptools in /usr/local/lib/python3.7/dist-packages (from wandb) (57.4.0)\n",
            "Requirement already satisfied: docker-pycreds>=0.4.0 in /usr/local/lib/python3.7/dist-packages (from wandb) (0.4.0)\n",
            "Requirement already satisfied: psutil>=5.0.0 in /usr/local/lib/python3.7/dist-packages (from wandb) (5.4.8)\n",
            "Requirement already satisfied: Click!=8.0.0,>=7.0 in /usr/local/lib/python3.7/dist-packages (from wandb) (7.1.2)\n",
            "Requirement already satisfied: typing-extensions>=3.7.4.3 in /usr/local/lib/python3.7/dist-packages (from GitPython>=1.0.0->wandb) (4.1.1)\n",
            "Requirement already satisfied: gitdb<5,>=4.0.1 in /usr/local/lib/python3.7/dist-packages (from GitPython>=1.0.0->wandb) (4.0.9)\n",
            "Requirement already satisfied: smmap<6,>=3.0.1 in /usr/local/lib/python3.7/dist-packages (from gitdb<5,>=4.0.1->GitPython>=1.0.0->wandb) (5.0.0)\n",
            "Requirement already satisfied: idna<3,>=2.5 in /usr/local/lib/python3.7/dist-packages (from requests<3,>=2.0.0->wandb) (2.10)\n",
            "Requirement already satisfied: urllib3!=1.25.0,!=1.25.1,<1.26,>=1.21.1 in /usr/local/lib/python3.7/dist-packages (from requests<3,>=2.0.0->wandb) (1.24.3)\n",
            "Requirement already satisfied: chardet<4,>=3.0.2 in /usr/local/lib/python3.7/dist-packages (from requests<3,>=2.0.0->wandb) (3.0.4)\n",
            "Requirement already satisfied: certifi>=2017.4.17 in /usr/local/lib/python3.7/dist-packages (from requests<3,>=2.0.0->wandb) (2022.6.15)\n",
            "Installing collected packages: wandb\n",
            "  Attempting uninstall: wandb\n",
            "    Found existing installation: wandb 0.13.3\n",
            "    Uninstalling wandb-0.13.3:\n",
            "      Successfully uninstalled wandb-0.13.3\n",
            "Successfully installed wandb-0.13.4\n"
          ]
        },
        {
          "output_type": "display_data",
          "data": {
            "application/vnd.colab-display-data+json": {
              "pip_warning": {
                "packages": [
                  "wandb"
                ]
              }
            }
          },
          "metadata": {}
        }
      ],
      "source": [
        "# Install wandb and update it to the latest version\n",
        "if 'google.colab' in str(get_ipython()):\n",
        "    !pip install wandb --upgrade"
      ]
    },
    {
      "cell_type": "code",
      "execution_count": 66,
      "metadata": {
        "colab": {
          "base_uri": "https://localhost:8080/"
        },
        "execution": {
          "iopub.execute_input": "2022-09-14T05:31:32.258187Z",
          "iopub.status.busy": "2022-09-14T05:31:32.258002Z",
          "iopub.status.idle": "2022-09-14T05:31:32.261431Z",
          "shell.execute_reply": "2022-09-14T05:31:32.261057Z",
          "shell.execute_reply.started": "2022-09-14T05:31:32.258172Z"
        },
        "id": "m7C0tvyKoy6f",
        "outputId": "b808e773-bb75-4d54-daf9-c2edb49804f0",
        "tags": []
      },
      "outputs": [
        {
          "output_type": "stream",
          "name": "stdout",
          "text": [
            "Drive already mounted at /content/drive; to attempt to forcibly remount, call drive.mount(\"/content/drive\", force_remount=True).\n"
          ]
        }
      ],
      "source": [
        "# mount google drive\n",
        "if 'google.colab' in str(get_ipython()):\n",
        "    from google.colab import drive\n",
        "    drive.mount('/content/drive')"
      ]
    },
    {
      "cell_type": "code",
      "execution_count": 67,
      "metadata": {
        "execution": {
          "iopub.execute_input": "2022-09-14T05:31:32.262927Z",
          "iopub.status.busy": "2022-09-14T05:31:32.262590Z",
          "iopub.status.idle": "2022-09-14T05:31:32.896213Z",
          "shell.execute_reply": "2022-09-14T05:31:32.895577Z",
          "shell.execute_reply.started": "2022-09-14T05:31:32.262910Z"
        },
        "id": "TqYqOtp5yluv",
        "tags": []
      },
      "outputs": [],
      "source": [
        "# Importing the necessary libraries\n",
        "import torch\n",
        "import torchvision\n",
        "import torchvision.transforms as transforms\n",
        "import numpy as np\n",
        "from pathlib import Path\n",
        "import wandb\n",
        "import os"
      ]
    },
    {
      "cell_type": "code",
      "execution_count": 68,
      "metadata": {
        "colab": {
          "base_uri": "https://localhost:8080/"
        },
        "execution": {
          "iopub.execute_input": "2022-09-14T05:45:23.548198Z",
          "iopub.status.busy": "2022-09-14T05:45:23.547961Z",
          "iopub.status.idle": "2022-09-14T05:45:23.551227Z",
          "shell.execute_reply": "2022-09-14T05:45:23.550890Z",
          "shell.execute_reply.started": "2022-09-14T05:45:23.548184Z"
        },
        "id": "Pc7fWWWDb73-",
        "outputId": "40206cc7-6e88-4cc6-c9bb-5dd74355ce52",
        "tags": []
      },
      "outputs": [
        {
          "output_type": "stream",
          "name": "stdout",
          "text": [
            "env: 'WANDB_NOTEBOOK_NAME'='Hw4_Softmax_Scratch_CIFAR10.ipynb'\n"
          ]
        },
        {
          "output_type": "execute_result",
          "data": {
            "text/plain": [
              "True"
            ]
          },
          "metadata": {},
          "execution_count": 68
        }
      ],
      "source": [
        "%env 'WANDB_NOTEBOOK_NAME' 'Hw4_Softmax_Scratch_CIFAR10.ipynb'\n",
        "# in the above line we are specyfying the jupyter(colab) notebook name for wandb\n",
        "# Login to W&B\n",
        "wandb.login()"
      ]
    },
    {
      "cell_type": "markdown",
      "metadata": {
        "id": "17xctemopjdA"
      },
      "source": [
        "# <Font color = 'pickle'>**CIFAR10 Dataset**\n",
        "\n",
        "The CIFAR-10 dataset consists of 60000 32x32 colour images in 10 classes, with 6000 images per class. There are 50000 training images and 10000 test images.\n",
        "\n",
        "Categories present in the dataset:\n",
        "\n",
        " <font color = 'indianred'>**['airplane', 'automobile', 'bird', 'cat', 'deer', 'dog', 'frog', horse', 'ship', 'truck']**</font>\n",
        "\n",
        "The classes are completely mutually exclusive. There is no overlap between automobiles and trucks. \"Automobile\" includes sedans, SUVs, things of that sort. \"Truck\" includes only big trucks. Neither includes pickup trucks\n",
        "\n",
        "Let us download the dataset using some built-in functions."
      ]
    },
    {
      "cell_type": "markdown",
      "metadata": {
        "id": "B1VfYqgk9nAD"
      },
      "source": [
        "We will first convert the images in the dataset to pytorch tensors using torchvision.transforms and then normalize them.\n",
        "\n",
        "Next, we will use torchvision.datasets for downloading the CIFAR10 datasets and apply transform that we defines earlier. \n",
        "\n",
        "- `trainset` conains the training data\n",
        "- `testset` contains the testing data"
      ]
    },
    {
      "cell_type": "code",
      "execution_count": 69,
      "metadata": {
        "execution": {
          "iopub.execute_input": "2022-09-14T05:31:32.901939Z",
          "iopub.status.busy": "2022-09-14T05:31:32.901560Z",
          "iopub.status.idle": "2022-09-14T05:31:32.906014Z",
          "shell.execute_reply": "2022-09-14T05:31:32.905526Z",
          "shell.execute_reply.started": "2022-09-14T05:31:32.901919Z"
        },
        "id": "zd6c5IGa_iUl",
        "tags": []
      },
      "outputs": [],
      "source": [
        "# This is the path where we will downlaod and save data\n",
        "if 'google.colab' in str(get_ipython()):\n",
        "    data_folder = Path('/content/drive/MyDrive/Deep_Learning_UTD/Dataset')\n",
        "else:\n",
        "    data_folder = Path('/home/harpreet/Insync/google_drive_shaannoor/data/datasets')"
      ]
    },
    {
      "cell_type": "markdown",
      "metadata": {
        "id": "bTrbf15aROgj"
      },
      "source": [
        "## <Font color = 'pickle'>**Train and Test Dataset**\n"
      ]
    },
    {
      "cell_type": "code",
      "execution_count": 70,
      "metadata": {
        "colab": {
          "base_uri": "https://localhost:8080/"
        },
        "execution": {
          "iopub.execute_input": "2022-09-14T05:31:32.907485Z",
          "iopub.status.busy": "2022-09-14T05:31:32.907159Z",
          "iopub.status.idle": "2022-09-14T05:31:33.879861Z",
          "shell.execute_reply": "2022-09-14T05:31:33.879311Z",
          "shell.execute_reply.started": "2022-09-14T05:31:32.907430Z"
        },
        "id": "fW8R-Djbrd05",
        "outputId": "bf9ff6c9-832b-431d-a7fc-a60eb309d1eb",
        "tags": []
      },
      "outputs": [
        {
          "output_type": "stream",
          "name": "stdout",
          "text": [
            "Files already downloaded and verified\n",
            "Files already downloaded and verified\n"
          ]
        }
      ],
      "source": [
        "# Transform to convert images to pytorch tensors\n",
        "trans1 = transforms.ToTensor()\n",
        "\n",
        "# Transform to normalize the data\n",
        "# The mean and std are based on train subset which we will create below\n",
        "trans2 = transforms.Normalize((0.49, 0.482, 0.447), (0.247, 0.244, 0.262))\n",
        "trans = transforms.Compose([trans1, trans2])\n",
        "\n",
        "# Download the training_validation data (we will create two subsets - trainset and valset frpm this)\n",
        "train_val_set = torchvision.datasets.CIFAR10(root = data_folder, \n",
        "                                             train = True, \n",
        "                                             transform = trans, \n",
        "                                             download = True)\n",
        "\n",
        "# Download the testing data\n",
        "testset = torchvision.datasets.CIFAR10(root = data_folder, \n",
        "                                            train = False, \n",
        "                                            transform = trans, \n",
        "                                            download = True)"
      ]
    },
    {
      "cell_type": "markdown",
      "metadata": {
        "id": "N_ICobccV--y"
      },
      "source": [
        "## <Font color = 'pickle'>**Split train set to train/validation set**"
      ]
    },
    {
      "cell_type": "code",
      "execution_count": 71,
      "metadata": {
        "execution": {
          "iopub.execute_input": "2022-09-14T05:31:33.880703Z",
          "iopub.status.busy": "2022-09-14T05:31:33.880513Z",
          "iopub.status.idle": "2022-09-14T05:31:33.884916Z",
          "shell.execute_reply": "2022-09-14T05:31:33.883971Z",
          "shell.execute_reply.started": "2022-09-14T05:31:33.880686Z"
        },
        "id": "mm5_iI3sjdwB",
        "tags": []
      },
      "outputs": [],
      "source": [
        "def split_dataset(base_dataset, fraction, seed):\n",
        "    split_a_size = int(fraction * len(base_dataset))\n",
        "    split_b_size = len(base_dataset) - split_a_size\n",
        "    return torch.utils.data.random_split(base_dataset, [split_a_size, split_b_size], generator=torch.Generator().manual_seed(seed)\n",
        "    )"
      ]
    },
    {
      "cell_type": "code",
      "execution_count": 72,
      "metadata": {
        "execution": {
          "iopub.execute_input": "2022-09-14T05:31:33.886443Z",
          "iopub.status.busy": "2022-09-14T05:31:33.886137Z",
          "iopub.status.idle": "2022-09-14T05:31:33.892040Z",
          "shell.execute_reply": "2022-09-14T05:31:33.891551Z",
          "shell.execute_reply.started": "2022-09-14T05:31:33.886406Z"
        },
        "id": "8X5iQ2zpkcV1",
        "tags": []
      },
      "outputs": [],
      "source": [
        "trainset, validset = split_dataset(train_val_set, 0.8, 42)"
      ]
    },
    {
      "cell_type": "code",
      "source": [
        "# Since the transforms are not applied, we will manually first divide by 255\n",
        "# we will then get the mean and std dev \n",
        "# the images are still in mumpy with the shape (number of images, H, W, Channels)\n",
        "# Since we need mean, std dev \n",
        "train_data = train_val_set.data[trainset.indices]/255\n",
        "train_data.shape\n",
        "print(train_data.mean(axis = (0,1,2)))\n",
        "print(train_data.std(axis = (0,1,2)))"
      ],
      "metadata": {
        "colab": {
          "base_uri": "https://localhost:8080/"
        },
        "id": "gm3b6MvPzA9V",
        "outputId": "6006f1f8-7146-48c3-a259-d7d9b982937a"
      },
      "execution_count": 73,
      "outputs": [
        {
          "output_type": "stream",
          "name": "stdout",
          "text": [
            "[0.49171654 0.48256152 0.44711783]\n",
            "[0.24705465 0.24350537 0.26166664]\n"
          ]
        }
      ]
    },
    {
      "cell_type": "markdown",
      "metadata": {
        "id": "D0ipdb9rXovr"
      },
      "source": [
        "## <Font color = 'pickle'>**Check inputs**"
      ]
    },
    {
      "cell_type": "code",
      "execution_count": 74,
      "metadata": {
        "colab": {
          "base_uri": "https://localhost:8080/"
        },
        "execution": {
          "iopub.execute_input": "2022-09-14T05:31:33.893256Z",
          "iopub.status.busy": "2022-09-14T05:31:33.892741Z",
          "iopub.status.idle": "2022-09-14T05:31:33.896644Z",
          "shell.execute_reply": "2022-09-14T05:31:33.895773Z",
          "shell.execute_reply.started": "2022-09-14T05:31:33.893234Z"
        },
        "id": "SEafSvdbxaUW",
        "outputId": "641703cb-e1bc-42ea-9165-706e1b754dc2",
        "tags": []
      },
      "outputs": [
        {
          "output_type": "stream",
          "name": "stdout",
          "text": [
            "<class 'torch.utils.data.dataset.Subset'>\n",
            "<class 'torchvision.datasets.cifar.CIFAR10'>\n",
            "<class 'list'>\n"
          ]
        }
      ],
      "source": [
        "print(type(trainset), type(trainset.dataset), type(trainset.indices), sep ='\\n')"
      ]
    },
    {
      "cell_type": "code",
      "execution_count": 75,
      "metadata": {
        "colab": {
          "base_uri": "https://localhost:8080/"
        },
        "execution": {
          "iopub.execute_input": "2022-09-14T05:31:33.897605Z",
          "iopub.status.busy": "2022-09-14T05:31:33.897261Z",
          "iopub.status.idle": "2022-09-14T05:31:33.906285Z",
          "shell.execute_reply": "2022-09-14T05:31:33.905795Z",
          "shell.execute_reply.started": "2022-09-14T05:31:33.897587Z"
        },
        "id": "vugZuVfwvoeT",
        "outputId": "2cd90b49-84bd-407c-9f72-7a31891fbdba",
        "tags": []
      },
      "outputs": [
        {
          "output_type": "execute_result",
          "data": {
            "text/plain": [
              "[37542, 44491, 216, 43688, 41558]"
            ]
          },
          "metadata": {},
          "execution_count": 75
        }
      ],
      "source": [
        "trainset.indices[0:5]"
      ]
    },
    {
      "cell_type": "code",
      "execution_count": 76,
      "metadata": {
        "colab": {
          "base_uri": "https://localhost:8080/"
        },
        "execution": {
          "iopub.execute_input": "2022-09-14T05:31:33.907470Z",
          "iopub.status.busy": "2022-09-14T05:31:33.906954Z",
          "iopub.status.idle": "2022-09-14T05:31:33.910442Z",
          "shell.execute_reply": "2022-09-14T05:31:33.909908Z",
          "shell.execute_reply.started": "2022-09-14T05:31:33.907450Z"
        },
        "id": "wGXxzrChyQYp",
        "outputId": "2b74e1bb-e2d5-43b8-dbc2-c5b7dccb8315",
        "tags": []
      },
      "outputs": [
        {
          "output_type": "stream",
          "name": "stdout",
          "text": [
            "40000\n",
            "50000\n",
            "40000\n"
          ]
        }
      ],
      "source": [
        "print(len(trainset), len(trainset.dataset), len(trainset.indices), sep ='\\n')"
      ]
    },
    {
      "cell_type": "code",
      "execution_count": 77,
      "metadata": {
        "colab": {
          "base_uri": "https://localhost:8080/"
        },
        "execution": {
          "iopub.execute_input": "2022-09-14T05:31:33.913561Z",
          "iopub.status.busy": "2022-09-14T05:31:33.913311Z",
          "iopub.status.idle": "2022-09-14T05:31:33.917012Z",
          "shell.execute_reply": "2022-09-14T05:31:33.916531Z",
          "shell.execute_reply.started": "2022-09-14T05:31:33.913540Z"
        },
        "id": "w1Zov4McmuN-",
        "outputId": "bd2b4b03-b4ec-4813-a7b6-26d613332b5e",
        "tags": []
      },
      "outputs": [
        {
          "output_type": "execute_result",
          "data": {
            "text/plain": [
              "(40000, 10000)"
            ]
          },
          "metadata": {},
          "execution_count": 77
        }
      ],
      "source": [
        "# Shape of training data\n",
        "len(trainset.indices), len(validset.indices)"
      ]
    },
    {
      "cell_type": "code",
      "execution_count": 78,
      "metadata": {
        "colab": {
          "base_uri": "https://localhost:8080/"
        },
        "execution": {
          "iopub.execute_input": "2022-09-14T05:31:33.917820Z",
          "iopub.status.busy": "2022-09-14T05:31:33.917642Z",
          "iopub.status.idle": "2022-09-14T05:31:33.968484Z",
          "shell.execute_reply": "2022-09-14T05:31:33.968001Z",
          "shell.execute_reply.started": "2022-09-14T05:31:33.917802Z"
        },
        "id": "Ci1h1FlYvMaa",
        "outputId": "f66b663a-ca85-4f07-96ec-4afb25a40d32",
        "tags": []
      },
      "outputs": [
        {
          "output_type": "stream",
          "name": "stdout",
          "text": [
            "(40000, 32, 32, 3)\n",
            "(40000, 32, 32, 3)\n"
          ]
        }
      ],
      "source": [
        "print(train_val_set.data[trainset.indices].shape)\n",
        "print(trainset.dataset.data[trainset.indices].shape)"
      ]
    },
    {
      "cell_type": "code",
      "execution_count": 79,
      "metadata": {
        "colab": {
          "base_uri": "https://localhost:8080/"
        },
        "execution": {
          "iopub.execute_input": "2022-09-14T05:31:33.969502Z",
          "iopub.status.busy": "2022-09-14T05:31:33.969097Z",
          "iopub.status.idle": "2022-09-14T05:31:33.978382Z",
          "shell.execute_reply": "2022-09-14T05:31:33.977951Z",
          "shell.execute_reply.started": "2022-09-14T05:31:33.969483Z"
        },
        "id": "f1MpLXsTvdSo",
        "outputId": "63a1aea6-f4c1-44e5-9169-98d73709c791",
        "tags": []
      },
      "outputs": [
        {
          "output_type": "execute_result",
          "data": {
            "text/plain": [
              "(10000, 32, 32, 3)"
            ]
          },
          "metadata": {},
          "execution_count": 79
        }
      ],
      "source": [
        "train_val_set.data[validset.indices].shape"
      ]
    },
    {
      "cell_type": "code",
      "execution_count": 80,
      "metadata": {
        "colab": {
          "base_uri": "https://localhost:8080/"
        },
        "execution": {
          "iopub.execute_input": "2022-09-14T05:31:33.979326Z",
          "iopub.status.busy": "2022-09-14T05:31:33.978980Z",
          "iopub.status.idle": "2022-09-14T05:31:33.982318Z",
          "shell.execute_reply": "2022-09-14T05:31:33.981918Z",
          "shell.execute_reply.started": "2022-09-14T05:31:33.979308Z"
        },
        "id": "JmgUaxgu_RqQ",
        "outputId": "bf92111a-5bad-4071-8789-fc5a090b26b8",
        "tags": []
      },
      "outputs": [
        {
          "output_type": "execute_result",
          "data": {
            "text/plain": [
              "(10000, 32, 32, 3)"
            ]
          },
          "metadata": {},
          "execution_count": 80
        }
      ],
      "source": [
        "# Shape of testing data\n",
        "testset.data.shape"
      ]
    },
    {
      "cell_type": "code",
      "execution_count": 81,
      "metadata": {
        "colab": {
          "base_uri": "https://localhost:8080/"
        },
        "execution": {
          "iopub.execute_input": "2022-09-14T05:31:33.983113Z",
          "iopub.status.busy": "2022-09-14T05:31:33.982940Z",
          "iopub.status.idle": "2022-09-14T05:31:34.068209Z",
          "shell.execute_reply": "2022-09-14T05:31:34.067826Z",
          "shell.execute_reply.started": "2022-09-14T05:31:33.983096Z"
        },
        "id": "OS5QMGxmlqE-",
        "outputId": "c9f0e898-6974-4dbc-9dd2-1a61e1ff85aa",
        "tags": []
      },
      "outputs": [
        {
          "output_type": "execute_result",
          "data": {
            "text/plain": [
              "255"
            ]
          },
          "metadata": {},
          "execution_count": 81
        }
      ],
      "source": [
        "# check the max value of inputs - the transformation are not yet applied.\n",
        "# the transofrmation are applied iteratively on batches \n",
        "# when we craete batch by iterating over dataloader\n",
        "train_val_set.data[trainset.indices].max()"
      ]
    },
    {
      "cell_type": "code",
      "execution_count": 82,
      "metadata": {
        "colab": {
          "base_uri": "https://localhost:8080/"
        },
        "execution": {
          "iopub.execute_input": "2022-09-14T05:31:34.069226Z",
          "iopub.status.busy": "2022-09-14T05:31:34.068735Z",
          "iopub.status.idle": "2022-09-14T05:31:34.185708Z",
          "shell.execute_reply": "2022-09-14T05:31:34.185322Z",
          "shell.execute_reply.started": "2022-09-14T05:31:34.069206Z"
        },
        "id": "Gs5yKgGumIwN",
        "outputId": "9094e95b-fe5c-4b68-f9c0-e78bbcece016",
        "tags": []
      },
      "outputs": [
        {
          "output_type": "execute_result",
          "data": {
            "text/plain": [
              "0"
            ]
          },
          "metadata": {},
          "execution_count": 82
        }
      ],
      "source": [
        "# check the min value of inputs\n",
        "train_val_set.data[trainset.indices].min()"
      ]
    },
    {
      "cell_type": "code",
      "execution_count": 83,
      "metadata": {
        "colab": {
          "base_uri": "https://localhost:8080/"
        },
        "execution": {
          "iopub.execute_input": "2022-09-14T05:31:34.186589Z",
          "iopub.status.busy": "2022-09-14T05:31:34.186200Z",
          "iopub.status.idle": "2022-09-14T05:31:34.706811Z",
          "shell.execute_reply": "2022-09-14T05:31:34.706415Z",
          "shell.execute_reply.started": "2022-09-14T05:31:34.186575Z"
        },
        "id": "j9d71IJ5_KE-",
        "outputId": "8f296b6a-844a-47af-dfcf-7a43b0ec8d95",
        "tags": []
      },
      "outputs": [
        {
          "output_type": "stream",
          "name": "stdout",
          "text": [
            "[0.49171654 0.48256152 0.44711783]\n",
            "[0.24705465 0.24350537 0.26166664]\n"
          ]
        }
      ],
      "source": [
        "# Since the transforms are not applied, we will manually first divide by 255\n",
        "# we will then get the mean and std dev \n",
        "# the images are still in mumpy with the shape (number of images, H, W, Channels)\n",
        "# Since we need mean, std dev \n",
        "train_data = train_val_set.data[trainset.indices]/255\n",
        "train_data.shape\n",
        "print(train_data.mean(axis = (0,1,2)))\n",
        "print(train_data.std(axis = (0,1,2)))"
      ]
    },
    {
      "cell_type": "markdown",
      "metadata": {
        "id": "T-JCMTUfX5vp"
      },
      "source": [
        "## <Font color = 'pickle'>**Check Labels**"
      ]
    },
    {
      "cell_type": "code",
      "execution_count": 84,
      "metadata": {
        "colab": {
          "base_uri": "https://localhost:8080/"
        },
        "execution": {
          "iopub.execute_input": "2022-09-14T05:31:34.707504Z",
          "iopub.status.busy": "2022-09-14T05:31:34.707345Z",
          "iopub.status.idle": "2022-09-14T05:31:34.713267Z",
          "shell.execute_reply": "2022-09-14T05:31:34.712887Z",
          "shell.execute_reply.started": "2022-09-14T05:31:34.707476Z"
        },
        "id": "_W3Xmg7zXQAE",
        "outputId": "b3d27749-675f-4c06-a047-9f2156b7ecfe",
        "tags": []
      },
      "outputs": [
        {
          "output_type": "execute_result",
          "data": {
            "text/plain": [
              "torch.Size([40000])"
            ]
          },
          "metadata": {},
          "execution_count": 84
        }
      ],
      "source": [
        "# check target values for train set\n",
        "train_val_targets = torch.tensor(train_val_set.targets)\n",
        "train_val_targets[trainset.indices].shape"
      ]
    },
    {
      "cell_type": "code",
      "execution_count": 85,
      "metadata": {
        "colab": {
          "base_uri": "https://localhost:8080/"
        },
        "execution": {
          "iopub.execute_input": "2022-09-14T05:31:34.714070Z",
          "iopub.status.busy": "2022-09-14T05:31:34.713751Z",
          "iopub.status.idle": "2022-09-14T05:31:34.719290Z",
          "shell.execute_reply": "2022-09-14T05:31:34.718806Z",
          "shell.execute_reply.started": "2022-09-14T05:31:34.714055Z"
        },
        "id": "rRsK8ZYMXR38",
        "outputId": "a5ab87e7-c873-4ac3-c5aa-1230d67e00bb",
        "tags": []
      },
      "outputs": [
        {
          "output_type": "execute_result",
          "data": {
            "text/plain": [
              "tensor([0, 1, 2, 3, 4, 5, 6, 7, 8, 9])"
            ]
          },
          "metadata": {},
          "execution_count": 85
        }
      ],
      "source": [
        "# Unique Target values\n",
        "train_val_targets[trainset.indices].unique()"
      ]
    },
    {
      "cell_type": "code",
      "execution_count": 86,
      "metadata": {
        "colab": {
          "base_uri": "https://localhost:8080/"
        },
        "execution": {
          "iopub.execute_input": "2022-09-14T05:31:34.720004Z",
          "iopub.status.busy": "2022-09-14T05:31:34.719821Z",
          "iopub.status.idle": "2022-09-14T05:31:34.723597Z",
          "shell.execute_reply": "2022-09-14T05:31:34.723193Z",
          "shell.execute_reply.started": "2022-09-14T05:31:34.719990Z"
        },
        "id": "f36Yu2AcwjG-",
        "outputId": "f2d104fc-eab7-4942-f3cb-1c479ccdd6d7",
        "tags": []
      },
      "outputs": [
        {
          "output_type": "execute_result",
          "data": {
            "text/plain": [
              "tensor([0, 1, 2, 3, 4, 5, 6, 7, 8, 9])"
            ]
          },
          "metadata": {},
          "execution_count": 86
        }
      ],
      "source": [
        "train_val_targets[validset.indices].unique()"
      ]
    },
    {
      "cell_type": "code",
      "execution_count": 87,
      "metadata": {
        "colab": {
          "base_uri": "https://localhost:8080/"
        },
        "execution": {
          "iopub.execute_input": "2022-09-14T05:31:34.724400Z",
          "iopub.status.busy": "2022-09-14T05:31:34.724099Z",
          "iopub.status.idle": "2022-09-14T05:31:34.727807Z",
          "shell.execute_reply": "2022-09-14T05:31:34.727417Z",
          "shell.execute_reply.started": "2022-09-14T05:31:34.724387Z"
        },
        "id": "t-axZSrQwlMk",
        "outputId": "46ba93d6-b949-4e42-f371-e5babce99063",
        "tags": []
      },
      "outputs": [
        {
          "output_type": "execute_result",
          "data": {
            "text/plain": [
              "tensor([0, 1, 2, 3, 4, 5, 6, 7, 8, 9])"
            ]
          },
          "metadata": {},
          "execution_count": 87
        }
      ],
      "source": [
        "torch.tensor(testset.targets).unique()"
      ]
    },
    {
      "cell_type": "markdown",
      "metadata": {
        "id": "U5PslDp5R7Ff"
      },
      "source": [
        "# <Font color = 'pickle'>**Data Loaders**\n",
        "\n",
        "The next step is to create dataloader for train, valid, and test set using pytorch dataloader. This will be an iterator that will provide dataset in batches.  Let's keep batch size as 256. "
      ]
    },
    {
      "cell_type": "code",
      "execution_count": 88,
      "metadata": {
        "execution": {
          "iopub.execute_input": "2022-09-14T05:31:34.728485Z",
          "iopub.status.busy": "2022-09-14T05:31:34.728312Z",
          "iopub.status.idle": "2022-09-14T05:31:34.731405Z",
          "shell.execute_reply": "2022-09-14T05:31:34.731015Z",
          "shell.execute_reply.started": "2022-09-14T05:31:34.728471Z"
        },
        "id": "gEHKwmX_ATOt",
        "tags": []
      },
      "outputs": [],
      "source": [
        "# Initializing the batch size\n",
        "batch_size = 256\n",
        "\n",
        "# Creating data loader for train set\n",
        "train_loader = torch.utils.data.DataLoader(dataset = trainset, \n",
        "                                            batch_size = batch_size, \n",
        "                                            shuffle = True)\n",
        "\n",
        "valid_loader = torch.utils.data.DataLoader(dataset = validset, \n",
        "                                            batch_size = batch_size, \n",
        "                                            shuffle = False)\n",
        "\n",
        "# Creating data loader for test set\n",
        "test_loader = torch.utils.data.DataLoader(dataset = testset, \n",
        "                                          batch_size = batch_size, \n",
        "                                          shuffle = False)"
      ]
    },
    {
      "cell_type": "code",
      "execution_count": 89,
      "metadata": {
        "colab": {
          "base_uri": "https://localhost:8080/"
        },
        "execution": {
          "iopub.execute_input": "2022-09-14T05:31:34.732061Z",
          "iopub.status.busy": "2022-09-14T05:31:34.731895Z",
          "iopub.status.idle": "2022-09-14T05:31:34.735150Z",
          "shell.execute_reply": "2022-09-14T05:31:34.734764Z",
          "shell.execute_reply.started": "2022-09-14T05:31:34.732047Z"
        },
        "id": "SrO2i0utr2fS",
        "outputId": "74f0e60e-6344-4970-ed53-b14f7141aae5",
        "tags": []
      },
      "outputs": [
        {
          "output_type": "execute_result",
          "data": {
            "text/plain": [
              "157"
            ]
          },
          "metadata": {},
          "execution_count": 89
        }
      ],
      "source": [
        "# check number of batches\n",
        "len(train_loader)"
      ]
    },
    {
      "cell_type": "code",
      "execution_count": 90,
      "metadata": {
        "colab": {
          "base_uri": "https://localhost:8080/"
        },
        "execution": {
          "iopub.execute_input": "2022-09-14T05:31:34.735800Z",
          "iopub.status.busy": "2022-09-14T05:31:34.735634Z",
          "iopub.status.idle": "2022-09-14T05:31:34.739249Z",
          "shell.execute_reply": "2022-09-14T05:31:34.738864Z",
          "shell.execute_reply.started": "2022-09-14T05:31:34.735786Z"
        },
        "id": "KSYReXcBsEjs",
        "outputId": "40a686c7-47fc-47c1-bb1c-65cf526cc216",
        "tags": []
      },
      "outputs": [
        {
          "output_type": "execute_result",
          "data": {
            "text/plain": [
              "40000"
            ]
          },
          "metadata": {},
          "execution_count": 90
        }
      ],
      "source": [
        "# check total training examples\n",
        "len(train_loader.dataset)"
      ]
    },
    {
      "cell_type": "code",
      "execution_count": 91,
      "metadata": {
        "colab": {
          "base_uri": "https://localhost:8080/"
        },
        "execution": {
          "iopub.execute_input": "2022-09-14T05:31:34.739907Z",
          "iopub.status.busy": "2022-09-14T05:31:34.739739Z",
          "iopub.status.idle": "2022-09-14T05:31:34.785349Z",
          "shell.execute_reply": "2022-09-14T05:31:34.784863Z",
          "shell.execute_reply.started": "2022-09-14T05:31:34.739890Z"
        },
        "id": "JGIeEEzEjRlP",
        "outputId": "d674f872-1328-42e9-fdc4-d2c663e2dd89"
      },
      "outputs": [
        {
          "output_type": "stream",
          "name": "stdout",
          "text": [
            "shape of inputs is :torch.Size([256, 3, 32, 32])\n",
            "\n",
            "max input value  :2.122950792312622\n",
            "\n",
            "min input value  :-1.983805775642395\n",
            "\n",
            "mean input value  :0.0439605712890625\n",
            "\n",
            "std input value  :1.0289740562438965\n",
            "\n",
            "shape of targets is :torch.Size([256])\n",
            "\n",
            "inputs  :tensor([[ 0.8264,  1.9536,  1.5091,  0.5247, -0.7613],\n",
            "        [-1.2058, -0.3009, -0.9359, -1.2535, -1.2693],\n",
            "        [-1.3329, -1.2852, -0.8248, -0.4438, -0.4279],\n",
            "        [ 0.0643, -0.8724, -1.0312, -0.6343, -0.3009],\n",
            "        [ 0.0643, -0.5231, -1.0947, -0.9518, -0.4279]])\n"
          ]
        }
      ],
      "source": [
        "# check imputs and outputs \n",
        "for input, target in train_loader:\n",
        "  print(f'shape of inputs is :{input.shape}')\n",
        "  print(f'\\nmax input value  :{input.max()}')\n",
        "  print(f'\\nmin input value  :{input.min()}')\n",
        "  print(f'\\nmean input value  :{input.mean()}')\n",
        "  print(f'\\nstd input value  :{input.std()}')\n",
        "  print(f'\\nshape of targets is :{target.shape}')\n",
        "  print(f'\\ninputs  :{input[0, 0, 5:10, 5:10]}')\n",
        "  \n",
        "  break"
      ]
    },
    {
      "cell_type": "markdown",
      "metadata": {
        "id": "04zmdTe-EDeB"
      },
      "source": [
        "# <Font color = 'pickle'>**Visualize the Data**"
      ]
    },
    {
      "cell_type": "code",
      "execution_count": 92,
      "metadata": {
        "colab": {
          "base_uri": "https://localhost:8080/",
          "height": 189
        },
        "execution": {
          "iopub.execute_input": "2022-09-14T05:31:34.786301Z",
          "iopub.status.busy": "2022-09-14T05:31:34.786095Z",
          "iopub.status.idle": "2022-09-14T05:31:34.857926Z",
          "shell.execute_reply": "2022-09-14T05:31:34.857498Z",
          "shell.execute_reply.started": "2022-09-14T05:31:34.786285Z"
        },
        "id": "1jcbvhvwCvDX",
        "outputId": "14cfdb66-d4cc-432c-ba1f-bc0fefd794c5"
      },
      "outputs": [
        {
          "output_type": "execute_result",
          "data": {
            "text/plain": [
              "<PIL.PngImagePlugin.PngImageFile image mode=RGB size=342x172 at 0x7EFC9E58F710>"
            ],
            "image/png": "[encoded data removed]"
          },
          "metadata": {},
          "execution_count": 92
        }
      ],
      "source": [
        "# Get some random training images\n",
        "dataiter = iter(train_loader)\n",
        "images, labels = dataiter.next()\n",
        "\n",
        "# Create grid of images\n",
        "img_grid = torchvision.utils.make_grid(images[0:50], nrow = 10)\n",
        "\n",
        "# Logging to W&B\n",
        "images = wandb.Image(img_grid, caption = \"Sample images\")\n",
        "images.image"
      ]
    },
    {
      "cell_type": "code",
      "execution_count": 93,
      "metadata": {
        "execution": {
          "iopub.execute_input": "2022-09-14T05:31:34.858890Z",
          "iopub.status.busy": "2022-09-14T05:31:34.858531Z",
          "iopub.status.idle": "2022-09-14T05:31:34.861222Z",
          "shell.execute_reply": "2022-09-14T05:31:34.860856Z",
          "shell.execute_reply.started": "2022-09-14T05:31:34.858870Z"
        },
        "id": "C64NLmbjD-Qr"
      },
      "outputs": [],
      "source": [
        "# Define the values for classes\n",
        "classes = ['airplane', 'automobile', 'bird', 'cat', 'deer',\n",
        "           'dog', 'frog', 'horse', 'ship', 'truck']"
      ]
    },
    {
      "cell_type": "markdown",
      "metadata": {
        "id": "iQ60WJKlg3bQ"
      },
      "source": [
        "# <font color = 'pickle'> **Functions to implement Softmax**"
      ]
    },
    {
      "cell_type": "markdown",
      "metadata": {
        "id": "3D7A5cBeFoAI"
      },
      "source": [
        "Now, we will start implementing our Softmax Regression Model from scratch.\n",
        "\n",
        "We will now create following functions:\n",
        "\n",
        "- **Model**\n",
        "- **Loss Function** \n",
        "- **One Hot Encoding**\n",
        "- **Training Loop for 1 epoch**\n",
        "- **Validation Loop for 1 epoch**\n",
        "- **Model Training** - repeat the training and validation loops for given number of epochs\n",
        "- **Function to get the accuracy given the model**"
      ]
    },
    {
      "cell_type": "markdown",
      "metadata": {
        "id": "GLIXu5RaylkZ"
      },
      "source": [
        "## <Font color = 'pickle'>**Function to define Model**"
      ]
    },
    {
      "cell_type": "markdown",
      "metadata": {
        "id": "68CPKJ_Tb74H"
      },
      "source": [
        "It has two steps :\n",
        "- Calculate output as a linerar function of inputs\n",
        "$$o_k^{(i)}  = \\mathbf{x^{(i)}}\\mathbf{w_k} ^T+b_k$$\n",
        "- Apply softmax on output to get probabilities\n",
        "$$\\hat{p_k}^{(i)} = softmax(o_k^{(i)}) = \\frac{e^{o_k^{(i)}}}{\\sum_{j=1}^{K} e^{o_j^{(i)}}}$$"
      ]
    },
    {
      "cell_type": "markdown",
      "metadata": {
        "id": "WVdm23xz0idF"
      },
      "source": [
        "Softmax operation consists of three steps: \n",
        "- Exponentiate each term.\n",
        "- Sum over each row to get the normalization constant for each example.\n",
        "- Divide each row by its normalization constant.\n",
        "\n",
        "This is given by:\n",
        "\n",
        "We will first define the function for softmax operation."
      ]
    },
    {
      "cell_type": "code",
      "source": [
        "import torch.nn as nn"
      ],
      "metadata": {
        "id": "D-X-MZmcc6jf"
      },
      "execution_count": 94,
      "outputs": []
    },
    {
      "cell_type": "code",
      "source": [
        "def softmax_reg(n_ins, n_outs, bias):\n",
        "  return nn.Sequential(nn.Flatten(), nn.Linear(n_ins, n_outs))"
      ],
      "metadata": {
        "id": "VRZlNhS5dB6q"
      },
      "execution_count": 95,
      "outputs": []
    },
    {
      "cell_type": "markdown",
      "metadata": {
        "id": "qMsNKeyjy0GU"
      },
      "source": [
        "## <Font color = 'pickle'>**One-Hot Encoding- Encode Labels**\n",
        "\n",
        "A one-hot encoding is a vector with as many components as the labels. The component corresponding to particular instance’s label is set to 1 and all other components are set to 0. \n",
        "\n",
        "Suppose we have a dataset with 3 classes `{cat, dog, parrot}`. Now, if an image is a dog, it's one-hot encoded vector will be `{0, 1, 0}`.\n",
        "\n",
        "One-hot encoded vector for the all the 3 different classes:\n",
        "\n",
        "cat: {1, 0, 0}\n",
        "\n",
        "dog: {0, 1, 0}\n",
        "\n",
        "parrot: {0, 0, 1}"
      ]
    },
    {
      "cell_type": "markdown",
      "metadata": {
        "id": "aqI_o6qwy6lb"
      },
      "source": [
        "## <Font color = 'pickle'>**Function for Training  Loops**\n",
        "\n",
        "**Model Training** involves five steps: \n",
        "\n",
        "- Step 0: Randomly initialize parameters / weights\n",
        "- Step 1: Compute model's predictions - forward pass\n",
        "- Step 2: Compute loss\n",
        "- Step 3: Compute the gradients\n",
        "- Step 4: Update the parameters\n",
        "- Step 5: Repeat steps 1 - 4\n",
        "\n",
        "Model training is repeating this process over and over, for many **epochs**.\n",
        "\n",
        "We will specify number of ***epochs*** and during each epoch we will iterate over the complete dataset and will keep on updating the parameters.\n",
        "\n",
        "***Learning rate*** and ***epochs*** are known as hyperparameters. We have to adjust the values of these two based on validation dataset.\n",
        "\n",
        "We will now create functions for step 1 to 4."
      ]
    },
    {
      "cell_type": "code",
      "execution_count": 96,
      "metadata": {
        "execution": {
          "iopub.execute_input": "2022-09-14T05:31:34.877415Z",
          "iopub.status.busy": "2022-09-14T05:31:34.877103Z",
          "iopub.status.idle": "2022-09-14T05:31:34.882138Z",
          "shell.execute_reply": "2022-09-14T05:31:34.881761Z",
          "shell.execute_reply.started": "2022-09-14T05:31:34.877400Z"
        },
        "id": "Pv4x22lZMn5p",
        "tags": []
      },
      "outputs": [],
      "source": [
        "def train(train_loader, loss_function, model, optimizer, grad_clipping, max_norm, log_batch, log_interval):\n",
        "\n",
        "  \n",
        "\n",
        "  #Global variable to keep track of the epoch count\n",
        "\n",
        "  global batch_ct_train\n",
        "  \n",
        "  running_train_loss = 0\n",
        "  running_train_correct = 0\n",
        "\n",
        "  model.train()\n",
        "  \n",
        "  # Iterate on batches from the dataset using train_loader\n",
        "  for input_, targets in train_loader:\n",
        "    \n",
        "    # move inputs and outputs to GPUs\n",
        "    input_ = input_.to(device)\n",
        "    targets = targets.to(device)\n",
        "\n",
        "    # # one hot encoding for target variable\n",
        "    # target_encoded = one_hot_labels(targets, num_outputs, device = device)\n",
        "\n",
        "    # Step 1: Forward Pass: Compute model's predictions \n",
        "    output = model(input_)\n",
        "    \n",
        "    # Step 2: Compute loss\n",
        "    loss = loss_function(output, targets)\n",
        "\n",
        "    # Correct prediction\n",
        "    y_pred = torch.argmax(output, dim = 1)\n",
        "    correct = torch.sum(y_pred == targets)\n",
        "\n",
        "    batch_ct_train += 1\n",
        "\n",
        "    # Step 3: Backward pass -Compute the gradients\n",
        "    optimizer.zero_grad()\n",
        "    loss.backward()\n",
        "\n",
        "    # Gradient Clipping\n",
        "    if grad_clipping:\n",
        "      nn.utils.clip_grad_norm_(model.parameters(), max_norm= max_norm, norm_type = 2)\n",
        "\n",
        "\n",
        "    # Step 4: Update the parameters\n",
        "    optimizer.step()\n",
        "          \n",
        "    # Add train loss of a batch \n",
        "    running_train_loss += loss.item()\n",
        "\n",
        "    # Add Corect counts of a batch\n",
        "    running_train_correct += correct\n",
        "\n",
        "    #Make wandb log of the batch loss and accuracy\n",
        "    if log_batch:\n",
        "      if ((batch_ct_train + 1) % log_interval) == 0:\n",
        "        wandb.log({f\"Train Batch Loss  :\": loss})\n",
        "        wandb.log({f\"Train Batch Acc :\": correct/len(targets)})\n",
        "\n",
        "        \n",
        "  # Calculate mean train loss for the whole dataset for a particular epoch\n",
        "  train_loss = running_train_loss/len(train_loader)\n",
        "\n",
        "  # Calculate accuracy for the whole dataset for a particular epoch\n",
        "  train_acc = running_train_correct/len(train_loader.dataset)\n",
        "  \n",
        "\n",
        "  return train_loss, train_acc"
      ]
    },
    {
      "cell_type": "markdown",
      "metadata": {
        "id": "KeLm-GI5bW2V"
      },
      "source": [
        "## <Font color = 'pickle'>**Function for Validation Loops**\n"
      ]
    },
    {
      "cell_type": "code",
      "execution_count": 97,
      "metadata": {
        "execution": {
          "iopub.execute_input": "2022-09-14T05:31:34.883038Z",
          "iopub.status.busy": "2022-09-14T05:31:34.882720Z",
          "iopub.status.idle": "2022-09-14T05:31:34.887506Z",
          "shell.execute_reply": "2022-09-14T05:31:34.886989Z",
          "shell.execute_reply.started": "2022-09-14T05:31:34.883020Z"
        },
        "id": "pHP1WKDessiI",
        "tags": []
      },
      "outputs": [],
      "source": [
        "def validate(valid_loader, loss_function, model, log_batch, log_interval):\n",
        "\n",
        "  \"\"\" \n",
        "  Function for calcuilating loss and prediction for validataion dataset. \n",
        "  Input: iterator for validation dataset, estimated weights and bias at the end of epoch in training loop, \n",
        "  learning rate,   loss function, model\n",
        "  Output: val loss and accuracy for each epoch.\n",
        "  \"\"\"\n",
        "\n",
        "\n",
        "  global batch_ct_valid\n",
        "  # Validation loop\n",
        "  # Initialize valid_loss at the he strat of the epoch\n",
        "  \n",
        "  running_val_loss = 0\n",
        "  running_val_correct = 0\n",
        "\n",
        "\n",
        "  model.eval()\n",
        "  \n",
        "  with torch.no_grad():\n",
        "    for input_,targets in valid_loader:\n",
        "\n",
        "      # move inputs and outputs to GPUs\n",
        "      input_ = input_.to(device)\n",
        "      targets = targets.to(device)\n",
        "\n",
        "      # Step 1: Forward Pass: Compute model's predictions \n",
        "      output = model(input_)\n",
        "      \n",
        "      # Step 2: Compute loss\n",
        "      loss = loss_function(output, targets)\n",
        "\n",
        "      # Correct Predictions\n",
        "      y_pred = torch.argmax(output, dim = 1)\n",
        "      correct = torch.sum(y_pred == targets)\n",
        "\n",
        "      batch_ct_valid += 1\n",
        "\n",
        "      # Add val loss of a batch \n",
        "      running_val_loss += loss.item()\n",
        "\n",
        "      # Add correct count for each batch\n",
        "      running_val_correct += correct\n",
        "\n",
        "       # log batch loss and accuracy\n",
        "      if log_batch:\n",
        "          if ((batch_ct_valid + 1) % log_interval) == 0:\n",
        "            wandb.log({f\"Valid Batch Loss  :\": loss})\n",
        "            wandb.log({f\"Valid Batch Accuracy :\": correct/len(targets)})\n",
        "\n",
        "    # Calculate mean val loss for the whole dataset for a particular epoch\n",
        "    val_loss = running_val_loss/len(valid_loader)\n",
        "\n",
        "    # Calculate accuracy for the whole dataset for a particular epoch\n",
        "    val_acc = running_val_correct/len(valid_loader.dataset)\n",
        "      \n",
        "    return val_loss, val_acc"
      ]
    },
    {
      "cell_type": "markdown",
      "metadata": {
        "id": "UwF70eqE6n_v"
      },
      "source": [
        "## <Font color = 'pickle'>**Function for Model Training**\n",
        "    \n",
        "We will now create a function for step 5 of model training\n"
      ]
    },
    {
      "cell_type": "code",
      "source": [
        "from datetime import datetime"
      ],
      "metadata": {
        "id": "tioDaDMcFogL"
      },
      "execution_count": 98,
      "outputs": []
    },
    {
      "cell_type": "code",
      "execution_count": 99,
      "metadata": {
        "execution": {
          "iopub.execute_input": "2022-09-14T05:31:34.888547Z",
          "iopub.status.busy": "2022-09-14T05:31:34.888187Z",
          "iopub.status.idle": "2022-09-14T05:31:34.893965Z",
          "shell.execute_reply": "2022-09-14T05:31:34.893525Z",
          "shell.execute_reply.started": "2022-09-14T05:31:34.888528Z"
        },
        "id": "KeCKVgg-5FiZ",
        "tags": []
      },
      "outputs": [],
      "source": [
        "def train_loop(train_loader, valid_loader, model, optimizer, loss_function, epochs, device, patience, early_stopping,\n",
        "               file_model):\n",
        "    \n",
        "  \n",
        "\n",
        "  # Create lists to store train and val loss at each epoch\n",
        "  train_loss_history = []\n",
        "  valid_loss_history = []\n",
        "  train_acc_history = []\n",
        "  valid_acc_history = []\n",
        "\n",
        "  # initialize variables for early stopping\n",
        "\n",
        "  delta = 0\n",
        "  best_score = None\n",
        "  valid_loss_min = np.Inf\n",
        "  counter_early_stop=0\n",
        "  early_stop=False\n",
        "\n",
        "  # Iterate for the given number of epochs\n",
        "  # Step 5: Repeat steps 1 - 4\n",
        "\n",
        "  for epoch in range(epochs):\n",
        "\n",
        "    t0 = datetime.now()\n",
        "\n",
        "    # Get train loss and accuracy for one epoch\n",
        "    train_loss, train_acc = train(train_loader, loss_function, model, optimizer, \n",
        "                                  wandb.config.grad_clipping, wandb.config.max_norm,\n",
        "                                  wandb.config.log_batch, wandb.config.log_interval)\n",
        "    valid_loss, valid_acc   = validate(valid_loader, loss_function, model, wandb.config.log_batch, wandb.config.log_interval)\n",
        "\n",
        "    dt = datetime.now() - t0\n",
        "\n",
        "    # Save history of the Losses and accuracy\n",
        "    train_loss_history.append(train_loss)\n",
        "    train_acc_history.append(train_acc)\n",
        "\n",
        "    valid_loss_history.append(valid_loss)\n",
        "    valid_acc_history.append(valid_acc)\n",
        "\n",
        "    # Log the train and valid loss to wandb\n",
        "    wandb.log({f\"Train Loss :\": train_loss, \"epoch\": epoch})\n",
        "    wandb.log({f\"Train Acc :\": train_acc, \"epoch\": epoch})\n",
        "\n",
        "    wandb.log({f\"Valid Loss :\": valid_loss, \"epoch\": epoch})\n",
        "    wandb.log({f\"Valid Acc :\": valid_acc, \"epoch\": epoch})\n",
        "\n",
        "\n",
        "    if early_stopping:\n",
        "      score = -valid_loss\n",
        "      if best_score is None:\n",
        "        best_score=score\n",
        "        print(f'Validation loss has decreased ({valid_loss_min:.6f} --> {valid_loss:.6f}). Saving Model...')\n",
        "        torch.save(model.state_dict(), file_model)\n",
        "        valid_loss_min = valid_loss\n",
        "\n",
        "      elif score < best_score + delta:\n",
        "        counter_early_stop += 1\n",
        "        print(f'Early stoping counter: {counter_early_stop} out of {patience}')\n",
        "        if counter_early_stop > patience:\n",
        "          early_stop = True\n",
        "\n",
        "      \n",
        "      else:\n",
        "        best_score = score\n",
        "        print(f'Validation loss has decreased ({valid_loss_min:.6f} --> {valid_loss:.6f}). Saving model...')\n",
        "        torch.save(model.state_dict(), file_model)\n",
        "        counter_early_stop=0\n",
        "        valid_loss_min = valid_loss\n",
        "\n",
        "      if early_stop:\n",
        "        print('Early Stopping')\n",
        "        break\n",
        "\n",
        "    else:\n",
        "\n",
        "      score = -valid_loss\n",
        "      if best_score is None:\n",
        "        best_score=score\n",
        "        print(f'Validation loss has decreased ({valid_loss_min:.6f} --> {valid_loss:.6f}). Saving Model...')\n",
        "        torch.save(model.state_dict(), file_model)\n",
        "        valid_loss_min = valid_loss\n",
        "\n",
        "      elif score < best_score + delta:\n",
        "        print(f'Validation loss has not decreased ({valid_loss_min:.6f} --> {valid_loss:.6f}). Not Saving Model...')\n",
        "      \n",
        "      else:\n",
        "        best_score = score\n",
        "        print(f'Validation loss has decreased ({valid_loss_min:.6f} --> {valid_loss:.6f}). Saving model...')\n",
        "        torch.save(model.state_dict(), file_model)\n",
        "        valid_loss_min = valid_loss\n",
        "    \n",
        "    # Print the train loss and accuracy for given number of epochs, batch size and number of samples\n",
        "    print(f'Epoch : {epoch+1} / {epochs}')\n",
        "    print(f'Time to complete {epoch+1} is {dt}')\n",
        "    # print(f'Learning rate: {scheduler._last_lr[0]}')\n",
        "    print(f'Train Loss: {train_loss : .4f} | Train Accuracy: {train_acc * 100 : .4f}%')\n",
        "    print(f'Valid Loss: {valid_loss : .4f} | Valid Accuracy: {valid_acc * 100 : .4f}%')\n",
        "    print()\n",
        "    torch.cuda.empty_cache()\n",
        "\n",
        "  return train_loss_history, train_acc_history, valid_loss_history, valid_acc_history"
      ]
    },
    {
      "cell_type": "markdown",
      "metadata": {
        "id": "FWCLH47azD6j"
      },
      "source": [
        "## <Font color = 'pickle'>**Function for Accuracy and Predictions**\n",
        "\n",
        "Now we have final values for weights and bias after training the model. We will use these values to make predictions on the test dataset."
      ]
    },
    {
      "cell_type": "code",
      "execution_count": 100,
      "metadata": {
        "execution": {
          "iopub.execute_input": "2022-09-14T05:31:34.894707Z",
          "iopub.status.busy": "2022-09-14T05:31:34.894521Z",
          "iopub.status.idle": "2022-09-14T05:31:34.898629Z",
          "shell.execute_reply": "2022-09-14T05:31:34.898173Z",
          "shell.execute_reply.started": "2022-09-14T05:31:34.894692Z"
        },
        "id": "M6KZqsnqQFVu",
        "tags": []
      },
      "outputs": [],
      "source": [
        "def get_acc_pred(data_loader, model, device):\n",
        "    \n",
        "  \"\"\" \n",
        "  Function to get predictions and accuracy for a given data using estimated model\n",
        "  Input: Data iterator, Final estimated weoights, bias\n",
        "  Output: Prections and Accuracy for given dataset\n",
        "  \"\"\"\n",
        "\n",
        "  # Array to store predicted labels\n",
        "  predictions = torch.Tensor() # empty tensor\n",
        "  predictions = predictions.to(device) # move predictions to GPU\n",
        "\n",
        "  # Array to store actual labels\n",
        "  y = torch.Tensor() # empty tensor\n",
        "  y = y.to(device)\n",
        "\n",
        "  model.eval()\n",
        "\n",
        "\n",
        "  # Iterate over batches from data iterator\n",
        "  with torch.no_grad():\n",
        "    for input_, targets in data_loader:\n",
        "      \n",
        "      # move inputs and outputs to GPUs\n",
        "      input_ = input_.to(device)\n",
        "      targets = targets.to(device)\n",
        "\n",
        "      # Calculated the predicted labels\n",
        "      output = model(input_)\n",
        "\n",
        "      # Choose the label with maximum probability\n",
        "      prediction = torch.argmax(output, dim = 1)\n",
        "\n",
        "      # Add the predicted labels to the array\n",
        "      predictions = torch.cat((predictions, prediction)) \n",
        "\n",
        "      # Add the actual labels to the array\n",
        "      y = torch.cat((y, targets)) \n",
        "\n",
        "  # Check for complete dataset if actual and predicted labels are same or not\n",
        "  # Calculate accuracy\n",
        "  acc = (predictions == y).float().mean()\n",
        "\n",
        "  # Return tuple containing predictions and accuracy\n",
        "  return predictions, acc  "
      ]
    },
    {
      "cell_type": "markdown",
      "metadata": {
        "id": "oVk_RctgdPRP"
      },
      "source": [
        "# <Font color = 'pickle'>**Hyperparameters**"
      ]
    },
    {
      "cell_type": "code",
      "source": [
        "!pip install types"
      ],
      "metadata": {
        "colab": {
          "base_uri": "https://localhost:8080/"
        },
        "id": "KnlqNwhLEYsW",
        "outputId": "7c775d67-3803-4d86-d358-54f0c4f975eb"
      },
      "execution_count": 101,
      "outputs": [
        {
          "output_type": "stream",
          "name": "stdout",
          "text": [
            "Looking in indexes: https://pypi.org/simple, https://us-python.pkg.dev/colab-wheels/public/simple/\n",
            "\u001b[31mERROR: Could not find a version that satisfies the requirement types (from versions: none)\u001b[0m\n",
            "\u001b[31mERROR: No matching distribution found for types\u001b[0m\n"
          ]
        }
      ]
    },
    {
      "cell_type": "code",
      "source": [
        "from types import SimpleNamespace\n",
        "\n",
        "hyperparameters = SimpleNamespace(\n",
        "    epochs = 20,\n",
        "    input_dim = 3072,\n",
        "    output_dim = 10,\n",
        "    batch_size=256,\n",
        "    learning_rate=0.01,\n",
        "    dataset=\"CIFAR10\",\n",
        "    architecture=\"SoftmaxReg\",\n",
        "    log_interval = 25,\n",
        "    log_batch = True,\n",
        "    file_model = data_folder/'CIFAR10.pt',\n",
        "    grad_clipping = False,\n",
        "    max_norm = 1,\n",
        "    momentum = 0.9,\n",
        "    patience = 3,\n",
        "    early_stopping = True,\n",
        "    # scheduler_factor = 0.5,\n",
        "    # scheduler_patience = 0,\n",
        "    weight_decay = 0.00\n",
        "    )"
      ],
      "metadata": {
        "id": "E7zBE9ueDthw"
      },
      "execution_count": 102,
      "outputs": []
    },
    {
      "cell_type": "code",
      "execution_count": 103,
      "metadata": {
        "colab": {
          "base_uri": "https://localhost:8080/",
          "height": 108
        },
        "execution": {
          "iopub.execute_input": "2022-09-14T06:09:10.201908Z",
          "iopub.status.busy": "2022-09-14T06:09:10.201699Z",
          "iopub.status.idle": "2022-09-14T06:09:15.461499Z",
          "shell.execute_reply": "2022-09-14T06:09:15.461002Z",
          "shell.execute_reply.started": "2022-09-14T06:09:10.201893Z"
        },
        "id": "fZ6ZoM9WaS_M",
        "outputId": "ee6c667d-82f3-4915-f3c4-230c09a0e691",
        "tags": []
      },
      "outputs": [
        {
          "output_type": "display_data",
          "data": {
            "text/plain": [
              "<IPython.core.display.HTML object>"
            ],
            "text/html": [
              "wandb version 0.13.4 is available!  To upgrade, please run:\n",
              " $ pip install wandb --upgrade"
            ]
          },
          "metadata": {}
        },
        {
          "output_type": "display_data",
          "data": {
            "text/plain": [
              "<IPython.core.display.HTML object>"
            ],
            "text/html": [
              "Tracking run with wandb version 0.13.3"
            ]
          },
          "metadata": {}
        },
        {
          "output_type": "display_data",
          "data": {
            "text/plain": [
              "<IPython.core.display.HTML object>"
            ],
            "text/html": [
              "Run data is saved locally in <code>/content/wandb/run-20221005_221349-2nii7vo3</code>"
            ]
          },
          "metadata": {}
        },
        {
          "output_type": "display_data",
          "data": {
            "text/plain": [
              "<IPython.core.display.HTML object>"
            ],
            "text/html": [
              "Syncing run <strong><a href=\"https://wandb.ai/pranavshekhar2/dl22_HW4/runs/2nii7vo3\" target=\"_blank\">Refactor_CIFAR</a></strong> to <a href=\"https://wandb.ai/pranavshekhar2/dl22_HW4\" target=\"_blank\">Weights & Biases</a> (<a href=\"https://wandb.me/run\" target=\"_blank\">docs</a>)<br/>"
            ]
          },
          "metadata": {}
        },
        {
          "output_type": "execute_result",
          "data": {
            "text/html": [
              "<button onClick=\"this.nextSibling.style.display='block';this.style.display='none';\">Display W&B run</button><iframe src=\"https://wandb.ai/pranavshekhar2/dl22_HW4/runs/2nii7vo3?jupyter=true\" style=\"border:none;width:100%;height:420px;display:none;\"></iframe>"
            ],
            "text/plain": [
              "<wandb.sdk.wandb_run.Run at 0x7efc9e7dc590>"
            ]
          },
          "metadata": {},
          "execution_count": 103
        }
      ],
      "source": [
        "# Initialize a new project\n",
        "import random\n",
        "wandb.init(name = \"Refactor_CIFAR\", project = 'dl22_HW4')"
      ]
    },
    {
      "cell_type": "code",
      "source": [
        "wandb.config = hyperparameters\n",
        "wandb.config"
      ],
      "metadata": {
        "colab": {
          "base_uri": "https://localhost:8080/"
        },
        "id": "T2_pyj1QFCCz",
        "outputId": "f65f7afe-fde1-4cc6-803e-c56d34379d58"
      },
      "execution_count": 104,
      "outputs": [
        {
          "output_type": "execute_result",
          "data": {
            "text/plain": [
              "namespace(architecture='SoftmaxReg', batch_size=256, dataset='CIFAR10', early_stopping=True, epochs=20, file_model=PosixPath('/content/drive/MyDrive/Deep_Learning_UTD/Dataset/CIFAR10.pt'), grad_clipping=False, input_dim=3072, learning_rate=0.01, log_batch=True, log_interval=25, max_norm=1, momentum=0.9, output_dim=10, patience=3, weight_decay=0.0)"
            ]
          },
          "metadata": {},
          "execution_count": 104
        }
      ]
    },
    {
      "cell_type": "code",
      "source": [
        "# Fix seed value\n",
        "SEED = 1234\n",
        "random.seed(SEED)\n",
        "np.random.seed(SEED)\n",
        "torch.manual_seed(SEED)\n",
        "torch.cuda.manual_seed(SEED)\n",
        "torch.backends.cudnn.deterministic = True\n",
        "\n",
        "# Data Loader\n",
        "train_loader = torch.utils.data.DataLoader(trainset, batch_size=wandb.config.batch_size, shuffle = True)\n",
        "valid_loader = torch.utils.data.DataLoader(validset, batch_size=wandb.config.batch_size, shuffle = False)\n",
        "test_loader = torch.utils.data.DataLoader(testset, batch_size=wandb.config.batch_size,   shuffle = False)\n",
        "\n",
        "# device \n",
        "device = torch.device('cuda:0' if torch.cuda.is_available() else 'cpu')\n",
        "\n",
        "wandb.config.device = device\n",
        "\n",
        "# model\n",
        "model = softmax_reg(wandb.config.input_dim, wandb.config.output_dim, bias=True)\n",
        "\n",
        "# Initialize weights from normal distribution with mean 0 and standard deviation 0.01\n",
        "def init_weights(layer):\n",
        "  if type(layer) == nn.Linear:\n",
        "    torch.nn.init.normal_(layer.weight, mean = 0, std = 1/3072**0.5)\n",
        "    torch.nn.init.zeros_(layer.bias)\n",
        "\n",
        "model.to(wandb.config.device)\n",
        "model.apply(init_weights)\n",
        "\n",
        "# loss_function\n",
        "loss_function = nn.CrossEntropyLoss()\n",
        "\n",
        "optimizer = torch.optim.SGD(model.parameters(), \n",
        "                            lr = wandb.config.learning_rate, \n",
        "                            momentum = wandb.config.momentum,\n",
        "                            weight_decay = wandb.config.weight_decay)"
      ],
      "metadata": {
        "id": "pNu8E1k9DPl2"
      },
      "execution_count": 105,
      "outputs": []
    },
    {
      "cell_type": "markdown",
      "metadata": {
        "id": "e0_zWk0Ib74K"
      },
      "source": [
        "# <Font color = 'pickle'>**Training Model**"
      ]
    },
    {
      "cell_type": "code",
      "execution_count": 106,
      "metadata": {
        "colab": {
          "base_uri": "https://localhost:8080/"
        },
        "execution": {
          "iopub.execute_input": "2022-09-14T06:09:15.462582Z",
          "iopub.status.busy": "2022-09-14T06:09:15.462354Z",
          "iopub.status.idle": "2022-09-14T06:10:27.006093Z",
          "shell.execute_reply": "2022-09-14T06:10:27.005642Z",
          "shell.execute_reply.started": "2022-09-14T06:09:15.462548Z"
        },
        "id": "LckLb_9bhZDw",
        "outputId": "adebdde8-2e0f-4293-f9a1-194d3d7a0ad5",
        "tags": []
      },
      "outputs": [
        {
          "output_type": "stream",
          "name": "stdout",
          "text": [
            "Validation loss has decreased (inf --> 2.010289). Saving Model...\n",
            "Epoch : 1 / 20\n",
            "Time to complete 1 is 0:00:15.600171\n",
            "Train Loss:  2.0359 | Train Accuracy:  32.7775%\n",
            "Valid Loss:  2.0103 | Valid Accuracy:  33.9400%\n",
            "\n",
            "Early stoping counter: 1 out of 3\n",
            "Epoch : 2 / 20\n",
            "Time to complete 2 is 0:00:09.571310\n",
            "Train Loss:  1.9297 | Train Accuracy:  35.5750%\n",
            "Valid Loss:  2.1792 | Valid Accuracy:  30.0900%\n",
            "\n",
            "Early stoping counter: 2 out of 3\n",
            "Epoch : 3 / 20\n",
            "Time to complete 3 is 0:00:09.603482\n",
            "Train Loss:  1.9292 | Train Accuracy:  36.3200%\n",
            "Valid Loss:  2.0936 | Valid Accuracy:  32.6100%\n",
            "\n",
            "Early stoping counter: 3 out of 3\n",
            "Epoch : 4 / 20\n",
            "Time to complete 4 is 0:00:09.453912\n",
            "Train Loss:  1.8861 | Train Accuracy:  37.8125%\n",
            "Valid Loss:  2.2303 | Valid Accuracy:  32.8000%\n",
            "\n",
            "Validation loss has decreased (2.010289 --> 1.988589). Saving model...\n",
            "Epoch : 5 / 20\n",
            "Time to complete 5 is 0:00:10.357246\n",
            "Train Loss:  1.9154 | Train Accuracy:  37.1200%\n",
            "Valid Loss:  1.9886 | Valid Accuracy:  35.4300%\n",
            "\n",
            "Early stoping counter: 1 out of 3\n",
            "Epoch : 6 / 20\n",
            "Time to complete 6 is 0:00:09.913057\n",
            "Train Loss:  1.8945 | Train Accuracy:  37.6750%\n",
            "Valid Loss:  2.0311 | Valid Accuracy:  35.1300%\n",
            "\n",
            "Early stoping counter: 2 out of 3\n",
            "Epoch : 7 / 20\n",
            "Time to complete 7 is 0:00:10.213956\n",
            "Train Loss:  1.8599 | Train Accuracy:  38.7950%\n",
            "Valid Loss:  2.0602 | Valid Accuracy:  33.7400%\n",
            "\n",
            "Early stoping counter: 3 out of 3\n",
            "Epoch : 8 / 20\n",
            "Time to complete 8 is 0:00:09.298866\n",
            "Train Loss:  1.8666 | Train Accuracy:  38.3750%\n",
            "Valid Loss:  2.0180 | Valid Accuracy:  33.9900%\n",
            "\n",
            "Early stoping counter: 4 out of 3\n",
            "Early Stopping\n"
          ]
        }
      ],
      "source": [
        "# See live graphs in the notebook.\n",
        "#%%wandb \n",
        "batch_ct_train, batch_ct_valid = 0, 0\n",
        "train_loss_history, train_acc_history, valid_loss_history, valid_acc_history = train_loop(train_loader, \n",
        "                                                                                          valid_loader, \n",
        "                                                                                          model, \n",
        "                                                                                          optimizer, \n",
        "                                                                                          loss_function, \n",
        "                                                                                          wandb.config.epochs, \n",
        "                                                                                          wandb.config.device,\n",
        "                                                                                          wandb.config.patience,\n",
        "                                                                                          wandb.config.early_stopping,\n",
        "                                                                                          wandb.config.file_model,\n",
        "                                                                                          )"
      ]
    },
    {
      "cell_type": "markdown",
      "metadata": {
        "id": "pG8DWY1NfViW"
      },
      "source": [
        "We can observe that with each epoch, our loss is getting reduced."
      ]
    },
    {
      "cell_type": "markdown",
      "metadata": {
        "id": "c-Cj1f2Qb74K"
      },
      "source": [
        "# <Font color = 'pickle'>**Get Accuracy, Predictions**"
      ]
    },
    {
      "cell_type": "code",
      "source": [
        "model_softmax = softmax_reg(wandb.config.input_dim, wandb.config.output_dim, bias=True)\n",
        "model_softmax.to(device)\n",
        "model_softmax.load_state_dict(torch.load(wandb.config.file_model))"
      ],
      "metadata": {
        "colab": {
          "base_uri": "https://localhost:8080/"
        },
        "id": "OGIMJCruHW5C",
        "outputId": "89eee33b-6edd-40af-c266-daf6b93ddd7f"
      },
      "execution_count": 107,
      "outputs": [
        {
          "output_type": "execute_result",
          "data": {
            "text/plain": [
              "<All keys matched successfully>"
            ]
          },
          "metadata": {},
          "execution_count": 107
        }
      ]
    },
    {
      "cell_type": "code",
      "execution_count": 108,
      "metadata": {
        "execution": {
          "iopub.execute_input": "2022-09-14T06:10:27.006839Z",
          "iopub.status.busy": "2022-09-14T06:10:27.006692Z",
          "iopub.status.idle": "2022-09-14T06:10:28.245886Z",
          "shell.execute_reply": "2022-09-14T06:10:28.245400Z",
          "shell.execute_reply.started": "2022-09-14T06:10:27.006825Z"
        },
        "id": "yw7GhoZuRdIO",
        "tags": []
      },
      "outputs": [],
      "source": [
        "# Get the prediction and accuracy for the test dataseta\n",
        "predictions_test, acc_test = get_acc_pred(test_loader, model_softmax, device)\n",
        "predictions_train, acc_train = get_acc_pred(train_loader, model_softmax, device)\n",
        "predictions_valid, acc_valid = get_acc_pred(valid_loader, model_softmax, device)"
      ]
    },
    {
      "cell_type": "code",
      "execution_count": 109,
      "metadata": {
        "colab": {
          "base_uri": "https://localhost:8080/"
        },
        "execution": {
          "iopub.execute_input": "2022-09-14T06:10:28.246988Z",
          "iopub.status.busy": "2022-09-14T06:10:28.246856Z",
          "iopub.status.idle": "2022-09-14T06:10:28.251852Z",
          "shell.execute_reply": "2022-09-14T06:10:28.251386Z",
          "shell.execute_reply.started": "2022-09-14T06:10:28.246976Z"
        },
        "id": "3v2z0oFcRjrF",
        "outputId": "cb513c7e-74bf-4da4-af75-c0f07a315641",
        "tags": []
      },
      "outputs": [
        {
          "output_type": "stream",
          "name": "stdout",
          "text": [
            "Test accuracy tensor(34.8400, device='cuda:0')\n",
            "Train accuracy tensor(39.1600, device='cuda:0')\n",
            "Valid accuracy tensor(35.4300, device='cuda:0')\n"
          ]
        }
      ],
      "source": [
        "# Print Test Accuracy\n",
        "print('Test accuracy', acc_test * 100)\n",
        "print('Train accuracy', acc_train * 100)\n",
        "print('Valid accuracy', acc_valid * 100)"
      ]
    },
    {
      "cell_type": "code",
      "execution_count": 110,
      "metadata": {
        "execution": {
          "iopub.execute_input": "2022-09-14T06:10:28.252582Z",
          "iopub.status.busy": "2022-09-14T06:10:28.252406Z",
          "iopub.status.idle": "2022-09-14T06:10:28.258308Z",
          "shell.execute_reply": "2022-09-14T06:10:28.257908Z",
          "shell.execute_reply.started": "2022-09-14T06:10:28.252569Z"
        },
        "id": "vcfIlMd3FKAX",
        "tags": []
      },
      "outputs": [],
      "source": [
        "wandb.log({'Best_test_Acc': acc_test})\n",
        "wandb.log({'Best_train_Acc': acc_train})\n",
        "wandb.log({'Best_valid_Acc': acc_valid})"
      ]
    },
    {
      "cell_type": "markdown",
      "metadata": {
        "id": "caRp4G3ov5fp"
      },
      "source": [
        "# <Font color = 'pickle'>**Confusion Matrix for Test Data**"
      ]
    },
    {
      "cell_type": "markdown",
      "metadata": {
        "id": "GZf0pSyQV32m"
      },
      "source": [
        "Now, we will make some visualizations for the predictions that we obtained."
      ]
    },
    {
      "cell_type": "markdown",
      "metadata": {
        "id": "5sQH0GvxXnam"
      },
      "source": [
        "We will construct a `confusion matrix` which will help us to visualize the performance of our classification model on the test dataset as we know the true values for the test data."
      ]
    },
    {
      "cell_type": "code",
      "execution_count": 111,
      "metadata": {
        "execution": {
          "iopub.execute_input": "2022-09-14T06:10:28.259147Z",
          "iopub.status.busy": "2022-09-14T06:10:28.258909Z",
          "iopub.status.idle": "2022-09-14T06:10:28.262772Z",
          "shell.execute_reply": "2022-09-14T06:10:28.262286Z",
          "shell.execute_reply.started": "2022-09-14T06:10:28.259129Z"
        },
        "id": "NaiRaPuQYYIV",
        "tags": []
      },
      "outputs": [],
      "source": [
        "# Get an array containing actual labels\n",
        "testing_labels = np.array(testset.targets)"
      ]
    },
    {
      "cell_type": "code",
      "execution_count": 112,
      "metadata": {
        "colab": {
          "base_uri": "https://localhost:8080/"
        },
        "execution": {
          "iopub.execute_input": "2022-09-14T06:10:28.263594Z",
          "iopub.status.busy": "2022-09-14T06:10:28.263366Z",
          "iopub.status.idle": "2022-09-14T06:10:28.267704Z",
          "shell.execute_reply": "2022-09-14T06:10:28.267278Z",
          "shell.execute_reply.started": "2022-09-14T06:10:28.263579Z"
        },
        "id": "wMuZ1Yl2X47z",
        "outputId": "c057b7f6-2cf0-492e-cb9b-45a3b6b719e3",
        "tags": []
      },
      "outputs": [
        {
          "output_type": "execute_result",
          "data": {
            "text/plain": [
              "array([0, 1, 2, 3, 4, 5, 6, 7, 8, 9])"
            ]
          },
          "metadata": {},
          "execution_count": 112
        }
      ],
      "source": [
        "np.unique(testing_labels)"
      ]
    },
    {
      "cell_type": "code",
      "execution_count": 113,
      "metadata": {
        "execution": {
          "iopub.execute_input": "2022-09-14T06:10:28.268633Z",
          "iopub.status.busy": "2022-09-14T06:10:28.268439Z",
          "iopub.status.idle": "2022-09-14T06:10:28.511956Z",
          "shell.execute_reply": "2022-09-14T06:10:28.511491Z",
          "shell.execute_reply.started": "2022-09-14T06:10:28.268618Z"
        },
        "id": "lAtBZumJcuwX",
        "tags": []
      },
      "outputs": [],
      "source": [
        "# Log a confusion matrix to W&B\n",
        "wandb.log({\"conf_mat\" : wandb.plot.confusion_matrix(\n",
        "                        probs = None,\n",
        "                        y_true = testing_labels,\n",
        "                        preds = predictions_test.to('cpu').numpy(),\n",
        "                        class_names = classes)})\n"
      ]
    },
    {
      "cell_type": "code",
      "execution_count": 114,
      "metadata": {
        "colab": {
          "base_uri": "https://localhost:8080/",
          "height": 501,
          "referenced_widgets": [
            "fbe4592906a14289ae203ec54e9b0e88",
            "4e03a938c7fe4447a1844bfec5999938",
            "a73b0cccc99a4264bc78346183c97824",
            "cf4adef4aa9146fea7376f25d33a8ee3",
            "4178f19ecdb241fb91a1a75b66bb936e",
            "dd468e314e624a14930af933462532f8",
            "b6769320cc044866b3ea45db641aa534",
            "e5bff8c517284c73bf01ba3020857663"
          ]
        },
        "execution": {
          "iopub.execute_input": "2022-09-14T06:10:28.512541Z",
          "iopub.status.busy": "2022-09-14T06:10:28.512414Z",
          "iopub.status.idle": "2022-09-14T06:10:42.674747Z",
          "shell.execute_reply": "2022-09-14T06:10:42.674338Z",
          "shell.execute_reply.started": "2022-09-14T06:10:28.512528Z"
        },
        "id": "jIlsxRdPHZYa",
        "outputId": "9403c445-84f6-4fa5-ee70-73ad13497717",
        "tags": []
      },
      "outputs": [
        {
          "output_type": "display_data",
          "data": {
            "text/plain": [
              "<IPython.core.display.HTML object>"
            ],
            "text/html": [
              "Waiting for W&B process to finish... <strong style=\"color:green\">(success).</strong>"
            ]
          },
          "metadata": {}
        },
        {
          "output_type": "display_data",
          "data": {
            "text/plain": [
              "VBox(children=(Label(value='0.003 MB of 0.006 MB uploaded (0.000 MB deduped)\\r'), FloatProgress(value=0.571860…"
            ],
            "application/vnd.jupyter.widget-view+json": {
              "version_major": 2,
              "version_minor": 0,
              "model_id": "fbe4592906a14289ae203ec54e9b0e88"
            }
          },
          "metadata": {}
        },
        {
          "output_type": "display_data",
          "data": {
            "text/plain": [
              "<IPython.core.display.HTML object>"
            ],
            "text/html": [
              "<style>\n",
              "    table.wandb td:nth-child(1) { padding: 0 10px; text-align: left ; width: auto;} td:nth-child(2) {text-align: left ; width: 100%}\n",
              "    .wandb-row { display: flex; flex-direction: row; flex-wrap: wrap; justify-content: flex-start; width: 100% }\n",
              "    .wandb-col { display: flex; flex-direction: column; flex-basis: 100%; flex: 1; padding: 10px; }\n",
              "    </style>\n",
              "<div class=\"wandb-row\"><div class=\"wandb-col\"><h3>Run history:</h3><br/><table class=\"wandb\"><tr><td>Best_test_Acc</td><td>▁</td></tr><tr><td>Best_train_Acc</td><td>▁</td></tr><tr><td>Best_valid_Acc</td><td>▁</td></tr><tr><td>Train Acc :</td><td>▁▄▅▇▆▆█▇█</td></tr><tr><td>Train Batch Acc :</td><td>▁▂▁▄▄▄▇▆▄▄▆▇▄▅▄▆▆▄▃▆▅█▅▅▆▄▆▇▆▆▄▅▅▄█▆▄██▇</td></tr><tr><td>Train Batch Loss  :</td><td>▅▅█▄▄▄▂▃▂▃▂▂▂▃▄▃▂▂▅▁▁▁▂▃▁▃▃▂▃▂▅▃▄▃▂▂▄▂▁▂</td></tr><tr><td>Train Loss :</td><td>█▄▄▃▄▃▂▂▁</td></tr><tr><td>Valid Acc :</td><td>▆▁▄▄█▇▆▆█</td></tr><tr><td>Valid Batch Accuracy :</td><td>▆▅▁▆▆▅▆▅█▅▅▇▆▇</td></tr><tr><td>Valid Batch Loss  :</td><td>▁▄█▃▅█▁▄▂▂▅▁▁▄</td></tr><tr><td>Valid Loss :</td><td>▂▇▄█▁▂▃▂▂</td></tr><tr><td>epoch</td><td>▁▁▁▁▂▂▂▂▃▃▃▃▄▄▄▄▅▅▅▅▅▅▅▅▆▆▆▆▇▇▇▇████</td></tr></table><br/></div><div class=\"wandb-col\"><h3>Run summary:</h3><br/><table class=\"wandb\"><tr><td>Best_test_Acc</td><td>0.3484</td></tr><tr><td>Best_train_Acc</td><td>0.3916</td></tr><tr><td>Best_valid_Acc</td><td>0.3543</td></tr><tr><td>Train Acc :</td><td>0.391</td></tr><tr><td>Train Batch Acc :</td><td>0.41406</td></tr><tr><td>Train Batch Loss  :</td><td>1.75689</td></tr><tr><td>Train Loss :</td><td>1.84463</td></tr><tr><td>Valid Acc :</td><td>0.3552</td></tr><tr><td>Valid Batch Accuracy :</td><td>0.36719</td></tr><tr><td>Valid Batch Loss  :</td><td>2.13891</td></tr><tr><td>Valid Loss :</td><td>2.03184</td></tr><tr><td>epoch</td><td>8</td></tr></table><br/></div></div>"
            ]
          },
          "metadata": {}
        },
        {
          "output_type": "display_data",
          "data": {
            "text/plain": [
              "<IPython.core.display.HTML object>"
            ],
            "text/html": [
              "Synced <strong style=\"color:#cdcd00\">Refactor_CIFAR</strong>: <a href=\"https://wandb.ai/pranavshekhar2/dl22_HW4/runs/2nii7vo3\" target=\"_blank\">https://wandb.ai/pranavshekhar2/dl22_HW4/runs/2nii7vo3</a><br/>Synced 5 W&B file(s), 1 media file(s), 1 artifact file(s) and 0 other file(s)"
            ]
          },
          "metadata": {}
        },
        {
          "output_type": "display_data",
          "data": {
            "text/plain": [
              "<IPython.core.display.HTML object>"
            ],
            "text/html": [
              "Find logs at: <code>./wandb/run-20221005_221349-2nii7vo3/logs</code>"
            ]
          },
          "metadata": {}
        }
      ],
      "source": [
        "wandb.finish()"
      ]
    },
    {
      "cell_type": "markdown",
      "metadata": {
        "id": "c2nndkHjVh4v"
      },
      "source": [
        "# My Report\n",
        "\n",
        "- Project URL: https://wandb.ai/pranavshekhar2/dl22_HW4?workspace=user-pranavshekhar2\n",
        "- Conclusion - Learning rate of 0.01 was at lower side and we will need to train the model for more epochs. Also early stopping happens at around 8 epochs."
      ]
    }
  ],
  "metadata": {
    "accelerator": "GPU",
    "colab": {
      "collapsed_sections": [],
      "machine_shape": "hm",
      "provenance": []
    },
    "gpuClass": "standard",
    "kernelspec": {
      "display_name": "Python 3 (ipykernel)",
      "language": "python",
      "name": "python3"
    },
    "language_info": {
      "codemirror_mode": {
        "name": "ipython",
        "version": 3
      },
      "file_extension": ".py",
      "mimetype": "text/x-python",
      "name": "python",
      "nbconvert_exporter": "python",
      "pygments_lexer": "ipython3",
      "version": "3.9.13"
    },
    "widgets": {
      "application/vnd.jupyter.widget-state+json": {
        "fbe4592906a14289ae203ec54e9b0e88": {
          "model_module": "@jupyter-widgets/controls",
          "model_name": "VBoxModel",
          "model_module_version": "1.5.0",
          "state": {
            "_dom_classes": [],
            "_model_module": "@jupyter-widgets/controls",
            "_model_module_version": "1.5.0",
            "_model_name": "VBoxModel",
            "_view_count": null,
            "_view_module": "@jupyter-widgets/controls",
            "_view_module_version": "1.5.0",
            "_view_name": "VBoxView",
            "box_style": "",
            "children": [
              "IPY_MODEL_4e03a938c7fe4447a1844bfec5999938",
              "IPY_MODEL_a73b0cccc99a4264bc78346183c97824"
            ],
            "layout": "IPY_MODEL_cf4adef4aa9146fea7376f25d33a8ee3"
          }
        },
        "4e03a938c7fe4447a1844bfec5999938": {
          "model_module": "@jupyter-widgets/controls",
          "model_name": "LabelModel",
          "model_module_version": "1.5.0",
          "state": {
            "_dom_classes": [],
            "_model_module": "@jupyter-widgets/controls",
            "_model_module_version": "1.5.0",
            "_model_name": "LabelModel",
            "_view_count": null,
            "_view_module": "@jupyter-widgets/controls",
            "_view_module_version": "1.5.0",
            "_view_name": "LabelView",
            "description": "",
            "description_tooltip": null,
            "layout": "IPY_MODEL_4178f19ecdb241fb91a1a75b66bb936e",
            "placeholder": "​",
            "style": "IPY_MODEL_dd468e314e624a14930af933462532f8",
            "value": "0.017 MB of 0.017 MB uploaded (0.000 MB deduped)\r"
          }
        },
        "a73b0cccc99a4264bc78346183c97824": {
          "model_module": "@jupyter-widgets/controls",
          "model_name": "FloatProgressModel",
          "model_module_version": "1.5.0",
          "state": {
            "_dom_classes": [],
            "_model_module": "@jupyter-widgets/controls",
            "_model_module_version": "1.5.0",
            "_model_name": "FloatProgressModel",
            "_view_count": null,
            "_view_module": "@jupyter-widgets/controls",
            "_view_module_version": "1.5.0",
            "_view_name": "ProgressView",
            "bar_style": "",
            "description": "",
            "description_tooltip": null,
            "layout": "IPY_MODEL_b6769320cc044866b3ea45db641aa534",
            "max": 1,
            "min": 0,
            "orientation": "horizontal",
            "style": "IPY_MODEL_e5bff8c517284c73bf01ba3020857663",
            "value": 1
          }
        },
        "cf4adef4aa9146fea7376f25d33a8ee3": {
          "model_module": "@jupyter-widgets/base",
          "model_name": "LayoutModel",
          "model_module_version": "1.2.0",
          "state": {
            "_model_module": "@jupyter-widgets/base",
            "_model_module_version": "1.2.0",
            "_model_name": "LayoutModel",
            "_view_count": null,
            "_view_module": "@jupyter-widgets/base",
            "_view_module_version": "1.2.0",
            "_view_name": "LayoutView",
            "align_content": null,
            "align_items": null,
            "align_self": null,
            "border": null,
            "bottom": null,
            "display": null,
            "flex": null,
            "flex_flow": null,
            "grid_area": null,
            "grid_auto_columns": null,
            "grid_auto_flow": null,
            "grid_auto_rows": null,
            "grid_column": null,
            "grid_gap": null,
            "grid_row": null,
            "grid_template_areas": null,
            "grid_template_columns": null,
            "grid_template_rows": null,
            "height": null,
            "justify_content": null,
            "justify_items": null,
            "left": null,
            "margin": null,
            "max_height": null,
            "max_width": null,
            "min_height": null,
            "min_width": null,
            "object_fit": null,
            "object_position": null,
            "order": null,
            "overflow": null,
            "overflow_x": null,
            "overflow_y": null,
            "padding": null,
            "right": null,
            "top": null,
            "visibility": null,
            "width": null
          }
        },
        "4178f19ecdb241fb91a1a75b66bb936e": {
          "model_module": "@jupyter-widgets/base",
          "model_name": "LayoutModel",
          "model_module_version": "1.2.0",
          "state": {
            "_model_module": "@jupyter-widgets/base",
            "_model_module_version": "1.2.0",
            "_model_name": "LayoutModel",
            "_view_count": null,
            "_view_module": "@jupyter-widgets/base",
            "_view_module_version": "1.2.0",
            "_view_name": "LayoutView",
            "align_content": null,
            "align_items": null,
            "align_self": null,
            "border": null,
            "bottom": null,
            "display": null,
            "flex": null,
            "flex_flow": null,
            "grid_area": null,
            "grid_auto_columns": null,
            "grid_auto_flow": null,
            "grid_auto_rows": null,
            "grid_column": null,
            "grid_gap": null,
            "grid_row": null,
            "grid_template_areas": null,
            "grid_template_columns": null,
            "grid_template_rows": null,
            "height": null,
            "justify_content": null,
            "justify_items": null,
            "left": null,
            "margin": null,
            "max_height": null,
            "max_width": null,
            "min_height": null,
            "min_width": null,
            "object_fit": null,
            "object_position": null,
            "order": null,
            "overflow": null,
            "overflow_x": null,
            "overflow_y": null,
            "padding": null,
            "right": null,
            "top": null,
            "visibility": null,
            "width": null
          }
        },
        "dd468e314e624a14930af933462532f8": {
          "model_module": "@jupyter-widgets/controls",
          "model_name": "DescriptionStyleModel",
          "model_module_version": "1.5.0",
          "state": {
            "_model_module": "@jupyter-widgets/controls",
            "_model_module_version": "1.5.0",
            "_model_name": "DescriptionStyleModel",
            "_view_count": null,
            "_view_module": "@jupyter-widgets/base",
            "_view_module_version": "1.2.0",
            "_view_name": "StyleView",
            "description_width": ""
          }
        },
        "b6769320cc044866b3ea45db641aa534": {
          "model_module": "@jupyter-widgets/base",
          "model_name": "LayoutModel",
          "model_module_version": "1.2.0",
          "state": {
            "_model_module": "@jupyter-widgets/base",
            "_model_module_version": "1.2.0",
            "_model_name": "LayoutModel",
            "_view_count": null,
            "_view_module": "@jupyter-widgets/base",
            "_view_module_version": "1.2.0",
            "_view_name": "LayoutView",
            "align_content": null,
            "align_items": null,
            "align_self": null,
            "border": null,
            "bottom": null,
            "display": null,
            "flex": null,
            "flex_flow": null,
            "grid_area": null,
            "grid_auto_columns": null,
            "grid_auto_flow": null,
            "grid_auto_rows": null,
            "grid_column": null,
            "grid_gap": null,
            "grid_row": null,
            "grid_template_areas": null,
            "grid_template_columns": null,
            "grid_template_rows": null,
            "height": null,
            "justify_content": null,
            "justify_items": null,
            "left": null,
            "margin": null,
            "max_height": null,
            "max_width": null,
            "min_height": null,
            "min_width": null,
            "object_fit": null,
            "object_position": null,
            "order": null,
            "overflow": null,
            "overflow_x": null,
            "overflow_y": null,
            "padding": null,
            "right": null,
            "top": null,
            "visibility": null,
            "width": null
          }
        },
        "e5bff8c517284c73bf01ba3020857663": {
          "model_module": "@jupyter-widgets/controls",
          "model_name": "ProgressStyleModel",
          "model_module_version": "1.5.0",
          "state": {
            "_model_module": "@jupyter-widgets/controls",
            "_model_module_version": "1.5.0",
            "_model_name": "ProgressStyleModel",
            "_view_count": null,
            "_view_module": "@jupyter-widgets/base",
            "_view_module_version": "1.2.0",
            "_view_name": "StyleView",
            "bar_color": null,
            "description_width": ""
          }
        }
      }
    }
  },
  "nbformat": 4,
  "nbformat_minor": 0
}